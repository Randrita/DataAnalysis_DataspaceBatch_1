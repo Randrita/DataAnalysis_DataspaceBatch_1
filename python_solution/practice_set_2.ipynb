{
 "cells": [
  {
   "cell_type": "code",
   "execution_count": 1,
   "metadata": {},
   "outputs": [
    {
     "name": "stdout",
     "output_type": "stream",
     "text": [
      "5\n",
      "3.14\n"
     ]
    }
   ],
   "source": [
    "#Data Types and Variables:\n",
    "\n",
    "#1. Declare an integer variable x with the value 5. Print the value of x.\n",
    "\n",
    "x=5\n",
    "print(x)\n",
    "\n",
    "#2. Create a floating-point variable y with the value 3.14. Print the value of y.\n",
    "\n",
    "y=3.14\n",
    "print(y)"
   ]
  },
  {
   "cell_type": "code",
   "execution_count": 2,
   "metadata": {},
   "outputs": [
    {
     "name": "stdout",
     "output_type": "stream",
     "text": [
      "123\n",
      "<class 'int'>\n",
      "<class 'str'>\n",
      "42\n"
     ]
    }
   ],
   "source": [
    "#Typecasting:\n",
    "#3.  Convert the string \"123\" to an integer and store it in a variable num.\n",
    "     \n",
    "s=\"123\"\n",
    "num=int(s)\n",
    "print(num)\n",
    "print(type(num))\n",
    "\n",
    "\n",
    "#4. Convert the integer 42 to a string and store it in a variable str_num\n",
    "i=42\n",
    "str_num=str(i)\n",
    "print(type(str_num))\n",
    "print(str_num)\n"
   ]
  },
  {
   "cell_type": "code",
   "execution_count": null,
   "metadata": {},
   "outputs": [],
   "source": []
  }
 ],
 "metadata": {
  "kernelspec": {
   "display_name": "base",
   "language": "python",
   "name": "python3"
  },
  "language_info": {
   "codemirror_mode": {
    "name": "ipython",
    "version": 3
   },
   "file_extension": ".py",
   "mimetype": "text/x-python",
   "name": "python",
   "nbconvert_exporter": "python",
   "pygments_lexer": "ipython3",
   "version": "3.8.8"
  },
  "orig_nbformat": 4
 },
 "nbformat": 4,
 "nbformat_minor": 2
}

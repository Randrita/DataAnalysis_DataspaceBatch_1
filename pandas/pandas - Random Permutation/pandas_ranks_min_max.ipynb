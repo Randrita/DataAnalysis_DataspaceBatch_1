{
 "cells": [
  {
   "cell_type": "code",
   "execution_count": 2,
   "metadata": {},
   "outputs": [],
   "source": [
    "import pandas as pd\n",
    "import numpy as np\n",
    "\n",
    "popularity = {\"character\":[\"spiderman\", \"spiderman\",\"superman\", \"superman\", \"ironman\", \"ironman\",\"ironman\",\"jerry\",\"jerry\", \"tom\", \"tom\"],\n",
    "             \"popularity\":[\"first\",\"second\",\"third\",\"fourth\",\"fifth\",\"fifth\",\"first\",\"second\",\"third\",\"fourth\",\"fifth\"],\n",
    "             \"score1\":[60,57,46,59,44,45,60,57,43,59,47],\n",
    "             \"score2\":[60,57,46,59,45,47,60,57,42,59,47],\n",
    "             \"gender\":['male','male','male','male','male','male','male','female','female','male','male']}\n",
    "\n",
    "\n",
    "dataframe1 = pd.DataFrame(popularity, columns=pd.Index(['character','popularity','score1','score2','gender'], name='Attributes'))"
   ]
  },
  {
   "cell_type": "code",
   "execution_count": 5,
   "metadata": {},
   "outputs": [
    {
     "data": {
      "text/html": [
       "<div>\n",
       "<style scoped>\n",
       "    .dataframe tbody tr th:only-of-type {\n",
       "        vertical-align: middle;\n",
       "    }\n",
       "\n",
       "    .dataframe tbody tr th {\n",
       "        vertical-align: top;\n",
       "    }\n",
       "\n",
       "    .dataframe thead th {\n",
       "        text-align: right;\n",
       "    }\n",
       "</style>\n",
       "<table border=\"1\" class=\"dataframe\">\n",
       "  <thead>\n",
       "    <tr style=\"text-align: right;\">\n",
       "      <th>Attributes</th>\n",
       "      <th>character</th>\n",
       "      <th>popularity</th>\n",
       "      <th>score1</th>\n",
       "      <th>score2</th>\n",
       "      <th>gender</th>\n",
       "    </tr>\n",
       "  </thead>\n",
       "  <tbody>\n",
       "    <tr>\n",
       "      <td>0</td>\n",
       "      <td>spiderman</td>\n",
       "      <td>first</td>\n",
       "      <td>60</td>\n",
       "      <td>60</td>\n",
       "      <td>male</td>\n",
       "    </tr>\n",
       "    <tr>\n",
       "      <td>1</td>\n",
       "      <td>spiderman</td>\n",
       "      <td>second</td>\n",
       "      <td>57</td>\n",
       "      <td>57</td>\n",
       "      <td>male</td>\n",
       "    </tr>\n",
       "    <tr>\n",
       "      <td>2</td>\n",
       "      <td>superman</td>\n",
       "      <td>third</td>\n",
       "      <td>46</td>\n",
       "      <td>46</td>\n",
       "      <td>male</td>\n",
       "    </tr>\n",
       "    <tr>\n",
       "      <td>3</td>\n",
       "      <td>superman</td>\n",
       "      <td>fourth</td>\n",
       "      <td>59</td>\n",
       "      <td>59</td>\n",
       "      <td>male</td>\n",
       "    </tr>\n",
       "    <tr>\n",
       "      <td>4</td>\n",
       "      <td>ironman</td>\n",
       "      <td>fifth</td>\n",
       "      <td>44</td>\n",
       "      <td>45</td>\n",
       "      <td>male</td>\n",
       "    </tr>\n",
       "    <tr>\n",
       "      <td>5</td>\n",
       "      <td>ironman</td>\n",
       "      <td>fifth</td>\n",
       "      <td>45</td>\n",
       "      <td>47</td>\n",
       "      <td>male</td>\n",
       "    </tr>\n",
       "    <tr>\n",
       "      <td>6</td>\n",
       "      <td>ironman</td>\n",
       "      <td>first</td>\n",
       "      <td>60</td>\n",
       "      <td>60</td>\n",
       "      <td>male</td>\n",
       "    </tr>\n",
       "    <tr>\n",
       "      <td>7</td>\n",
       "      <td>jerry</td>\n",
       "      <td>second</td>\n",
       "      <td>57</td>\n",
       "      <td>57</td>\n",
       "      <td>female</td>\n",
       "    </tr>\n",
       "    <tr>\n",
       "      <td>8</td>\n",
       "      <td>jerry</td>\n",
       "      <td>third</td>\n",
       "      <td>43</td>\n",
       "      <td>42</td>\n",
       "      <td>female</td>\n",
       "    </tr>\n",
       "    <tr>\n",
       "      <td>9</td>\n",
       "      <td>tom</td>\n",
       "      <td>fourth</td>\n",
       "      <td>59</td>\n",
       "      <td>59</td>\n",
       "      <td>male</td>\n",
       "    </tr>\n",
       "    <tr>\n",
       "      <td>10</td>\n",
       "      <td>tom</td>\n",
       "      <td>fifth</td>\n",
       "      <td>47</td>\n",
       "      <td>47</td>\n",
       "      <td>male</td>\n",
       "    </tr>\n",
       "  </tbody>\n",
       "</table>\n",
       "</div>"
      ],
      "text/plain": [
       "Attributes  character popularity  score1  score2  gender\n",
       "0           spiderman      first      60      60    male\n",
       "1           spiderman     second      57      57    male\n",
       "2            superman      third      46      46    male\n",
       "3            superman     fourth      59      59    male\n",
       "4             ironman      fifth      44      45    male\n",
       "5             ironman      fifth      45      47    male\n",
       "6             ironman      first      60      60    male\n",
       "7               jerry     second      57      57  female\n",
       "8               jerry      third      43      42  female\n",
       "9                 tom     fourth      59      59    male\n",
       "10                tom      fifth      47      47    male"
      ]
     },
     "execution_count": 5,
     "metadata": {},
     "output_type": "execute_result"
    }
   ],
   "source": [
    "dataframe1"
   ]
  },
  {
   "cell_type": "code",
   "execution_count": 7,
   "metadata": {},
   "outputs": [
    {
     "data": {
      "text/plain": [
       "0      1.5\n",
       "1      5.5\n",
       "2      8.0\n",
       "3      3.5\n",
       "4     10.0\n",
       "5      9.0\n",
       "6      1.5\n",
       "7      5.5\n",
       "8     11.0\n",
       "9      3.5\n",
       "10     7.0\n",
       "Name: score1, dtype: float64"
      ]
     },
     "execution_count": 7,
     "metadata": {},
     "output_type": "execute_result"
    }
   ],
   "source": [
    "#rank method to generate ranks based on attribute\n",
    "dataframe1['score1'].rank(ascending=False)"
   ]
  },
  {
   "cell_type": "code",
   "execution_count": 8,
   "metadata": {},
   "outputs": [],
   "source": [
    "dataframe1['rank1'] = dataframe1['score1'].rank(ascending=False)"
   ]
  },
  {
   "cell_type": "code",
   "execution_count": 9,
   "metadata": {},
   "outputs": [
    {
     "data": {
      "text/html": [
       "<div>\n",
       "<style scoped>\n",
       "    .dataframe tbody tr th:only-of-type {\n",
       "        vertical-align: middle;\n",
       "    }\n",
       "\n",
       "    .dataframe tbody tr th {\n",
       "        vertical-align: top;\n",
       "    }\n",
       "\n",
       "    .dataframe thead th {\n",
       "        text-align: right;\n",
       "    }\n",
       "</style>\n",
       "<table border=\"1\" class=\"dataframe\">\n",
       "  <thead>\n",
       "    <tr style=\"text-align: right;\">\n",
       "      <th>Attributes</th>\n",
       "      <th>character</th>\n",
       "      <th>popularity</th>\n",
       "      <th>score1</th>\n",
       "      <th>score2</th>\n",
       "      <th>gender</th>\n",
       "      <th>rank1</th>\n",
       "    </tr>\n",
       "  </thead>\n",
       "  <tbody>\n",
       "    <tr>\n",
       "      <td>0</td>\n",
       "      <td>spiderman</td>\n",
       "      <td>first</td>\n",
       "      <td>60</td>\n",
       "      <td>60</td>\n",
       "      <td>male</td>\n",
       "      <td>1.5</td>\n",
       "    </tr>\n",
       "    <tr>\n",
       "      <td>1</td>\n",
       "      <td>spiderman</td>\n",
       "      <td>second</td>\n",
       "      <td>57</td>\n",
       "      <td>57</td>\n",
       "      <td>male</td>\n",
       "      <td>5.5</td>\n",
       "    </tr>\n",
       "    <tr>\n",
       "      <td>2</td>\n",
       "      <td>superman</td>\n",
       "      <td>third</td>\n",
       "      <td>46</td>\n",
       "      <td>46</td>\n",
       "      <td>male</td>\n",
       "      <td>8.0</td>\n",
       "    </tr>\n",
       "    <tr>\n",
       "      <td>3</td>\n",
       "      <td>superman</td>\n",
       "      <td>fourth</td>\n",
       "      <td>59</td>\n",
       "      <td>59</td>\n",
       "      <td>male</td>\n",
       "      <td>3.5</td>\n",
       "    </tr>\n",
       "    <tr>\n",
       "      <td>4</td>\n",
       "      <td>ironman</td>\n",
       "      <td>fifth</td>\n",
       "      <td>44</td>\n",
       "      <td>45</td>\n",
       "      <td>male</td>\n",
       "      <td>10.0</td>\n",
       "    </tr>\n",
       "    <tr>\n",
       "      <td>5</td>\n",
       "      <td>ironman</td>\n",
       "      <td>fifth</td>\n",
       "      <td>45</td>\n",
       "      <td>47</td>\n",
       "      <td>male</td>\n",
       "      <td>9.0</td>\n",
       "    </tr>\n",
       "    <tr>\n",
       "      <td>6</td>\n",
       "      <td>ironman</td>\n",
       "      <td>first</td>\n",
       "      <td>60</td>\n",
       "      <td>60</td>\n",
       "      <td>male</td>\n",
       "      <td>1.5</td>\n",
       "    </tr>\n",
       "    <tr>\n",
       "      <td>7</td>\n",
       "      <td>jerry</td>\n",
       "      <td>second</td>\n",
       "      <td>57</td>\n",
       "      <td>57</td>\n",
       "      <td>female</td>\n",
       "      <td>5.5</td>\n",
       "    </tr>\n",
       "    <tr>\n",
       "      <td>8</td>\n",
       "      <td>jerry</td>\n",
       "      <td>third</td>\n",
       "      <td>43</td>\n",
       "      <td>42</td>\n",
       "      <td>female</td>\n",
       "      <td>11.0</td>\n",
       "    </tr>\n",
       "    <tr>\n",
       "      <td>9</td>\n",
       "      <td>tom</td>\n",
       "      <td>fourth</td>\n",
       "      <td>59</td>\n",
       "      <td>59</td>\n",
       "      <td>male</td>\n",
       "      <td>3.5</td>\n",
       "    </tr>\n",
       "    <tr>\n",
       "      <td>10</td>\n",
       "      <td>tom</td>\n",
       "      <td>fifth</td>\n",
       "      <td>47</td>\n",
       "      <td>47</td>\n",
       "      <td>male</td>\n",
       "      <td>7.0</td>\n",
       "    </tr>\n",
       "  </tbody>\n",
       "</table>\n",
       "</div>"
      ],
      "text/plain": [
       "Attributes  character popularity  score1  score2  gender  rank1\n",
       "0           spiderman      first      60      60    male    1.5\n",
       "1           spiderman     second      57      57    male    5.5\n",
       "2            superman      third      46      46    male    8.0\n",
       "3            superman     fourth      59      59    male    3.5\n",
       "4             ironman      fifth      44      45    male   10.0\n",
       "5             ironman      fifth      45      47    male    9.0\n",
       "6             ironman      first      60      60    male    1.5\n",
       "7               jerry     second      57      57  female    5.5\n",
       "8               jerry      third      43      42  female   11.0\n",
       "9                 tom     fourth      59      59    male    3.5\n",
       "10                tom      fifth      47      47    male    7.0"
      ]
     },
     "execution_count": 9,
     "metadata": {},
     "output_type": "execute_result"
    }
   ],
   "source": [
    "dataframe1"
   ]
  },
  {
   "cell_type": "code",
   "execution_count": 12,
   "metadata": {},
   "outputs": [
    {
     "data": {
      "text/plain": [
       "8"
      ]
     },
     "execution_count": 12,
     "metadata": {},
     "output_type": "execute_result"
    }
   ],
   "source": [
    "#get the minimum value index\n",
    "dataframe1['score1'].idxmin()"
   ]
  },
  {
   "cell_type": "code",
   "execution_count": 13,
   "metadata": {},
   "outputs": [
    {
     "data": {
      "text/plain": [
       "43"
      ]
     },
     "execution_count": 13,
     "metadata": {},
     "output_type": "execute_result"
    }
   ],
   "source": [
    "dataframe1['score1'][dataframe1['score1'].idxmin()]"
   ]
  },
  {
   "cell_type": "code",
   "execution_count": 14,
   "metadata": {},
   "outputs": [
    {
     "data": {
      "text/plain": [
       "0"
      ]
     },
     "execution_count": 14,
     "metadata": {},
     "output_type": "execute_result"
    }
   ],
   "source": [
    "dataframe1['score1'].idxmax()"
   ]
  },
  {
   "cell_type": "code",
   "execution_count": 15,
   "metadata": {},
   "outputs": [
    {
     "data": {
      "text/plain": [
       "60"
      ]
     },
     "execution_count": 15,
     "metadata": {},
     "output_type": "execute_result"
    }
   ],
   "source": [
    "dataframe1['score1'][dataframe1['score1'].idxmax()]"
   ]
  },
  {
   "cell_type": "code",
   "execution_count": null,
   "metadata": {},
   "outputs": [],
   "source": []
  }
 ],
 "metadata": {
  "kernelspec": {
   "display_name": "Python 3",
   "language": "python",
   "name": "python3"
  },
  "language_info": {
   "codemirror_mode": {
    "name": "ipython",
    "version": 3
   },
   "file_extension": ".py",
   "mimetype": "text/x-python",
   "name": "python",
   "nbconvert_exporter": "python",
   "pygments_lexer": "ipython3",
   "version": "3.7.4"
  }
 },
 "nbformat": 4,
 "nbformat_minor": 2
}

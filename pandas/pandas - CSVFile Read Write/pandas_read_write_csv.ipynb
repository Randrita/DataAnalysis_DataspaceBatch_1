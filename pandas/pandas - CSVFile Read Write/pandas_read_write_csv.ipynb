{
 "cells": [
  {
   "cell_type": "code",
   "execution_count": 2,
   "metadata": {},
   "outputs": [
    {
     "name": "stdout",
     "output_type": "stream",
     "text": [
      "      0    1    2    3           4\n",
      "0   5.1  3.5  1.4  0.2      setosa\n",
      "1   4.9  3.0  1.4  0.2      setosa\n",
      "2   4.7  3.2  1.3  0.2      setosa\n",
      "3   4.6  3.1  1.5  0.2      setosa\n",
      "4   5.0  3.6  1.4  0.2      setosa\n",
      "..  ...  ...  ...  ...         ...\n",
      "95  5.7  3.0  4.2  1.2  versicolor\n",
      "96  5.7  2.9  4.2  1.3  versicolor\n",
      "97  6.2  2.9  4.3  1.3  versicolor\n",
      "98  5.1  2.5  3.0  1.1  versicolor\n",
      "99  5.7  2.8  4.1  1.3  versicolor\n",
      "\n",
      "[100 rows x 5 columns]\n"
     ]
    }
   ],
   "source": [
    "import pandas as pd\n",
    "import numpy as np\n",
    "\n",
    "#reading the csv\n",
    "dataframe1 = pd.read_csv('iris.data.csv', header=None, sep=',', nrows=100)\n",
    "dataframe1.head()\n",
    "print(dataframe1)\n",
    "\n"
   ]
  },
  {
   "cell_type": "code",
   "execution_count": 17,
   "metadata": {},
   "outputs": [
    {
     "name": "stdout",
     "output_type": "stream",
     "text": [
      "      0    1    2    3           4\n",
      "96  5.7  2.9  4.2  1.3  versicolor\n",
      "97  6.2  2.9  4.3  1.3  versicolor\n",
      "98  5.1  2.5  3.0  1.1  versicolor\n",
      "99  5.7  2.8  4.1  1.3  versicolor\n"
     ]
    }
   ],
   "source": [
    "print(dataframe1[96:])"
   ]
  },
  {
   "cell_type": "code",
   "execution_count": 5,
   "metadata": {},
   "outputs": [],
   "source": [
    "#writing the csv\n",
    "\n",
    "popularity = {\"character\":[\"spiderman\", \"spiderman\",\"superman\", \"superman\", \"ironman\",\"ironman\",\"jerry\",\"jerry\", \"tom\", \"tom\"],\n",
    "             \"popularity\":[\"first\",\"second\",\"third\",\"fourth\",\"fifth\",\"first\",\"second\",\"third\",\"fourth\",\"fifth\"],\n",
    "             \"score1\":[60,57,46,59,47,60,57,46,59,47],\n",
    "             \"score2\":[60,57,46,59,47,60,57,46,59,47]}\n",
    "\n",
    "dataframe2 = pd.DataFrame(popularity)\n",
    "dataframe2.to_csv('popularity.csv', index=False, sep=',')\n",
    "\n"
   ]
  },
  {
   "cell_type": "code",
   "execution_count": null,
   "metadata": {},
   "outputs": [],
   "source": []
  }
 ],
 "metadata": {
  "kernelspec": {
   "display_name": "Python 3",
   "language": "python",
   "name": "python3"
  },
  "language_info": {
   "codemirror_mode": {
    "name": "ipython",
    "version": 3
   },
   "file_extension": ".py",
   "mimetype": "text/x-python",
   "name": "python",
   "nbconvert_exporter": "python",
   "pygments_lexer": "ipython3",
   "version": "3.7.4"
  }
 },
 "nbformat": 4,
 "nbformat_minor": 2
}

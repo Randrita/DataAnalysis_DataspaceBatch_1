{
 "cells": [
  {
   "cell_type": "code",
   "execution_count": 4,
   "metadata": {},
   "outputs": [
    {
     "name": "stdout",
     "output_type": "stream",
     "text": [
      "                      character popularity  score1  score2\n",
      "character popularity                                      \n",
      "spiderman first       spiderman      first      60      60\n",
      "          second      spiderman     second      57      57\n",
      "superman  third        superman      third      46      46\n",
      "          fourth       superman     fourth      59      59\n",
      "ironman   fifth         ironman      fifth      47      47\n",
      "          first         ironman      first      60      60\n",
      "jerry     second          jerry     second      57      57\n",
      "          third           jerry      third      46      46\n",
      "tom       fourth            tom     fourth      59      59\n",
      "          fifth             tom      fifth      47      47\n"
     ]
    }
   ],
   "source": [
    "import pandas as pd\n",
    "import numpy as np\n",
    "\n",
    "\n",
    "popularity = {\"character\":[\"spiderman\", \"spiderman\",\"superman\", \"superman\", \"ironman\",\"ironman\",\"jerry\",\"jerry\", \"tom\", \"tom\"],\n",
    "             \"popularity\":[\"first\",\"second\",\"third\",\"fourth\",\"fifth\",\"first\",\"second\",\"third\",\"fourth\",\"fifth\"],\n",
    "             \"score1\":[60,57,46,59,47,60,57,46,59,47],\n",
    "             \"score2\":[60,57,46,59,47,60,57,46,59,47]}\n",
    "\n",
    "dataframe1 = pd.DataFrame(popularity)\n",
    "dataframe1\n",
    "dataframe2  = dataframe1.set_index(['character','popularity'], drop=False)\n",
    "print(dataframe2)\n"
   ]
  },
  {
   "cell_type": "code",
   "execution_count": null,
   "metadata": {},
   "outputs": [],
   "source": []
  }
 ],
 "metadata": {
  "kernelspec": {
   "display_name": "Python 3",
   "language": "python",
   "name": "python3"
  },
  "language_info": {
   "codemirror_mode": {
    "name": "ipython",
    "version": 3
   },
   "file_extension": ".py",
   "mimetype": "text/x-python",
   "name": "python",
   "nbconvert_exporter": "python",
   "pygments_lexer": "ipython3",
   "version": "3.7.4"
  }
 },
 "nbformat": 4,
 "nbformat_minor": 2
}

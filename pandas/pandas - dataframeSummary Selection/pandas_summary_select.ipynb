{
 "cells": [
  {
   "cell_type": "code",
   "execution_count": 55,
   "metadata": {},
   "outputs": [
    {
     "data": {
      "text/html": [
       "<div>\n",
       "<style scoped>\n",
       "    .dataframe tbody tr th:only-of-type {\n",
       "        vertical-align: middle;\n",
       "    }\n",
       "\n",
       "    .dataframe tbody tr th {\n",
       "        vertical-align: top;\n",
       "    }\n",
       "\n",
       "    .dataframe thead th {\n",
       "        text-align: right;\n",
       "    }\n",
       "</style>\n",
       "<table border=\"1\" class=\"dataframe\">\n",
       "  <thead>\n",
       "    <tr style=\"text-align: right;\">\n",
       "      <th></th>\n",
       "      <th>1st</th>\n",
       "      <th>2nd</th>\n",
       "      <th>3rd</th>\n",
       "      <th>4th</th>\n",
       "      <th>5th</th>\n",
       "    </tr>\n",
       "  </thead>\n",
       "  <tbody>\n",
       "    <tr>\n",
       "      <td>one</td>\n",
       "      <td>0.393611</td>\n",
       "      <td>0.761181</td>\n",
       "      <td>-0.767408</td>\n",
       "      <td>0.121520</td>\n",
       "      <td>1.258053</td>\n",
       "    </tr>\n",
       "    <tr>\n",
       "      <td>two</td>\n",
       "      <td>-1.070712</td>\n",
       "      <td>-1.186891</td>\n",
       "      <td>-0.625004</td>\n",
       "      <td>1.968217</td>\n",
       "      <td>-1.834055</td>\n",
       "    </tr>\n",
       "    <tr>\n",
       "      <td>three</td>\n",
       "      <td>0.621228</td>\n",
       "      <td>-1.384585</td>\n",
       "      <td>1.225896</td>\n",
       "      <td>-0.845472</td>\n",
       "      <td>-0.373426</td>\n",
       "    </tr>\n",
       "    <tr>\n",
       "      <td>four</td>\n",
       "      <td>-0.701910</td>\n",
       "      <td>0.011897</td>\n",
       "      <td>0.368380</td>\n",
       "      <td>-0.169892</td>\n",
       "      <td>0.330123</td>\n",
       "    </tr>\n",
       "    <tr>\n",
       "      <td>five</td>\n",
       "      <td>-1.226038</td>\n",
       "      <td>-0.181238</td>\n",
       "      <td>1.455589</td>\n",
       "      <td>-2.830806</td>\n",
       "      <td>-2.481992</td>\n",
       "    </tr>\n",
       "  </tbody>\n",
       "</table>\n",
       "</div>"
      ],
      "text/plain": [
       "            1st       2nd       3rd       4th       5th\n",
       "one    0.393611  0.761181 -0.767408  0.121520  1.258053\n",
       "two   -1.070712 -1.186891 -0.625004  1.968217 -1.834055\n",
       "three  0.621228 -1.384585  1.225896 -0.845472 -0.373426\n",
       "four  -0.701910  0.011897  0.368380 -0.169892  0.330123\n",
       "five  -1.226038 -0.181238  1.455589 -2.830806 -2.481992"
      ]
     },
     "execution_count": 55,
     "metadata": {},
     "output_type": "execute_result"
    }
   ],
   "source": [
    "import pandas as pd\n",
    "import numpy as np\n",
    "\n",
    "dataframe3 = pd.DataFrame(np.random.randn(25).reshape(5,5),index=['one','two','three','four','five'],columns=['1st','2nd','3rd','4th','5th'])\n",
    "dataframe3"
   ]
  },
  {
   "cell_type": "code",
   "execution_count": 56,
   "metadata": {},
   "outputs": [
    {
     "data": {
      "text/html": [
       "<div>\n",
       "<style scoped>\n",
       "    .dataframe tbody tr th:only-of-type {\n",
       "        vertical-align: middle;\n",
       "    }\n",
       "\n",
       "    .dataframe tbody tr th {\n",
       "        vertical-align: top;\n",
       "    }\n",
       "\n",
       "    .dataframe thead th {\n",
       "        text-align: right;\n",
       "    }\n",
       "</style>\n",
       "<table border=\"1\" class=\"dataframe\">\n",
       "  <thead>\n",
       "    <tr style=\"text-align: right;\">\n",
       "      <th></th>\n",
       "      <th>1st</th>\n",
       "      <th>2nd</th>\n",
       "      <th>3rd</th>\n",
       "      <th>4th</th>\n",
       "      <th>5th</th>\n",
       "    </tr>\n",
       "  </thead>\n",
       "  <tbody>\n",
       "    <tr>\n",
       "      <td>count</td>\n",
       "      <td>5.000000</td>\n",
       "      <td>5.000000</td>\n",
       "      <td>5.000000</td>\n",
       "      <td>5.000000</td>\n",
       "      <td>5.000000</td>\n",
       "    </tr>\n",
       "    <tr>\n",
       "      <td>mean</td>\n",
       "      <td>-0.396764</td>\n",
       "      <td>-0.395927</td>\n",
       "      <td>0.331491</td>\n",
       "      <td>-0.351286</td>\n",
       "      <td>-0.620259</td>\n",
       "    </tr>\n",
       "    <tr>\n",
       "      <td>std</td>\n",
       "      <td>0.850884</td>\n",
       "      <td>0.888028</td>\n",
       "      <td>1.023154</td>\n",
       "      <td>1.734127</td>\n",
       "      <td>1.535542</td>\n",
       "    </tr>\n",
       "    <tr>\n",
       "      <td>min</td>\n",
       "      <td>-1.226038</td>\n",
       "      <td>-1.384585</td>\n",
       "      <td>-0.767408</td>\n",
       "      <td>-2.830806</td>\n",
       "      <td>-2.481992</td>\n",
       "    </tr>\n",
       "    <tr>\n",
       "      <td>25%</td>\n",
       "      <td>-1.070712</td>\n",
       "      <td>-1.186891</td>\n",
       "      <td>-0.625004</td>\n",
       "      <td>-0.845472</td>\n",
       "      <td>-1.834055</td>\n",
       "    </tr>\n",
       "    <tr>\n",
       "      <td>50%</td>\n",
       "      <td>-0.701910</td>\n",
       "      <td>-0.181238</td>\n",
       "      <td>0.368380</td>\n",
       "      <td>-0.169892</td>\n",
       "      <td>-0.373426</td>\n",
       "    </tr>\n",
       "    <tr>\n",
       "      <td>75%</td>\n",
       "      <td>0.393611</td>\n",
       "      <td>0.011897</td>\n",
       "      <td>1.225896</td>\n",
       "      <td>0.121520</td>\n",
       "      <td>0.330123</td>\n",
       "    </tr>\n",
       "    <tr>\n",
       "      <td>max</td>\n",
       "      <td>0.621228</td>\n",
       "      <td>0.761181</td>\n",
       "      <td>1.455589</td>\n",
       "      <td>1.968217</td>\n",
       "      <td>1.258053</td>\n",
       "    </tr>\n",
       "  </tbody>\n",
       "</table>\n",
       "</div>"
      ],
      "text/plain": [
       "            1st       2nd       3rd       4th       5th\n",
       "count  5.000000  5.000000  5.000000  5.000000  5.000000\n",
       "mean  -0.396764 -0.395927  0.331491 -0.351286 -0.620259\n",
       "std    0.850884  0.888028  1.023154  1.734127  1.535542\n",
       "min   -1.226038 -1.384585 -0.767408 -2.830806 -2.481992\n",
       "25%   -1.070712 -1.186891 -0.625004 -0.845472 -1.834055\n",
       "50%   -0.701910 -0.181238  0.368380 -0.169892 -0.373426\n",
       "75%    0.393611  0.011897  1.225896  0.121520  0.330123\n",
       "max    0.621228  0.761181  1.455589  1.968217  1.258053"
      ]
     },
     "execution_count": 56,
     "metadata": {},
     "output_type": "execute_result"
    }
   ],
   "source": [
    "#dataframe summary methods\n",
    "dataframe3.describe()"
   ]
  },
  {
   "cell_type": "code",
   "execution_count": 57,
   "metadata": {},
   "outputs": [
    {
     "data": {
      "text/html": [
       "<div>\n",
       "<style scoped>\n",
       "    .dataframe tbody tr th:only-of-type {\n",
       "        vertical-align: middle;\n",
       "    }\n",
       "\n",
       "    .dataframe tbody tr th {\n",
       "        vertical-align: top;\n",
       "    }\n",
       "\n",
       "    .dataframe thead th {\n",
       "        text-align: right;\n",
       "    }\n",
       "</style>\n",
       "<table border=\"1\" class=\"dataframe\">\n",
       "  <thead>\n",
       "    <tr style=\"text-align: right;\">\n",
       "      <th></th>\n",
       "      <th>one</th>\n",
       "      <th>two</th>\n",
       "      <th>three</th>\n",
       "      <th>four</th>\n",
       "      <th>five</th>\n",
       "    </tr>\n",
       "  </thead>\n",
       "  <tbody>\n",
       "    <tr>\n",
       "      <td>1st</td>\n",
       "      <td>0.393611</td>\n",
       "      <td>-1.070712</td>\n",
       "      <td>0.621228</td>\n",
       "      <td>-0.701910</td>\n",
       "      <td>-1.226038</td>\n",
       "    </tr>\n",
       "    <tr>\n",
       "      <td>2nd</td>\n",
       "      <td>0.761181</td>\n",
       "      <td>-1.186891</td>\n",
       "      <td>-1.384585</td>\n",
       "      <td>0.011897</td>\n",
       "      <td>-0.181238</td>\n",
       "    </tr>\n",
       "    <tr>\n",
       "      <td>3rd</td>\n",
       "      <td>-0.767408</td>\n",
       "      <td>-0.625004</td>\n",
       "      <td>1.225896</td>\n",
       "      <td>0.368380</td>\n",
       "      <td>1.455589</td>\n",
       "    </tr>\n",
       "    <tr>\n",
       "      <td>4th</td>\n",
       "      <td>0.121520</td>\n",
       "      <td>1.968217</td>\n",
       "      <td>-0.845472</td>\n",
       "      <td>-0.169892</td>\n",
       "      <td>-2.830806</td>\n",
       "    </tr>\n",
       "    <tr>\n",
       "      <td>5th</td>\n",
       "      <td>1.258053</td>\n",
       "      <td>-1.834055</td>\n",
       "      <td>-0.373426</td>\n",
       "      <td>0.330123</td>\n",
       "      <td>-2.481992</td>\n",
       "    </tr>\n",
       "  </tbody>\n",
       "</table>\n",
       "</div>"
      ],
      "text/plain": [
       "          one       two     three      four      five\n",
       "1st  0.393611 -1.070712  0.621228 -0.701910 -1.226038\n",
       "2nd  0.761181 -1.186891 -1.384585  0.011897 -0.181238\n",
       "3rd -0.767408 -0.625004  1.225896  0.368380  1.455589\n",
       "4th  0.121520  1.968217 -0.845472 -0.169892 -2.830806\n",
       "5th  1.258053 -1.834055 -0.373426  0.330123 -2.481992"
      ]
     },
     "execution_count": 57,
     "metadata": {},
     "output_type": "execute_result"
    }
   ],
   "source": [
    "dataframe3.transpose()"
   ]
  },
  {
   "cell_type": "code",
   "execution_count": 58,
   "metadata": {},
   "outputs": [
    {
     "data": {
      "text/html": [
       "<div>\n",
       "<style scoped>\n",
       "    .dataframe tbody tr th:only-of-type {\n",
       "        vertical-align: middle;\n",
       "    }\n",
       "\n",
       "    .dataframe tbody tr th {\n",
       "        vertical-align: top;\n",
       "    }\n",
       "\n",
       "    .dataframe thead th {\n",
       "        text-align: right;\n",
       "    }\n",
       "</style>\n",
       "<table border=\"1\" class=\"dataframe\">\n",
       "  <thead>\n",
       "    <tr style=\"text-align: right;\">\n",
       "      <th></th>\n",
       "      <th>one</th>\n",
       "      <th>two</th>\n",
       "      <th>three</th>\n",
       "      <th>four</th>\n",
       "      <th>five</th>\n",
       "    </tr>\n",
       "  </thead>\n",
       "  <tbody>\n",
       "    <tr>\n",
       "      <td>count</td>\n",
       "      <td>5.000000</td>\n",
       "      <td>5.000000</td>\n",
       "      <td>5.000000</td>\n",
       "      <td>5.000000</td>\n",
       "      <td>5.000000</td>\n",
       "    </tr>\n",
       "    <tr>\n",
       "      <td>mean</td>\n",
       "      <td>0.353391</td>\n",
       "      <td>-0.549689</td>\n",
       "      <td>-0.151272</td>\n",
       "      <td>-0.032280</td>\n",
       "      <td>-1.052897</td>\n",
       "    </tr>\n",
       "    <tr>\n",
       "      <td>std</td>\n",
       "      <td>0.757674</td>\n",
       "      <td>1.472465</td>\n",
       "      <td>1.066029</td>\n",
       "      <td>0.436222</td>\n",
       "      <td>1.752537</td>\n",
       "    </tr>\n",
       "    <tr>\n",
       "      <td>min</td>\n",
       "      <td>-0.767408</td>\n",
       "      <td>-1.834055</td>\n",
       "      <td>-1.384585</td>\n",
       "      <td>-0.701910</td>\n",
       "      <td>-2.830806</td>\n",
       "    </tr>\n",
       "    <tr>\n",
       "      <td>25%</td>\n",
       "      <td>0.121520</td>\n",
       "      <td>-1.186891</td>\n",
       "      <td>-0.845472</td>\n",
       "      <td>-0.169892</td>\n",
       "      <td>-2.481992</td>\n",
       "    </tr>\n",
       "    <tr>\n",
       "      <td>50%</td>\n",
       "      <td>0.393611</td>\n",
       "      <td>-1.070712</td>\n",
       "      <td>-0.373426</td>\n",
       "      <td>0.011897</td>\n",
       "      <td>-1.226038</td>\n",
       "    </tr>\n",
       "    <tr>\n",
       "      <td>75%</td>\n",
       "      <td>0.761181</td>\n",
       "      <td>-0.625004</td>\n",
       "      <td>0.621228</td>\n",
       "      <td>0.330123</td>\n",
       "      <td>-0.181238</td>\n",
       "    </tr>\n",
       "    <tr>\n",
       "      <td>max</td>\n",
       "      <td>1.258053</td>\n",
       "      <td>1.968217</td>\n",
       "      <td>1.225896</td>\n",
       "      <td>0.368380</td>\n",
       "      <td>1.455589</td>\n",
       "    </tr>\n",
       "  </tbody>\n",
       "</table>\n",
       "</div>"
      ],
      "text/plain": [
       "            one       two     three      four      five\n",
       "count  5.000000  5.000000  5.000000  5.000000  5.000000\n",
       "mean   0.353391 -0.549689 -0.151272 -0.032280 -1.052897\n",
       "std    0.757674  1.472465  1.066029  0.436222  1.752537\n",
       "min   -0.767408 -1.834055 -1.384585 -0.701910 -2.830806\n",
       "25%    0.121520 -1.186891 -0.845472 -0.169892 -2.481992\n",
       "50%    0.393611 -1.070712 -0.373426  0.011897 -1.226038\n",
       "75%    0.761181 -0.625004  0.621228  0.330123 -0.181238\n",
       "max    1.258053  1.968217  1.225896  0.368380  1.455589"
      ]
     },
     "execution_count": 58,
     "metadata": {},
     "output_type": "execute_result"
    }
   ],
   "source": [
    "dataframe3.transpose().describe()"
   ]
  },
  {
   "cell_type": "code",
   "execution_count": 59,
   "metadata": {},
   "outputs": [
    {
     "data": {
      "text/html": [
       "<div>\n",
       "<style scoped>\n",
       "    .dataframe tbody tr th:only-of-type {\n",
       "        vertical-align: middle;\n",
       "    }\n",
       "\n",
       "    .dataframe tbody tr th {\n",
       "        vertical-align: top;\n",
       "    }\n",
       "\n",
       "    .dataframe thead th {\n",
       "        text-align: right;\n",
       "    }\n",
       "</style>\n",
       "<table border=\"1\" class=\"dataframe\">\n",
       "  <thead>\n",
       "    <tr style=\"text-align: right;\">\n",
       "      <th></th>\n",
       "      <th>1st</th>\n",
       "      <th>2nd</th>\n",
       "      <th>3rd</th>\n",
       "      <th>4th</th>\n",
       "      <th>5th</th>\n",
       "    </tr>\n",
       "  </thead>\n",
       "  <tbody>\n",
       "    <tr>\n",
       "      <td>one</td>\n",
       "      <td>0.393611</td>\n",
       "      <td>0.761181</td>\n",
       "      <td>-0.767408</td>\n",
       "      <td>0.121520</td>\n",
       "      <td>1.258053</td>\n",
       "    </tr>\n",
       "    <tr>\n",
       "      <td>two</td>\n",
       "      <td>-1.070712</td>\n",
       "      <td>-1.186891</td>\n",
       "      <td>-0.625004</td>\n",
       "      <td>1.968217</td>\n",
       "      <td>-1.834055</td>\n",
       "    </tr>\n",
       "    <tr>\n",
       "      <td>three</td>\n",
       "      <td>0.621228</td>\n",
       "      <td>-1.384585</td>\n",
       "      <td>1.225896</td>\n",
       "      <td>-0.845472</td>\n",
       "      <td>-0.373426</td>\n",
       "    </tr>\n",
       "    <tr>\n",
       "      <td>four</td>\n",
       "      <td>-0.701910</td>\n",
       "      <td>0.011897</td>\n",
       "      <td>0.368380</td>\n",
       "      <td>-0.169892</td>\n",
       "      <td>0.330123</td>\n",
       "    </tr>\n",
       "    <tr>\n",
       "      <td>five</td>\n",
       "      <td>-1.226038</td>\n",
       "      <td>-0.181238</td>\n",
       "      <td>1.455589</td>\n",
       "      <td>-2.830806</td>\n",
       "      <td>-2.481992</td>\n",
       "    </tr>\n",
       "  </tbody>\n",
       "</table>\n",
       "</div>"
      ],
      "text/plain": [
       "            1st       2nd       3rd       4th       5th\n",
       "one    0.393611  0.761181 -0.767408  0.121520  1.258053\n",
       "two   -1.070712 -1.186891 -0.625004  1.968217 -1.834055\n",
       "three  0.621228 -1.384585  1.225896 -0.845472 -0.373426\n",
       "four  -0.701910  0.011897  0.368380 -0.169892  0.330123\n",
       "five  -1.226038 -0.181238  1.455589 -2.830806 -2.481992"
      ]
     },
     "execution_count": 59,
     "metadata": {},
     "output_type": "execute_result"
    }
   ],
   "source": [
    "#other useful methods\n",
    "dataframe3"
   ]
  },
  {
   "cell_type": "code",
   "execution_count": 60,
   "metadata": {},
   "outputs": [
    {
     "data": {
      "text/plain": [
       "1st   -1.983820\n",
       "2nd   -1.979637\n",
       "3rd    1.657454\n",
       "4th   -1.756431\n",
       "5th   -3.101297\n",
       "dtype: float64"
      ]
     },
     "execution_count": 60,
     "metadata": {},
     "output_type": "execute_result"
    }
   ],
   "source": [
    "dataframe3.sum()"
   ]
  },
  {
   "cell_type": "code",
   "execution_count": 61,
   "metadata": {},
   "outputs": [
    {
     "data": {
      "text/plain": [
       "one      1.766957\n",
       "two     -2.748444\n",
       "three   -0.756358\n",
       "four    -0.161402\n",
       "five    -5.264484\n",
       "dtype: float64"
      ]
     },
     "execution_count": 61,
     "metadata": {},
     "output_type": "execute_result"
    }
   ],
   "source": [
    "dataframe3.sum(axis=1)"
   ]
  },
  {
   "cell_type": "code",
   "execution_count": 62,
   "metadata": {},
   "outputs": [
    {
     "data": {
      "text/html": [
       "<div>\n",
       "<style scoped>\n",
       "    .dataframe tbody tr th:only-of-type {\n",
       "        vertical-align: middle;\n",
       "    }\n",
       "\n",
       "    .dataframe tbody tr th {\n",
       "        vertical-align: top;\n",
       "    }\n",
       "\n",
       "    .dataframe thead th {\n",
       "        text-align: right;\n",
       "    }\n",
       "</style>\n",
       "<table border=\"1\" class=\"dataframe\">\n",
       "  <thead>\n",
       "    <tr style=\"text-align: right;\">\n",
       "      <th></th>\n",
       "      <th>1st</th>\n",
       "      <th>2nd</th>\n",
       "      <th>3rd</th>\n",
       "      <th>4th</th>\n",
       "      <th>5th</th>\n",
       "    </tr>\n",
       "  </thead>\n",
       "  <tbody>\n",
       "    <tr>\n",
       "      <td>one</td>\n",
       "      <td>0.393611</td>\n",
       "      <td>0.761181</td>\n",
       "      <td>-0.767408</td>\n",
       "      <td>0.121520</td>\n",
       "      <td>1.258053</td>\n",
       "    </tr>\n",
       "    <tr>\n",
       "      <td>two</td>\n",
       "      <td>-0.677100</td>\n",
       "      <td>-0.425711</td>\n",
       "      <td>-1.392412</td>\n",
       "      <td>2.089738</td>\n",
       "      <td>-0.576002</td>\n",
       "    </tr>\n",
       "    <tr>\n",
       "      <td>three</td>\n",
       "      <td>-0.055872</td>\n",
       "      <td>-1.810295</td>\n",
       "      <td>-0.166516</td>\n",
       "      <td>1.244266</td>\n",
       "      <td>-0.949428</td>\n",
       "    </tr>\n",
       "    <tr>\n",
       "      <td>four</td>\n",
       "      <td>-0.757782</td>\n",
       "      <td>-1.798399</td>\n",
       "      <td>0.201865</td>\n",
       "      <td>1.074374</td>\n",
       "      <td>-0.619305</td>\n",
       "    </tr>\n",
       "    <tr>\n",
       "      <td>five</td>\n",
       "      <td>-1.983820</td>\n",
       "      <td>-1.979637</td>\n",
       "      <td>1.657454</td>\n",
       "      <td>-1.756431</td>\n",
       "      <td>-3.101297</td>\n",
       "    </tr>\n",
       "  </tbody>\n",
       "</table>\n",
       "</div>"
      ],
      "text/plain": [
       "            1st       2nd       3rd       4th       5th\n",
       "one    0.393611  0.761181 -0.767408  0.121520  1.258053\n",
       "two   -0.677100 -0.425711 -1.392412  2.089738 -0.576002\n",
       "three -0.055872 -1.810295 -0.166516  1.244266 -0.949428\n",
       "four  -0.757782 -1.798399  0.201865  1.074374 -0.619305\n",
       "five  -1.983820 -1.979637  1.657454 -1.756431 -3.101297"
      ]
     },
     "execution_count": 62,
     "metadata": {},
     "output_type": "execute_result"
    }
   ],
   "source": [
    "dataframe3.cumsum()"
   ]
  },
  {
   "cell_type": "code",
   "execution_count": 63,
   "metadata": {},
   "outputs": [
    {
     "data": {
      "text/html": [
       "<div>\n",
       "<style scoped>\n",
       "    .dataframe tbody tr th:only-of-type {\n",
       "        vertical-align: middle;\n",
       "    }\n",
       "\n",
       "    .dataframe tbody tr th {\n",
       "        vertical-align: top;\n",
       "    }\n",
       "\n",
       "    .dataframe thead th {\n",
       "        text-align: right;\n",
       "    }\n",
       "</style>\n",
       "<table border=\"1\" class=\"dataframe\">\n",
       "  <thead>\n",
       "    <tr style=\"text-align: right;\">\n",
       "      <th></th>\n",
       "      <th>1st</th>\n",
       "      <th>2nd</th>\n",
       "      <th>3rd</th>\n",
       "      <th>4th</th>\n",
       "      <th>5th</th>\n",
       "    </tr>\n",
       "  </thead>\n",
       "  <tbody>\n",
       "    <tr>\n",
       "      <td>one</td>\n",
       "      <td>0.393611</td>\n",
       "      <td>1.154792</td>\n",
       "      <td>0.387384</td>\n",
       "      <td>0.508904</td>\n",
       "      <td>1.766957</td>\n",
       "    </tr>\n",
       "    <tr>\n",
       "      <td>two</td>\n",
       "      <td>-1.070712</td>\n",
       "      <td>-2.257603</td>\n",
       "      <td>-2.882607</td>\n",
       "      <td>-0.914389</td>\n",
       "      <td>-2.748444</td>\n",
       "    </tr>\n",
       "    <tr>\n",
       "      <td>three</td>\n",
       "      <td>0.621228</td>\n",
       "      <td>-0.763357</td>\n",
       "      <td>0.462539</td>\n",
       "      <td>-0.382933</td>\n",
       "      <td>-0.756358</td>\n",
       "    </tr>\n",
       "    <tr>\n",
       "      <td>four</td>\n",
       "      <td>-0.701910</td>\n",
       "      <td>-0.690013</td>\n",
       "      <td>-0.321633</td>\n",
       "      <td>-0.491525</td>\n",
       "      <td>-0.161402</td>\n",
       "    </tr>\n",
       "    <tr>\n",
       "      <td>five</td>\n",
       "      <td>-1.226038</td>\n",
       "      <td>-1.407276</td>\n",
       "      <td>0.048314</td>\n",
       "      <td>-2.782492</td>\n",
       "      <td>-5.264484</td>\n",
       "    </tr>\n",
       "  </tbody>\n",
       "</table>\n",
       "</div>"
      ],
      "text/plain": [
       "            1st       2nd       3rd       4th       5th\n",
       "one    0.393611  1.154792  0.387384  0.508904  1.766957\n",
       "two   -1.070712 -2.257603 -2.882607 -0.914389 -2.748444\n",
       "three  0.621228 -0.763357  0.462539 -0.382933 -0.756358\n",
       "four  -0.701910 -0.690013 -0.321633 -0.491525 -0.161402\n",
       "five  -1.226038 -1.407276  0.048314 -2.782492 -5.264484"
      ]
     },
     "execution_count": 63,
     "metadata": {},
     "output_type": "execute_result"
    }
   ],
   "source": [
    "dataframe3.cumsum(axis=1)"
   ]
  },
  {
   "cell_type": "code",
   "execution_count": 64,
   "metadata": {},
   "outputs": [
    {
     "data": {
      "text/plain": [
       "1st   -1.226038\n",
       "2nd   -1.384585\n",
       "3rd   -0.767408\n",
       "4th   -2.830806\n",
       "5th   -2.481992\n",
       "dtype: float64"
      ]
     },
     "execution_count": 64,
     "metadata": {},
     "output_type": "execute_result"
    }
   ],
   "source": [
    "dataframe3.min()"
   ]
  },
  {
   "cell_type": "code",
   "execution_count": 65,
   "metadata": {},
   "outputs": [
    {
     "data": {
      "text/plain": [
       "one     -0.767408\n",
       "two     -1.834055\n",
       "three   -1.384585\n",
       "four    -0.701910\n",
       "five    -2.830806\n",
       "dtype: float64"
      ]
     },
     "execution_count": 65,
     "metadata": {},
     "output_type": "execute_result"
    }
   ],
   "source": [
    "dataframe3.min(axis=1)"
   ]
  },
  {
   "cell_type": "code",
   "execution_count": 66,
   "metadata": {},
   "outputs": [
    {
     "data": {
      "text/plain": [
       "1st    0.621228\n",
       "2nd    0.761181\n",
       "3rd    1.455589\n",
       "4th    1.968217\n",
       "5th    1.258053\n",
       "dtype: float64"
      ]
     },
     "execution_count": 66,
     "metadata": {},
     "output_type": "execute_result"
    }
   ],
   "source": [
    "dataframe3.max()"
   ]
  },
  {
   "cell_type": "code",
   "execution_count": 67,
   "metadata": {},
   "outputs": [
    {
     "data": {
      "text/plain": [
       "one      1.258053\n",
       "two      1.968217\n",
       "three    1.225896\n",
       "four     0.368380\n",
       "five     1.455589\n",
       "dtype: float64"
      ]
     },
     "execution_count": 67,
     "metadata": {},
     "output_type": "execute_result"
    }
   ],
   "source": [
    "dataframe3.max(axis=1)"
   ]
  },
  {
   "cell_type": "code",
   "execution_count": 68,
   "metadata": {},
   "outputs": [
    {
     "data": {
      "text/plain": [
       "1st    three\n",
       "2nd      one\n",
       "3rd     five\n",
       "4th      two\n",
       "5th      one\n",
       "dtype: object"
      ]
     },
     "execution_count": 68,
     "metadata": {},
     "output_type": "execute_result"
    }
   ],
   "source": [
    "dataframe3.idxmax()"
   ]
  },
  {
   "cell_type": "code",
   "execution_count": 69,
   "metadata": {},
   "outputs": [
    {
     "data": {
      "text/plain": [
       "1st     five\n",
       "2nd    three\n",
       "3rd      one\n",
       "4th     five\n",
       "5th     five\n",
       "dtype: object"
      ]
     },
     "execution_count": 69,
     "metadata": {},
     "output_type": "execute_result"
    }
   ],
   "source": [
    "dataframe3.idxmin()"
   ]
  },
  {
   "cell_type": "code",
   "execution_count": 70,
   "metadata": {},
   "outputs": [
    {
     "data": {
      "text/plain": [
       "one      3rd\n",
       "two      5th\n",
       "three    2nd\n",
       "four     1st\n",
       "five     4th\n",
       "dtype: object"
      ]
     },
     "execution_count": 70,
     "metadata": {},
     "output_type": "execute_result"
    }
   ],
   "source": [
    "dataframe3.idxmin(axis=1)"
   ]
  },
  {
   "cell_type": "code",
   "execution_count": 71,
   "metadata": {},
   "outputs": [
    {
     "data": {
      "text/plain": [
       "one      5th\n",
       "two      4th\n",
       "three    3rd\n",
       "four     3rd\n",
       "five     3rd\n",
       "dtype: object"
      ]
     },
     "execution_count": 71,
     "metadata": {},
     "output_type": "execute_result"
    }
   ],
   "source": [
    "dataframe3.idxmax(axis=1)"
   ]
  },
  {
   "cell_type": "markdown",
   "metadata": {},
   "source": [
    "### creating dataframe from dictionary and select elements"
   ]
  },
  {
   "cell_type": "code",
   "execution_count": 72,
   "metadata": {},
   "outputs": [
    {
     "data": {
      "text/plain": [
       "{'character': ['spiderman', 'superman', 'ironman', 'tom', 'jerry'],\n",
       " 'popularity': ['first', 'second', 'third', 'fourth', 'fifth'],\n",
       " 'score': [60, 57, 46, 59, 47]}"
      ]
     },
     "execution_count": 72,
     "metadata": {},
     "output_type": "execute_result"
    }
   ],
   "source": [
    "popularity = {\"character\":[\"spiderman\", \"superman\", \"ironman\",\"tom\",\"jerry\"],\n",
    "             \"popularity\":[\"first\",\"second\",\"third\",\"fourth\",\"fifth\"],\n",
    "             \"score\":[60,57,46,59,47]}\n",
    "popularity"
   ]
  },
  {
   "cell_type": "code",
   "execution_count": 77,
   "metadata": {},
   "outputs": [
    {
     "data": {
      "text/html": [
       "<div>\n",
       "<style scoped>\n",
       "    .dataframe tbody tr th:only-of-type {\n",
       "        vertical-align: middle;\n",
       "    }\n",
       "\n",
       "    .dataframe tbody tr th {\n",
       "        vertical-align: top;\n",
       "    }\n",
       "\n",
       "    .dataframe thead th {\n",
       "        text-align: right;\n",
       "    }\n",
       "</style>\n",
       "<table border=\"1\" class=\"dataframe\">\n",
       "  <thead>\n",
       "    <tr style=\"text-align: right;\">\n",
       "      <th></th>\n",
       "      <th>character</th>\n",
       "      <th>popularity</th>\n",
       "      <th>score</th>\n",
       "    </tr>\n",
       "  </thead>\n",
       "  <tbody>\n",
       "    <tr>\n",
       "      <td>A</td>\n",
       "      <td>spiderman</td>\n",
       "      <td>first</td>\n",
       "      <td>60</td>\n",
       "    </tr>\n",
       "    <tr>\n",
       "      <td>B</td>\n",
       "      <td>superman</td>\n",
       "      <td>second</td>\n",
       "      <td>57</td>\n",
       "    </tr>\n",
       "    <tr>\n",
       "      <td>C</td>\n",
       "      <td>ironman</td>\n",
       "      <td>third</td>\n",
       "      <td>46</td>\n",
       "    </tr>\n",
       "    <tr>\n",
       "      <td>D</td>\n",
       "      <td>tom</td>\n",
       "      <td>fourth</td>\n",
       "      <td>59</td>\n",
       "    </tr>\n",
       "    <tr>\n",
       "      <td>E</td>\n",
       "      <td>jerry</td>\n",
       "      <td>fifth</td>\n",
       "      <td>47</td>\n",
       "    </tr>\n",
       "  </tbody>\n",
       "</table>\n",
       "</div>"
      ],
      "text/plain": [
       "   character popularity  score\n",
       "A  spiderman      first     60\n",
       "B   superman     second     57\n",
       "C    ironman      third     46\n",
       "D        tom     fourth     59\n",
       "E      jerry      fifth     47"
      ]
     },
     "execution_count": 77,
     "metadata": {},
     "output_type": "execute_result"
    }
   ],
   "source": [
    "dataframe4 = pd.DataFrame(popularity, index = ['A','B','C','D','E'], columns = ['character','popularity','score'])\n",
    "dataframe4"
   ]
  },
  {
   "cell_type": "code",
   "execution_count": 81,
   "metadata": {},
   "outputs": [
    {
     "data": {
      "text/plain": [
       "'ironman'"
      ]
     },
     "execution_count": 81,
     "metadata": {},
     "output_type": "execute_result"
    }
   ],
   "source": [
    "#accessing the elements\n",
    "dataframe4.iloc[2][0]"
   ]
  },
  {
   "cell_type": "code",
   "execution_count": 85,
   "metadata": {},
   "outputs": [
    {
     "data": {
      "text/plain": [
       "'ironman'"
      ]
     },
     "execution_count": 85,
     "metadata": {},
     "output_type": "execute_result"
    }
   ],
   "source": [
    "dataframe4.loc['C','character']"
   ]
  },
  {
   "cell_type": "code",
   "execution_count": 84,
   "metadata": {},
   "outputs": [
    {
     "data": {
      "text/plain": [
       "'ironman'"
      ]
     },
     "execution_count": 84,
     "metadata": {},
     "output_type": "execute_result"
    }
   ],
   "source": [
    "dataframe4.at['C','character']"
   ]
  },
  {
   "cell_type": "code",
   "execution_count": 86,
   "metadata": {},
   "outputs": [
    {
     "data": {
      "text/plain": [
       "'ironman'"
      ]
     },
     "execution_count": 86,
     "metadata": {},
     "output_type": "execute_result"
    }
   ],
   "source": [
    "dataframe4.iat[2,0]"
   ]
  },
  {
   "cell_type": "code",
   "execution_count": 87,
   "metadata": {},
   "outputs": [
    {
     "data": {
      "text/html": [
       "<div>\n",
       "<style scoped>\n",
       "    .dataframe tbody tr th:only-of-type {\n",
       "        vertical-align: middle;\n",
       "    }\n",
       "\n",
       "    .dataframe tbody tr th {\n",
       "        vertical-align: top;\n",
       "    }\n",
       "\n",
       "    .dataframe thead th {\n",
       "        text-align: right;\n",
       "    }\n",
       "</style>\n",
       "<table border=\"1\" class=\"dataframe\">\n",
       "  <thead>\n",
       "    <tr style=\"text-align: right;\">\n",
       "      <th></th>\n",
       "      <th>character</th>\n",
       "      <th>popularity</th>\n",
       "      <th>score</th>\n",
       "    </tr>\n",
       "  </thead>\n",
       "  <tbody>\n",
       "    <tr>\n",
       "      <td>A</td>\n",
       "      <td>spiderman</td>\n",
       "      <td>first</td>\n",
       "      <td>60</td>\n",
       "    </tr>\n",
       "    <tr>\n",
       "      <td>B</td>\n",
       "      <td>superman</td>\n",
       "      <td>second</td>\n",
       "      <td>57</td>\n",
       "    </tr>\n",
       "    <tr>\n",
       "      <td>C</td>\n",
       "      <td>ironman</td>\n",
       "      <td>third</td>\n",
       "      <td>46</td>\n",
       "    </tr>\n",
       "    <tr>\n",
       "      <td>D</td>\n",
       "      <td>tom</td>\n",
       "      <td>fourth</td>\n",
       "      <td>59</td>\n",
       "    </tr>\n",
       "    <tr>\n",
       "      <td>E</td>\n",
       "      <td>jerry</td>\n",
       "      <td>fifth</td>\n",
       "      <td>47</td>\n",
       "    </tr>\n",
       "  </tbody>\n",
       "</table>\n",
       "</div>"
      ],
      "text/plain": [
       "   character popularity  score\n",
       "A  spiderman      first     60\n",
       "B   superman     second     57\n",
       "C    ironman      third     46\n",
       "D        tom     fourth     59\n",
       "E      jerry      fifth     47"
      ]
     },
     "execution_count": 87,
     "metadata": {},
     "output_type": "execute_result"
    }
   ],
   "source": [
    "dataframe4[:]"
   ]
  },
  {
   "cell_type": "code",
   "execution_count": 88,
   "metadata": {},
   "outputs": [
    {
     "data": {
      "text/plain": [
       "A    60\n",
       "B    57\n",
       "C    46\n",
       "D    59\n",
       "E    47\n",
       "Name: score, dtype: int64"
      ]
     },
     "execution_count": 88,
     "metadata": {},
     "output_type": "execute_result"
    }
   ],
   "source": [
    "dataframe4['score']"
   ]
  },
  {
   "cell_type": "code",
   "execution_count": 89,
   "metadata": {},
   "outputs": [
    {
     "data": {
      "text/plain": [
       "46"
      ]
     },
     "execution_count": 89,
     "metadata": {},
     "output_type": "execute_result"
    }
   ],
   "source": [
    "dataframe4['score']['C']"
   ]
  },
  {
   "cell_type": "code",
   "execution_count": 90,
   "metadata": {},
   "outputs": [
    {
     "data": {
      "text/plain": [
       "46"
      ]
     },
     "execution_count": 90,
     "metadata": {},
     "output_type": "execute_result"
    }
   ],
   "source": [
    "dataframe4['score'][2]"
   ]
  },
  {
   "cell_type": "code",
   "execution_count": 91,
   "metadata": {},
   "outputs": [
    {
     "data": {
      "text/html": [
       "<div>\n",
       "<style scoped>\n",
       "    .dataframe tbody tr th:only-of-type {\n",
       "        vertical-align: middle;\n",
       "    }\n",
       "\n",
       "    .dataframe tbody tr th {\n",
       "        vertical-align: top;\n",
       "    }\n",
       "\n",
       "    .dataframe thead th {\n",
       "        text-align: right;\n",
       "    }\n",
       "</style>\n",
       "<table border=\"1\" class=\"dataframe\">\n",
       "  <thead>\n",
       "    <tr style=\"text-align: right;\">\n",
       "      <th></th>\n",
       "      <th>character</th>\n",
       "      <th>popularity</th>\n",
       "      <th>score</th>\n",
       "    </tr>\n",
       "  </thead>\n",
       "  <tbody>\n",
       "    <tr>\n",
       "      <td>B</td>\n",
       "      <td>superman</td>\n",
       "      <td>second</td>\n",
       "      <td>57</td>\n",
       "    </tr>\n",
       "    <tr>\n",
       "      <td>C</td>\n",
       "      <td>ironman</td>\n",
       "      <td>third</td>\n",
       "      <td>46</td>\n",
       "    </tr>\n",
       "  </tbody>\n",
       "</table>\n",
       "</div>"
      ],
      "text/plain": [
       "  character popularity  score\n",
       "B  superman     second     57\n",
       "C   ironman      third     46"
      ]
     },
     "execution_count": 91,
     "metadata": {},
     "output_type": "execute_result"
    }
   ],
   "source": [
    "dataframe4[1:3]"
   ]
  },
  {
   "cell_type": "code",
   "execution_count": 93,
   "metadata": {},
   "outputs": [
    {
     "data": {
      "text/html": [
       "<div>\n",
       "<style scoped>\n",
       "    .dataframe tbody tr th:only-of-type {\n",
       "        vertical-align: middle;\n",
       "    }\n",
       "\n",
       "    .dataframe tbody tr th {\n",
       "        vertical-align: top;\n",
       "    }\n",
       "\n",
       "    .dataframe thead th {\n",
       "        text-align: right;\n",
       "    }\n",
       "</style>\n",
       "<table border=\"1\" class=\"dataframe\">\n",
       "  <thead>\n",
       "    <tr style=\"text-align: right;\">\n",
       "      <th></th>\n",
       "      <th>character</th>\n",
       "      <th>popularity</th>\n",
       "      <th>score</th>\n",
       "    </tr>\n",
       "  </thead>\n",
       "  <tbody>\n",
       "    <tr>\n",
       "      <td>B</td>\n",
       "      <td>superman</td>\n",
       "      <td>second</td>\n",
       "      <td>57</td>\n",
       "    </tr>\n",
       "    <tr>\n",
       "      <td>C</td>\n",
       "      <td>ironman</td>\n",
       "      <td>third</td>\n",
       "      <td>46</td>\n",
       "    </tr>\n",
       "    <tr>\n",
       "      <td>D</td>\n",
       "      <td>tom</td>\n",
       "      <td>fourth</td>\n",
       "      <td>59</td>\n",
       "    </tr>\n",
       "    <tr>\n",
       "      <td>E</td>\n",
       "      <td>jerry</td>\n",
       "      <td>fifth</td>\n",
       "      <td>47</td>\n",
       "    </tr>\n",
       "  </tbody>\n",
       "</table>\n",
       "</div>"
      ],
      "text/plain": [
       "  character popularity  score\n",
       "B  superman     second     57\n",
       "C   ironman      third     46\n",
       "D       tom     fourth     59\n",
       "E     jerry      fifth     47"
      ]
     },
     "execution_count": 93,
     "metadata": {},
     "output_type": "execute_result"
    }
   ],
   "source": [
    "dataframe4[1:]"
   ]
  },
  {
   "cell_type": "code",
   "execution_count": 94,
   "metadata": {},
   "outputs": [
    {
     "data": {
      "text/html": [
       "<div>\n",
       "<style scoped>\n",
       "    .dataframe tbody tr th:only-of-type {\n",
       "        vertical-align: middle;\n",
       "    }\n",
       "\n",
       "    .dataframe tbody tr th {\n",
       "        vertical-align: top;\n",
       "    }\n",
       "\n",
       "    .dataframe thead th {\n",
       "        text-align: right;\n",
       "    }\n",
       "</style>\n",
       "<table border=\"1\" class=\"dataframe\">\n",
       "  <thead>\n",
       "    <tr style=\"text-align: right;\">\n",
       "      <th></th>\n",
       "      <th>character</th>\n",
       "      <th>popularity</th>\n",
       "      <th>score</th>\n",
       "    </tr>\n",
       "  </thead>\n",
       "  <tbody>\n",
       "    <tr>\n",
       "      <td>A</td>\n",
       "      <td>spiderman</td>\n",
       "      <td>first</td>\n",
       "      <td>60</td>\n",
       "    </tr>\n",
       "    <tr>\n",
       "      <td>B</td>\n",
       "      <td>superman</td>\n",
       "      <td>second</td>\n",
       "      <td>57</td>\n",
       "    </tr>\n",
       "    <tr>\n",
       "      <td>C</td>\n",
       "      <td>ironman</td>\n",
       "      <td>third</td>\n",
       "      <td>46</td>\n",
       "    </tr>\n",
       "  </tbody>\n",
       "</table>\n",
       "</div>"
      ],
      "text/plain": [
       "   character popularity  score\n",
       "A  spiderman      first     60\n",
       "B   superman     second     57\n",
       "C    ironman      third     46"
      ]
     },
     "execution_count": 94,
     "metadata": {},
     "output_type": "execute_result"
    }
   ],
   "source": [
    "dataframe4[:3]"
   ]
  },
  {
   "cell_type": "code",
   "execution_count": null,
   "metadata": {},
   "outputs": [],
   "source": []
  }
 ],
 "metadata": {
  "kernelspec": {
   "display_name": "Python 3",
   "language": "python",
   "name": "python3"
  },
  "language_info": {
   "codemirror_mode": {
    "name": "ipython",
    "version": 3
   },
   "file_extension": ".py",
   "mimetype": "text/x-python",
   "name": "python",
   "nbconvert_exporter": "python",
   "pygments_lexer": "ipython3",
   "version": "3.7.4"
  }
 },
 "nbformat": 4,
 "nbformat_minor": 2
}

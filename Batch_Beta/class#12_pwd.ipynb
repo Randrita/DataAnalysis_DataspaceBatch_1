{
 "cells": [
  {
   "cell_type": "code",
   "execution_count": 2,
   "metadata": {},
   "outputs": [
    {
     "name": "stdout",
     "output_type": "stream",
     "text": [
      "valid\n"
     ]
    }
   ],
   "source": [
    "#password check\n",
    "# length >= 8 , special charcter, number has , upper case, lower case\n",
    "password=input() #Dataspace@123\n",
    "\n",
    "def check_pass(password):\n",
    "    data=password\n",
    "    \n",
    "    s='@$%^&*()_+!~`'\n",
    "    \n",
    "    upper=0\n",
    "    lower=0\n",
    "    digit=0\n",
    "    spcl=0\n",
    "\n",
    "    if len(data)>=8:\n",
    "        for i in data:\n",
    "          \n",
    "            #checking of uppercase\n",
    "            if i.isupper():\n",
    "                upper +=1                   \n",
    "            #checking of lowercase\n",
    "            if i.islower():\n",
    "                lower +=1\n",
    "            #checking of digit\n",
    "            if i.isdigit():\n",
    "                digit +=1\n",
    "            #checking of spcl character\n",
    "\n",
    "            if i in s:\n",
    "                spcl +=1\n",
    "\n",
    "        if (upper>=1 and lower>=1 and digit>=1 and spcl>=1):\n",
    "            print(\"valid\")\n",
    "    \n",
    "    else:\n",
    "        print(\"invalid\")\n",
    "\n",
    "\n",
    "check_pass(password)"
   ]
  },
  {
   "cell_type": "code",
   "execution_count": null,
   "metadata": {},
   "outputs": [],
   "source": []
  }
 ],
 "metadata": {
  "kernelspec": {
   "display_name": "base",
   "language": "python",
   "name": "python3"
  },
  "language_info": {
   "codemirror_mode": {
    "name": "ipython",
    "version": 3
   },
   "file_extension": ".py",
   "mimetype": "text/x-python",
   "name": "python",
   "nbconvert_exporter": "python",
   "pygments_lexer": "ipython3",
   "version": "3.8.8"
  }
 },
 "nbformat": 4,
 "nbformat_minor": 2
}

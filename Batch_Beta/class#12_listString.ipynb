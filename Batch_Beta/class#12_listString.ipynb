{
 "cells": [
  {
   "cell_type": "code",
   "execution_count": 2,
   "metadata": {},
   "outputs": [
    {
     "name": "stdout",
     "output_type": "stream",
     "text": [
      "yes\n"
     ]
    }
   ],
   "source": [
    "l = [4,9,10,15,51]\n",
    "for i in range(len(l)):\n",
    "    if l[i]==10:\n",
    "        print('yes')"
   ]
  },
  {
   "cell_type": "code",
   "execution_count": 3,
   "metadata": {},
   "outputs": [
    {
     "name": "stdout",
     "output_type": "stream",
     "text": [
      "yes\n"
     ]
    }
   ],
   "source": [
    "for i in l:\n",
    "    if i==10:\n",
    "        print('yes')"
   ]
  },
  {
   "cell_type": "code",
   "execution_count": null,
   "metadata": {},
   "outputs": [],
   "source": [
    "#create a list unique values\n",
    "l = [1,2,4,4,8,8,10,7,7]\n",
    "l_out = [1,2,4,8,10,7]"
   ]
  },
  {
   "cell_type": "code",
   "execution_count": 2,
   "metadata": {},
   "outputs": [
    {
     "name": "stdout",
     "output_type": "stream",
     "text": [
      "[1, 5]\n"
     ]
    }
   ],
   "source": [
    "#extract elements with frequency greater than equal to K. \n",
    "l = [ 1,1,1,1,2,2,3,4,5,5,5,6,7,7,10]\n",
    "k = 3\n",
    "l_out=[]\n",
    "for i in l:\n",
    "    freq= l.count(i)\n",
    "    if(freq>=k and i not in l_out):\n",
    "        l_out.append(i)\n",
    "print(l_out)\n",
    "#l_out = [1,5]"
   ]
  },
  {
   "cell_type": "code",
   "execution_count": 5,
   "metadata": {},
   "outputs": [
    {
     "name": "stdout",
     "output_type": "stream",
     "text": [
      "4\n",
      "DATAspace\n"
     ]
    }
   ],
   "source": [
    "#string\n",
    "s = \"dataspace\"\n",
    "\n",
    "#uppercase the half string\n",
    "#ans = \"DATAspace\"\n",
    "half=len(s)//2\n",
    "#print(half)\n",
    "ans = s[0:half].upper() + s[half:]\n",
    "print(ans)"
   ]
  },
  {
   "cell_type": "code",
   "execution_count": 7,
   "metadata": {},
   "outputs": [
    {
     "name": "stdout",
     "output_type": "stream",
     "text": [
      "datapace\n"
     ]
    }
   ],
   "source": [
    "#remove i th character from the string\n",
    "s= 'dataspace'\n",
    "i=4\n",
    "ans = s[0:i] + s[i+1:]\n",
    "print(ans)\n",
    "\n",
    "#I ask you to remove the alphabate at pstn 4 (i th char) "
   ]
  },
  {
   "cell_type": "code",
   "execution_count": 20,
   "metadata": {},
   "outputs": [
    {
     "ename": "TypeError",
     "evalue": "'>=' not supported between instances of 'str' and 'int'",
     "output_type": "error",
     "traceback": [
      "\u001b[1;31m---------------------------------------------------------------------------\u001b[0m",
      "\u001b[1;31mTypeError\u001b[0m                                 Traceback (most recent call last)",
      "\u001b[1;32m<ipython-input-20-301d742489aa>\u001b[0m in \u001b[0;36m<module>\u001b[1;34m\u001b[0m\n\u001b[0;32m      3\u001b[0m \u001b[0mpassword\u001b[0m\u001b[1;33m=\u001b[0m\u001b[0minput\u001b[0m\u001b[1;33m(\u001b[0m\u001b[1;33m)\u001b[0m \u001b[1;31m#Dataspace@123\u001b[0m\u001b[1;33m\u001b[0m\u001b[1;33m\u001b[0m\u001b[0m\n\u001b[0;32m      4\u001b[0m \u001b[1;33m\u001b[0m\u001b[0m\n\u001b[1;32m----> 5\u001b[1;33m \u001b[0mcheck_pass\u001b[0m\u001b[1;33m(\u001b[0m\u001b[0mpassword\u001b[0m\u001b[1;33m)\u001b[0m\u001b[1;33m\u001b[0m\u001b[1;33m\u001b[0m\u001b[0m\n\u001b[0m\u001b[0;32m      6\u001b[0m \u001b[1;33m\u001b[0m\u001b[0m\n\u001b[0;32m      7\u001b[0m \u001b[1;32mdef\u001b[0m \u001b[0mcheck_pass\u001b[0m\u001b[1;33m(\u001b[0m\u001b[0mpassword\u001b[0m\u001b[1;33m)\u001b[0m\u001b[1;33m:\u001b[0m\u001b[1;33m\u001b[0m\u001b[1;33m\u001b[0m\u001b[0m\n",
      "\u001b[1;32m<ipython-input-13-028ab2bd9b8b>\u001b[0m in \u001b[0;36mcheck_pass\u001b[1;34m(password)\u001b[0m\n\u001b[0;32m      7\u001b[0m     \u001b[0ms\u001b[0m\u001b[1;33m=\u001b[0m\u001b[1;34m'@$%^&*()_+!~`'\u001b[0m\u001b[1;33m\u001b[0m\u001b[1;33m\u001b[0m\u001b[0m\n\u001b[0;32m      8\u001b[0m \u001b[1;33m\u001b[0m\u001b[0m\n\u001b[1;32m----> 9\u001b[1;33m     \u001b[1;32mif\u001b[0m\u001b[1;33m(\u001b[0m\u001b[0mlen\u001b[0m\u001b[1;33m(\u001b[0m\u001b[0mpassword\u001b[0m\u001b[1;33m>=\u001b[0m\u001b[1;36m8\u001b[0m\u001b[1;33m)\u001b[0m\u001b[1;33m)\u001b[0m\u001b[1;33m:\u001b[0m\u001b[1;33m\u001b[0m\u001b[1;33m\u001b[0m\u001b[0m\n\u001b[0m\u001b[0;32m     10\u001b[0m         \u001b[1;32mfor\u001b[0m \u001b[0mi\u001b[0m \u001b[1;32min\u001b[0m \u001b[0mpassword\u001b[0m\u001b[1;33m:\u001b[0m\u001b[1;33m\u001b[0m\u001b[1;33m\u001b[0m\u001b[0m\n\u001b[0;32m     11\u001b[0m \u001b[1;33m\u001b[0m\u001b[0m\n",
      "\u001b[1;31mTypeError\u001b[0m: '>=' not supported between instances of 'str' and 'int'"
     ]
    }
   ],
   "source": [
    "#password check\n",
    "# length >= 8 , special charcter, number has , upper case, lower case\n",
    "password=input() #Dataspace@123\n",
    "\n",
    "check_pass(password)\n",
    "\n",
    "def check_pass(password):\n",
    "    data=password\n",
    "    \n",
    "    s='@$%^&*()_+!~`'\n",
    "    \n",
    "    upper=0\n",
    "    lower=0\n",
    "    digit=0\n",
    "    spcl=0\n",
    "\n",
    "    if len(data)>=8:\n",
    "        for i in data:\n",
    "            \n",
    "            #checking of uppercase\n",
    "            if i.isupper():\n",
    "                upper +=1\n",
    "            \n",
    "            \n",
    "            #checking of lowercase\n",
    "            if i.islower():\n",
    "                lower +=1\n",
    "\n",
    "            #checking of digit\n",
    "            if i.isdigit():\n",
    "                digit +=1\n",
    "\n",
    "            #checking of spcl character\n",
    "\n",
    "            if i in s:\n",
    "                spcl +=1\n",
    "\n",
    "        if (upper>=1 and lower>=1 and digit>=1 and spcl>=1):\n",
    "            print(\"valid\")\n",
    "    \n",
    "    else:\n",
    "        print(\"invalid\")\n",
    "\n",
    "            \n",
    "            \n",
    "\n"
   ]
  },
  {
   "cell_type": "code",
   "execution_count": 19,
   "metadata": {},
   "outputs": [
    {
     "data": {
      "text/plain": [
       "int"
      ]
     },
     "execution_count": 19,
     "metadata": {},
     "output_type": "execute_result"
    }
   ],
   "source": [
    "s = 'dataspace'\n",
    "k =len(s)\n",
    "\n",
    "type(k)\n",
    "\n"
   ]
  },
  {
   "cell_type": "code",
   "execution_count": null,
   "metadata": {},
   "outputs": [],
   "source": []
  }
 ],
 "metadata": {
  "kernelspec": {
   "display_name": "base",
   "language": "python",
   "name": "python3"
  },
  "language_info": {
   "codemirror_mode": {
    "name": "ipython",
    "version": 3
   },
   "file_extension": ".py",
   "mimetype": "text/x-python",
   "name": "python",
   "nbconvert_exporter": "python",
   "pygments_lexer": "ipython3",
   "version": "3.8.8"
  }
 },
 "nbformat": 4,
 "nbformat_minor": 2
}

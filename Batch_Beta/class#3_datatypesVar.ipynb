{
 "cells": [
  {
   "cell_type": "code",
   "execution_count": null,
   "metadata": {},
   "outputs": [],
   "source": [
    "#Check the modulo operations of a code\n",
    "#take 2 user input and use %\n",
    "#a=10 and b=7\n",
    "#c=2\n",
    "#a to the power c\n"
   ]
  },
  {
   "cell_type": "code",
   "execution_count": 2,
   "metadata": {},
   "outputs": [
    {
     "name": "stdout",
     "output_type": "stream",
     "text": [
      "Modulo Value:  3\n",
      "To the power value 100\n"
     ]
    }
   ],
   "source": [
    "a=int(input())\n",
    "b=int(input())\n",
    "\n",
    "c=2\n",
    "\n",
    "print(\"Modulo Value: \", a%b)\n",
    "print(\"To the power value\", a**c)"
   ]
  },
  {
   "cell_type": "code",
   "execution_count": 4,
   "metadata": {},
   "outputs": [
    {
     "name": "stdout",
     "output_type": "stream",
     "text": [
      "3\n"
     ]
    }
   ],
   "source": [
    "#Take two user inputs and find out the addition of it \n",
    "#Then find out the 5th square of the output\n",
    "#Then with the lastest output find the remainder when divided by 4\n",
    "\n",
    "a= int(input())\n",
    "b=int(input())\n",
    "\n",
    "c= a+b\n",
    "\n",
    "d=c**5\n",
    "\n",
    "print(d%4)"
   ]
  },
  {
   "cell_type": "code",
   "execution_count": 6,
   "metadata": {},
   "outputs": [
    {
     "name": "stdout",
     "output_type": "stream",
     "text": [
      "a is greater\n"
     ]
    }
   ],
   "source": [
    "#IF - ELSE\n",
    "a=10\n",
    "b=5\n",
    "\n",
    "if (a>b):\n",
    "    print(\"a is greater\")\n",
    "\n",
    "else:\n",
    "    print(\"b is greater\")"
   ]
  },
  {
   "cell_type": "code",
   "execution_count": null,
   "metadata": {},
   "outputs": [],
   "source": [
    "#IF - ELIF - ELSE\n",
    "a=10\n",
    "b=5\n",
    "\n",
    "if (a>b):\n",
    "    print(\"a is greater\")\n",
    "\n",
    "elif(a==b):\n",
    "    print(\"a is equal to b\")\n",
    "else:\n",
    "    print(\"b is greater\")"
   ]
  },
  {
   "cell_type": "code",
   "execution_count": null,
   "metadata": {},
   "outputs": [],
   "source": [
    "# take an user input in the variable named as \"age\"\n",
    "# if age>=18 -> adult, if age<18 -> teen,\n",
    "# age>=60 \"senior\"\n",
    "\n",
    "age = 20\n",
    "\n",
    "if age>=60:\n",
    "    print(\"Senior\")\n",
    "\n",
    "elif age>=18:\n",
    "    print(\"Adult\")\n",
    "\n",
    "else:\n",
    "    print(\"Teen\")"
   ]
  }
 ],
 "metadata": {
  "kernelspec": {
   "display_name": "base",
   "language": "python",
   "name": "python3"
  },
  "language_info": {
   "codemirror_mode": {
    "name": "ipython",
    "version": 3
   },
   "file_extension": ".py",
   "mimetype": "text/x-python",
   "name": "python",
   "nbconvert_exporter": "python",
   "pygments_lexer": "ipython3",
   "version": "3.8.8"
  }
 },
 "nbformat": 4,
 "nbformat_minor": 2
}

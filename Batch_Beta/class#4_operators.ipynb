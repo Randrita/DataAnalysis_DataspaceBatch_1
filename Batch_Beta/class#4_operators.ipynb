{
 "cells": [
  {
   "cell_type": "code",
   "execution_count": null,
   "metadata": {},
   "outputs": [],
   "source": [
    "'''\n",
    "Assignment Question:\n",
    "You are tasked with writing a Python program to calculate and print the total cost of a customer's order\n",
    "at a coffee shop. \n",
    "\n",
    "The shop offers three types of beverages: coffee, tea, and hot chocolate.\n",
    "\n",
    "The cost of each item is as follows:\n",
    "\n",
    "Coffee: 2.50 per cup\n",
    "Tea: 1.75 per cup\n",
    "Hot Chocolate: 3.00 per cup\n",
    "\n",
    "The customer can order any combination of these beverages, and you need to calculate the total\n",
    "cost for their order.\n",
    "\n",
    "Additionally, the customer might want to buy some pastries, which have their own prices:\n",
    "\n",
    "Croissant: 2.00 each\n",
    "Muffin: 1.50 each\n",
    "Danish: 2.50 each\n",
    "The program should ask the customer how many cups of each beverage they would like and\n",
    "how many pastries of each type they want. Then, it should calculate and print the total cost of the order.\n",
    "\n",
    "Your Python program should:\n",
    "\n",
    "Prompt the user to enter the number of cups of coffee, tea, and hot chocolate they want to order.\n",
    "Prompt the user to enter the number of croissants, muffins, and danishes they want to order.\n",
    "Calculate the total cost for beverages and pastries separately.\n",
    "Calculate the overall total cost by adding the beverage cost and pastry cost.\n",
    "Display the individual costs for beverages and pastries, as well as the total cost of the order.\n",
    "\n",
    "\n",
    "'''"
   ]
  },
  {
   "cell_type": "code",
   "execution_count": null,
   "metadata": {},
   "outputs": [],
   "source": [
    "#User Input for beverages\n",
    "\n",
    "coffee = int(input(\"Enter the number of cup of coffee you want: \"))\n",
    "tea = int(input(\"Enter the number of cup of tea you want: \"))\n",
    "hot_chocolate = int(input(\"Enter the number of cup of hot_chocolate you want: \"))\n",
    "\n",
    "#User Input for pastries\n",
    "croissant = int(input(\"Enter the number of croissant you want: \"))\n",
    "muffin = int(input(\"Enter the number of muffin you want: \"))\n",
    "danish = int(input(\"Enter the number of danish you want: \"))\n",
    "\n",
    "\n",
    "#calculate the total amount of beverages\n",
    "beverages_amount = coffee*2.50 + tea*1.75 + hot_chocolate*3.00\n",
    "\n",
    "#calculate the total amount of pastries\n",
    "pastries_amount = croissant*2.00 + muffin*1.50 + danish*2.50\n",
    "\n",
    "#total_price\n",
    "total_price = beverages_amount + pastries_amount\n",
    "\n",
    "print(\"The total amount for beverages is: \", beverages_amount)\n",
    "print(\"The total amount for pastries is: \", pastries_amount)\n",
    "print(\"The total amount of the order is: \", total_price)\n"
   ]
  },
  {
   "cell_type": "code",
   "execution_count": 1,
   "metadata": {},
   "outputs": [
    {
     "data": {
      "text/plain": [
       "'\\nThere are 4 age categories, Senior, adult, Teen and Kid.\\nIf age of a person is below 5 then he or she is a kid, if below 18 then he or she is a Teen, if greater equal to 18 then adult and if greater equal to 60 then senior. Your task to take an user input age . and print the output likewise. \\n\\n\\n\\n\\n'"
      ]
     },
     "execution_count": 1,
     "metadata": {},
     "output_type": "execute_result"
    }
   ],
   "source": [
    "'''\n",
    "There are 4 age categories, Senior, adult, Teen and Kid.\n",
    "If age of a person is below 5 then he or she is a kid, \n",
    "if below 18 then he or she is a Teen, if greater equal to \n",
    "18 then adult and if greater equal to 60 then senior. Your \n",
    "task to take an user input age . and print the output likewise. \n",
    "\n",
    "'''"
   ]
  },
  {
   "cell_type": "code",
   "execution_count": 2,
   "metadata": {},
   "outputs": [
    {
     "name": "stdout",
     "output_type": "stream",
     "text": [
      "senior\n"
     ]
    }
   ],
   "source": [
    "age= int(input(\"Enter your age: \"))\n",
    "\n",
    "if (age<5):\n",
    "    print(\"kid\")\n",
    "elif(age>=5 and age<18):\n",
    "    print(\"Teen\")\n",
    "\n",
    "elif(age>=18 and age<60):\n",
    "    print(\"adult\")\n",
    "\n",
    "else:\n",
    "    print(\"senior\")\n"
   ]
  },
  {
   "cell_type": "code",
   "execution_count": null,
   "metadata": {},
   "outputs": [],
   "source": [
    "'''\n",
    "#Assignment, comparison and arithmatic operators\n",
    "\n",
    "a=5\n",
    "b =10\n",
    "\n",
    "1. assign the value of b to a and print the  value of a\n",
    "2. now compare both a and b value and print the result using if-else and print True or False\n",
    "3. multiply a with 5 using assignment operation\n",
    "4. find out b to the power 4 using arithmatic operator \n",
    "5. compare both the values using (==) and then multiply the result with 5\n",
    "\n",
    "'''"
   ]
  },
  {
   "cell_type": "code",
   "execution_count": 3,
   "metadata": {},
   "outputs": [
    {
     "name": "stdout",
     "output_type": "stream",
     "text": [
      "10\n"
     ]
    }
   ],
   "source": [
    "#1\n",
    "a=5\n",
    "b=10\n",
    "\n",
    "a=b\n",
    "\n",
    "print(a)"
   ]
  },
  {
   "cell_type": "code",
   "execution_count": 4,
   "metadata": {},
   "outputs": [
    {
     "name": "stdout",
     "output_type": "stream",
     "text": [
      "True\n"
     ]
    }
   ],
   "source": [
    "#2\n",
    "if(a==b):\n",
    "    print(True)\n",
    "else:\n",
    "    print(False)\n"
   ]
  },
  {
   "cell_type": "code",
   "execution_count": 12,
   "metadata": {},
   "outputs": [
    {
     "name": "stdout",
     "output_type": "stream",
     "text": [
      "25\n"
     ]
    }
   ],
   "source": [
    "#3\n",
    "a = 5\n",
    "a*=5\n",
    "\n",
    "print(a)"
   ]
  },
  {
   "cell_type": "code",
   "execution_count": 13,
   "metadata": {},
   "outputs": [
    {
     "name": "stdout",
     "output_type": "stream",
     "text": [
      "10000\n"
     ]
    }
   ],
   "source": [
    "#4\n",
    "b=b**4\n",
    "print(b)"
   ]
  },
  {
   "cell_type": "code",
   "execution_count": 16,
   "metadata": {},
   "outputs": [
    {
     "name": "stdout",
     "output_type": "stream",
     "text": [
      "0\n"
     ]
    }
   ],
   "source": [
    "result = False\n",
    "\n",
    "if(a==b):\n",
    "    result = True\n",
    "\n",
    "print(result*5)"
   ]
  },
  {
   "cell_type": "code",
   "execution_count": 17,
   "metadata": {},
   "outputs": [
    {
     "name": "stdout",
     "output_type": "stream",
     "text": [
      "False\n"
     ]
    }
   ],
   "source": [
    "#Identity operator\n",
    "\n",
    "a =[1,2,3]\n",
    "b=[1,2,3]\n",
    "\n",
    "print( a is b)"
   ]
  },
  {
   "cell_type": "code",
   "execution_count": 19,
   "metadata": {},
   "outputs": [
    {
     "name": "stdout",
     "output_type": "stream",
     "text": [
      "list [1, 2, 3]\n",
      "string_list ['dataspace', 'academy']\n",
      "string_combined [1, 'dataspace', 2, 'academy']\n"
     ]
    }
   ],
   "source": [
    "#List Creation\n",
    "l=[1,2,3]\n",
    "l_string = [\"dataspace\", \"academy\"]\n",
    "\n",
    "l_combined = [1,\"dataspace\", 2 , \"academy\"]\n",
    "\n",
    "print(\"list\", l)\n",
    "print(\"string_list\", l_string)\n",
    "print(\"string_combined\",l_combined)"
   ]
  },
  {
   "cell_type": "code",
   "execution_count": 21,
   "metadata": {},
   "outputs": [
    {
     "name": "stdout",
     "output_type": "stream",
     "text": [
      "tuple (1, 2, 3)\n",
      "string_tuple ('dataspace', 'academy')\n",
      "string_combined (1, 'dataspace', 2, 'academy')\n"
     ]
    }
   ],
   "source": [
    "#Tuple Creation\n",
    "t=(1,2,3)\n",
    "t_string = (\"dataspace\", \"academy\")\n",
    "\n",
    "t_combined = (1,\"dataspace\", 2 , \"academy\")\n",
    "\n",
    "print(\"tuple\", t)\n",
    "print(\"string_tuple\", t_string)\n",
    "print(\"string_combined\",t_combined)"
   ]
  },
  {
   "cell_type": "code",
   "execution_count": 22,
   "metadata": {},
   "outputs": [
    {
     "name": "stdout",
     "output_type": "stream",
     "text": [
      "8\n"
     ]
    }
   ],
   "source": [
    "#understanding of the usages of other modules\n",
    "#create a random number\n",
    "\n",
    "import random\n",
    "\n",
    "print(random.randrange(1,100))"
   ]
  },
  {
   "cell_type": "code",
   "execution_count": 23,
   "metadata": {},
   "outputs": [
    {
     "name": "stdout",
     "output_type": "stream",
     "text": [
      "range(0, 10)\n"
     ]
    }
   ],
   "source": [
    "#Range\n",
    "print(range(0,10))"
   ]
  },
  {
   "cell_type": "code",
   "execution_count": 24,
   "metadata": {},
   "outputs": [
    {
     "name": "stdout",
     "output_type": "stream",
     "text": [
      "0\n",
      "1\n",
      "2\n",
      "3\n",
      "4\n",
      "5\n",
      "6\n",
      "7\n",
      "8\n",
      "9\n"
     ]
    }
   ],
   "source": [
    "for i in range (0,10):\n",
    "    print(i)"
   ]
  },
  {
   "cell_type": "code",
   "execution_count": null,
   "metadata": {},
   "outputs": [],
   "source": []
  }
 ],
 "metadata": {
  "kernelspec": {
   "display_name": "base",
   "language": "python",
   "name": "python3"
  },
  "language_info": {
   "codemirror_mode": {
    "name": "ipython",
    "version": 3
   },
   "file_extension": ".py",
   "mimetype": "text/x-python",
   "name": "python",
   "nbconvert_exporter": "python",
   "pygments_lexer": "ipython3",
   "version": "3.8.8"
  }
 },
 "nbformat": 4,
 "nbformat_minor": 2
}

{
 "cells": [
  {
   "cell_type": "code",
   "execution_count": 1,
   "metadata": {},
   "outputs": [
    {
     "name": "stdout",
     "output_type": "stream",
     "text": [
      "515\n"
     ]
    }
   ],
   "source": [
    "#Take two input and find the sum\n",
    "\n",
    "a = int(input())\n",
    "b = int(input())\n",
    "\n",
    "print(a+b)"
   ]
  },
  {
   "cell_type": "code",
   "execution_count": 2,
   "metadata": {},
   "outputs": [
    {
     "name": "stdout",
     "output_type": "stream",
     "text": [
      "pstv\n"
     ]
    }
   ],
   "source": [
    "#Check for negative, pstv and zero\n",
    "\n",
    "n = 10\n",
    "\n",
    "if(n>0):\n",
    "    print('pstv')\n",
    "elif(n<0):\n",
    "    print('ngtv')\n",
    "else:\n",
    "    print('zero')"
   ]
  },
  {
   "cell_type": "code",
   "execution_count": 3,
   "metadata": {},
   "outputs": [
    {
     "name": "stdout",
     "output_type": "stream",
     "text": [
      "Hello Randrita ! your age is  45 .Congratulations you are eligible\n"
     ]
    }
   ],
   "source": [
    "#Greetings qstn with name and age\n",
    "\n",
    "name =input('Enter your name: ')\n",
    "age=int(input('Enter your age: '))\n",
    "\n",
    "if(age>13):\n",
    "    print(\"Hello\", name, \"! your age is \", age, \".Congratulations you are eligible\")\n",
    "else:\n",
    "    print(\"Hello\", name, \"! your age is \", age, \".Sorry! you are not eligible\")"
   ]
  },
  {
   "cell_type": "code",
   "execution_count": 4,
   "metadata": {},
   "outputs": [
    {
     "name": "stdout",
     "output_type": "stream",
     "text": [
      "2 4 6 8 10 12 14 16 18 20 22 24 26 28 30 32 34 36 38 40 42 44 46 48 "
     ]
    }
   ],
   "source": [
    "#FOR LOOP\n",
    "#print even no. from 1-50\n",
    "\n",
    "for i in range(1,50):\n",
    "    if(i%2==0):\n",
    "        print(i, end=\" \")\n"
   ]
  },
  {
   "cell_type": "code",
   "execution_count": 5,
   "metadata": {},
   "outputs": [
    {
     "name": "stdout",
     "output_type": "stream",
     "text": [
      "73\n",
      "74\n",
      "75\n",
      "76\n",
      "77\n",
      "78\n"
     ]
    }
   ],
   "source": [
    "#In the range of 63 - 68 , read each value and add 10 to that value\n",
    "#print it\n",
    "for i in range(63,69):\n",
    "    print(i+10)"
   ]
  },
  {
   "cell_type": "code",
   "execution_count": 11,
   "metadata": {},
   "outputs": [
    {
     "name": "stdout",
     "output_type": "stream",
     "text": [
      "Factorial is not possible\n"
     ]
    }
   ],
   "source": [
    "#FACTORIAL OF A NUMBER\n",
    "n=int(input())\n",
    "\n",
    "if(n>0):\n",
    "    fact=1\n",
    "    for i in range(1,n+1):\n",
    "        fact=fact*i\n",
    "\n",
    "elif(n==0):\n",
    "    fact=1\n",
    "\n",
    "else:\n",
    "    fact=False\n",
    "\n",
    "if(fact):\n",
    "    print(\"Factorial of a number is: \", fact)\n",
    "else:\n",
    "    print(\"Factorial is not possible\")\n",
    "\n"
   ]
  },
  {
   "cell_type": "code",
   "execution_count": 14,
   "metadata": {},
   "outputs": [
    {
     "name": "stdout",
     "output_type": "stream",
     "text": [
      "5 x 1 = 5\n",
      "5 x 2 = 10\n",
      "5 x 3 = 15\n",
      "5 x 4 = 20\n",
      "5 x 5 = 25\n",
      "5 x 6 = 30\n",
      "5 x 7 = 35\n",
      "5 x 8 = 40\n",
      "5 x 9 = 45\n",
      "5 x 10 = 50\n"
     ]
    }
   ],
   "source": [
    "#print multiplication table of 2\n",
    "n=int(input())\n",
    "\n",
    "for i in range(1,11):\n",
    "    print(n, \"x\",i, '=', i*n)\n",
    "\n"
   ]
  },
  {
   "cell_type": "code",
   "execution_count": 15,
   "metadata": {},
   "outputs": [
    {
     "name": "stdout",
     "output_type": "stream",
     "text": [
      "25\n",
      "88\n",
      "113\n"
     ]
    }
   ],
   "source": [
    "#Find out the number of even numbers between 15-65(inclusive) and find out the number of odd numbers\n",
    "#between 191-279(exclusive)\n",
    "#and finally print the count of each numbers once and also the total count of odd and even number\n",
    "count_even=0\n",
    "count_odd=0\n",
    "\n",
    "for i in range(15,66):\n",
    "    if (i%2==0):\n",
    "        count_even +=1\n",
    "    \n",
    "for j in range(191,279):\n",
    "    if (i%2 !=0):\n",
    "        count_odd +=1\n",
    "\n",
    "print(count_even)\n",
    "print(count_odd)\n",
    "print(count_even+count_odd)"
   ]
  },
  {
   "cell_type": "code",
   "execution_count": null,
   "metadata": {},
   "outputs": [],
   "source": []
  }
 ],
 "metadata": {
  "kernelspec": {
   "display_name": "base",
   "language": "python",
   "name": "python3"
  },
  "language_info": {
   "codemirror_mode": {
    "name": "ipython",
    "version": 3
   },
   "file_extension": ".py",
   "mimetype": "text/x-python",
   "name": "python",
   "nbconvert_exporter": "python",
   "pygments_lexer": "ipython3",
   "version": "3.8.8"
  }
 },
 "nbformat": 4,
 "nbformat_minor": 2
}

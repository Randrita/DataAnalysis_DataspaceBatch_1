{
 "cells": [
  {
   "cell_type": "code",
   "execution_count": 2,
   "metadata": {},
   "outputs": [
    {
     "name": "stdout",
     "output_type": "stream",
     "text": [
      "0\n"
     ]
    }
   ],
   "source": [
    "#Question 1\n",
    "#You have to take 3 inputs from user, anycase 3 input numbers are different to each other\n",
    "#then you have to print 1 , otherwise if more than one number matches each other then you have to\n",
    "#print 0.\n",
    "\n",
    "a= int(input())\n",
    "b= int(input())\n",
    "c= int(input())\n",
    "\n",
    "if (a!=b and a!=c and b!=c):\n",
    "    print(1)\n",
    "else:\n",
    "    print(0)"
   ]
  },
  {
   "cell_type": "code",
   "execution_count": 6,
   "metadata": {},
   "outputs": [
    {
     "name": "stdout",
     "output_type": "stream",
     "text": [
      "That much cash is not present, your current balance is 100.00\n"
     ]
    }
   ],
   "source": [
    "'''\n",
    "Question 2\n",
    "Pooja would like to withdraw X $US from an ATM. The cash machine will only accept the\n",
    "the transaction if X is a multiple of 5, and pooja's account balance has enough cash to\n",
    "perform the withdrawl transaction ( including bank charges). For each successful withdrawl\n",
    "the bank charges 0.50 $US. calculate pooja's bank balance after an attempted transaction\n",
    "\n",
    "Input\n",
    "X = 100\n",
    "Y = pooja's initial account balance (1050.05 $USD)\n",
    "\n",
    "Output\n",
    "account balance after attempting transaction, given as a number with 2 digit\n",
    "\n",
    "'''\n",
    "\n",
    "x, y = input().split()\n",
    "\n",
    "x = int(x)\n",
    "y = float(y)\n",
    "\n",
    "if(x%5==0) and x < y :\n",
    "    remaining_amount = y - (x+0.5)\n",
    "    print(f\"Pooja's account balance is %.2f\"%remaining_amount)\n",
    "\n",
    "elif(x%5 != 0):\n",
    "    print(\"Enter the amount which is multiple of 5\")\n",
    "    \n",
    "else:\n",
    "    print(f\"That much cash is not present, your current balance is %.2f\"%y)\n"
   ]
  },
  {
   "cell_type": "code",
   "execution_count": 12,
   "metadata": {},
   "outputs": [
    {
     "name": "stdout",
     "output_type": "stream",
     "text": [
      "area 78.540\n"
     ]
    }
   ],
   "source": [
    "'''\n",
    "Question 3   \n",
    "find out the area of a circle where you need to take radius as an user input\n",
    "\n",
    "'''\n",
    "\n",
    "import math \n",
    "r = int(input())\n",
    "area= math.pi * r ** 2\n",
    "\n",
    "print(f'area %.3f'%area)"
   ]
  },
  {
   "cell_type": "code",
   "execution_count": 14,
   "metadata": {},
   "outputs": [
    {
     "name": "stdout",
     "output_type": "stream",
     "text": [
      "0\n"
     ]
    }
   ],
   "source": [
    "'''\n",
    "you have to output 0 if M is not a multiple of N.You have to output M/N if M is a multiple of N\n",
    "Input Two integers say M and N . Output you have to output 0 if M is not a multiple of N or\n",
    "you have to output M/N if M is a multiple of N\n",
    "\n",
    "'''\n",
    "\n",
    "M = int(input())\n",
    "N = int(input())\n",
    "\n",
    "if (M % N == 0):\n",
    "    r = M//N\n",
    "    print(r)\n",
    "\n",
    "else:\n",
    "    print(0)\n"
   ]
  },
  {
   "cell_type": "code",
   "execution_count": 15,
   "metadata": {},
   "outputs": [
    {
     "name": "stdout",
     "output_type": "stream",
     "text": [
      "1\n"
     ]
    }
   ],
   "source": [
    "'''\n",
    "triple of numbers (a,b,c) is called pythagorean triple if a^2 + b^2 = c^2\n",
    "In this qstn u will be given 3 numbers. you hv to output 1 if the three numbers form a \n",
    "pythagorean triple or u hv to output 0. \n",
    "\n",
    "Inputs may not be given in the order so u may need to try all possible orderings of three\n",
    "numbers to determine whether they form a triple or not. \n",
    "\n",
    "'''\n",
    "\n",
    "a = int(input())\n",
    "b = int(input())\n",
    "c = int(input())\n",
    "\n",
    "if (a**2 + b**2 ==c**2) or (a**2 + c*c == b*b) or (b*b + c*c == a*a ):\n",
    "    print(1)\n",
    "else:\n",
    "    print(0)"
   ]
  },
  {
   "cell_type": "code",
   "execution_count": 17,
   "metadata": {},
   "outputs": [
    {
     "name": "stdout",
     "output_type": "stream",
     "text": [
      "1\n",
      "3\n",
      "6\n",
      "10\n",
      "15\n"
     ]
    }
   ],
   "source": [
    "'''\n",
    "write a program to calculate the sumation of\n",
    "1 = 1 \n",
    "1+2 =3\n",
    "1+2+3 = 6\n",
    "1+2+3+4 = 10 \n",
    "1+2+3+4+5 = 15\n",
    "\n",
    "upto 5th term\n",
    "\n",
    "'''\n",
    "res=1\n",
    "for i in range(2,5+2):\n",
    "    print(res)\n",
    "    res = res + i"
   ]
  },
  {
   "cell_type": "code",
   "execution_count": null,
   "metadata": {},
   "outputs": [],
   "source": []
  }
 ],
 "metadata": {
  "kernelspec": {
   "display_name": "base",
   "language": "python",
   "name": "python3"
  },
  "language_info": {
   "codemirror_mode": {
    "name": "ipython",
    "version": 3
   },
   "file_extension": ".py",
   "mimetype": "text/x-python",
   "name": "python",
   "nbconvert_exporter": "python",
   "pygments_lexer": "ipython3",
   "version": "3.8.8"
  }
 },
 "nbformat": 4,
 "nbformat_minor": 2
}

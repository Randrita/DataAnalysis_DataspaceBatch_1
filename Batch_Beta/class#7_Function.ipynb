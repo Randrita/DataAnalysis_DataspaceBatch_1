{
 "cells": [
  {
   "cell_type": "code",
   "execution_count": 4,
   "metadata": {},
   "outputs": [
    {
     "name": "stdout",
     "output_type": "stream",
     "text": [
      "12\n"
     ]
    }
   ],
   "source": [
    "#FUNCTION\n",
    "\n",
    "def addTwo(a,b):\n",
    "    return a+b\n",
    "\n",
    "print(addTwo(5,7))"
   ]
  },
  {
   "cell_type": "code",
   "execution_count": 8,
   "metadata": {},
   "outputs": [
    {
     "name": "stdout",
     "output_type": "stream",
     "text": [
      "255\n"
     ]
    }
   ],
   "source": [
    "#create a function named as diffTwo and multThree, here difftwo will take\n",
    "#two arguments and will return the difference and multthree will take\n",
    "#three arguments and will return the multiplication of three numbers\n",
    "#then find the sum of two difftwo and multthree in add function\n",
    "\n",
    "'''\n",
    "values are : difftwo(10,5), multthree(5,10,5)\n",
    "addtwo(result of two fuctions)  \n",
    "\n",
    "'''\n",
    "\n",
    "def diffTwo(a,b):\n",
    "    return (a-b)\n",
    "\n",
    "def multThree(a,b,c):\n",
    "    return a*b*c\n",
    "\n",
    "def addTwo(a,b):\n",
    "    return a+b\n",
    "\n",
    "c = diffTwo(10,5)\n",
    "d = multThree(5,10,5)\n",
    "\n",
    "#print(addTwo(diffTwo(10,5),multThree(5,10,5)))\n",
    "print(addTwo(c,d))"
   ]
  },
  {
   "cell_type": "code",
   "execution_count": 10,
   "metadata": {},
   "outputs": [
    {
     "name": "stdout",
     "output_type": "stream",
     "text": [
      "We are going to find out the fibo series upto 7\n",
      "0\n",
      "1\n",
      "1\n",
      "2\n",
      "3\n",
      "5\n",
      "8\n"
     ]
    }
   ],
   "source": [
    "#Factorial of a number using function\n",
    "\n",
    "n1=0\n",
    "n2 = 1\n",
    "\n",
    "n3 = int(input(\"Enter the nth term\")) #5\n",
    "print(\"We are going to find out the fibo series upto\", n3)\n",
    "\n",
    "count =0 \n",
    "        \n",
    "while count < n3:\n",
    "    print(n1)\n",
    "\n",
    "    n3 = n1 + n2\n",
    "    \n",
    "    n1 = n2\n",
    "    n2 = n3\n",
    "\n",
    "    count +=1\n"
   ]
  },
  {
   "cell_type": "code",
   "execution_count": 13,
   "metadata": {},
   "outputs": [
    {
     "name": "stdout",
     "output_type": "stream",
     "text": [
      "0 1 1 2 3 5 8 "
     ]
    }
   ],
   "source": [
    "nterm = 7\n",
    "\n",
    "n1, n2 = 0, 1\n",
    "\n",
    "print(n1,n2,end=\" \")\n",
    "for i in range(2, nterm):\n",
    "    n3=n1+n2\n",
    "    n1=n2\n",
    "    n2=n3\n",
    "    print(n3, end=\" \")"
   ]
  },
  {
   "cell_type": "code",
   "execution_count": 16,
   "metadata": {},
   "outputs": [
    {
     "name": "stdout",
     "output_type": "stream",
     "text": [
      "120\n"
     ]
    }
   ],
   "source": [
    "#factorial of a number \n",
    "#Let's do this with function\n",
    "\n",
    "n = int(input())\n",
    "\n",
    "\n",
    "def fact(n):\n",
    "    fact1=1\n",
    "    for i in range(1,n+1):\n",
    "        fact1 = fact1 * i\n",
    "    return fact1\n",
    "\n",
    "print(fact(n))\n"
   ]
  },
  {
   "cell_type": "code",
   "execution_count": 17,
   "metadata": {},
   "outputs": [
    {
     "name": "stdout",
     "output_type": "stream",
     "text": [
      "a is even\n",
      "b is odd\n"
     ]
    }
   ],
   "source": [
    "#Take two numbers as parameter in the function named as check. return the number\n",
    "#is odd or even\n",
    "\n",
    "def check(a,b):\n",
    "\n",
    "    count_a=0\n",
    "    count_b=0\n",
    "\n",
    "    if(a%2==0):\n",
    "        count_a +=1\n",
    "        \n",
    "    if (b%2==0):\n",
    "        count_b +=1\n",
    "    \n",
    "    return count_a, count_b\n",
    "\n",
    "        \n",
    "a_check, b_check = check(6,7)\n",
    "\n",
    "if a_check==1 :\n",
    "    print(\"a is even\")\n",
    "else:\n",
    "    print(\"a is odd\")\n",
    "\n",
    "\n",
    "if b_check ==1:\n",
    "    print(\"b is even\")\n",
    "else:\n",
    "    print(\"b is odd\")\n",
    "\n"
   ]
  },
  {
   "cell_type": "code",
   "execution_count": 20,
   "metadata": {},
   "outputs": [
    {
     "name": "stdout",
     "output_type": "stream",
     "text": [
      "a is Even\n",
      "b is odd\n"
     ]
    }
   ],
   "source": [
    "def check1(a,b):\n",
    "    if(a%2==0):\n",
    "        print(\"a is Even\")\n",
    "    if(a%2 != 0):\n",
    "        print(\"a is Odd\")\n",
    "    if(b%2 ==0):\n",
    "        print(\"b is even\")\n",
    "    else:\n",
    "        print(\"b is odd\")\n",
    "\n",
    "check1(6,7)"
   ]
  },
  {
   "cell_type": "code",
   "execution_count": null,
   "metadata": {},
   "outputs": [],
   "source": [
    "# Write a function prodDigits()\n",
    "#that inputs a number and returns the product of digits of that number."
   ]
  }
 ],
 "metadata": {
  "kernelspec": {
   "display_name": "base",
   "language": "python",
   "name": "python3"
  },
  "language_info": {
   "codemirror_mode": {
    "name": "ipython",
    "version": 3
   },
   "file_extension": ".py",
   "mimetype": "text/x-python",
   "name": "python",
   "nbconvert_exporter": "python",
   "pygments_lexer": "ipython3",
   "version": "3.8.8"
  }
 },
 "nbformat": 4,
 "nbformat_minor": 2
}

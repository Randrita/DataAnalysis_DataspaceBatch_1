{
 "cells": [
  {
   "cell_type": "code",
   "execution_count": null,
   "metadata": {},
   "outputs": [],
   "source": [
    "'''\n",
    "Q1\n",
    "\n",
    "Check if a number which is given by a user is a\n",
    "prime number; you need to find out the cube of\n",
    "it; if not then you need to multiply the number with the\n",
    "number it self. if the current number is an even number then\n",
    "return a list of same 5 even numbers if the number is a odd\n",
    "number print list of same 5 odd numbers\n",
    "\n",
    "'''"
   ]
  },
  {
   "cell_type": "code",
   "execution_count": 8,
   "metadata": {},
   "outputs": [
    {
     "name": "stdout",
     "output_type": "stream",
     "text": [
      "[343, 343, 343, 343, 343]\n"
     ]
    }
   ],
   "source": [
    "n = int(input(\"Enter the number you want to check = \"))\n",
    "#count=0\n",
    "\n",
    "l=[]\n",
    "\n",
    "def even(n):\n",
    "    if n%2==0:\n",
    "        return True\n",
    "    else:\n",
    "        return False\n",
    "\n",
    "\n",
    "#prime check\n",
    "for i in range ( 2 , n ):\n",
    "    if (n%i==0):\n",
    "        count=0\n",
    "        break\n",
    "else:\n",
    "    count+=1\n",
    "\n",
    "if(count>0):\n",
    "    number=n*n*n\n",
    "    if(even(number)):\n",
    "        l.append(number)\n",
    "    else:\n",
    "        l.append(number)\n",
    "else:\n",
    "    number=n**2\n",
    "    if(even(number)):\n",
    "        l.append(number)\n",
    "    else:\n",
    "        l.append(number)\n",
    "\n",
    "\n",
    "\n",
    "print(l*5)"
   ]
  },
  {
   "cell_type": "code",
   "execution_count": null,
   "metadata": {},
   "outputs": [],
   "source": []
  }
 ],
 "metadata": {
  "kernelspec": {
   "display_name": "base",
   "language": "python",
   "name": "python3"
  },
  "language_info": {
   "codemirror_mode": {
    "name": "ipython",
    "version": 3
   },
   "file_extension": ".py",
   "mimetype": "text/x-python",
   "name": "python",
   "nbconvert_exporter": "python",
   "pygments_lexer": "ipython3",
   "version": "3.8.8"
  }
 },
 "nbformat": 4,
 "nbformat_minor": 2
}

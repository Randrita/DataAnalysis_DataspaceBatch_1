{
 "cells": [
  {
   "cell_type": "code",
   "execution_count": null,
   "metadata": {},
   "outputs": [],
   "source": [
    "'''\n",
    "Question:\n",
    "You are tasked with writing a Python program to calculate and print the total cost of a customer's order\n",
    "at a coffee shop. \n",
    "\n",
    "The shop offers three types of beverages: coffee, tea, and hot chocolate.\n",
    "\n",
    "The cost of each item is as follows:\n",
    "\n",
    "Coffee: 2.50 per cup\n",
    "Tea: 1.75 per cup\n",
    "Hot Chocolate: 3.00 per cup\n",
    "\n",
    "The customer can order any combination of these beverages, and you need to calculate the total\n",
    "cost for their order.\n",
    "\n",
    "Additionally, the customer might want to buy some pastries, which have their own prices:\n",
    "\n",
    "Croissant: 2.00 each\n",
    "Muffin: 1.50 each\n",
    "Danish: 2.50 each\n",
    "The program should ask the customer how many cups of each beverage they would like and\n",
    "how many pastries of each type they want. Then, it should calculate and print the total cost of the order.\n",
    "\n",
    "Your Python program should:\n",
    "\n",
    "Prompt the user to enter the number of cups of coffee, tea, and hot chocolate they want to order.\n",
    "Prompt the user to enter the number of croissants, muffins, and danishes they want to order.\n",
    "Calculate the total cost for beverages and pastries separately.\n",
    "Calculate the overall total cost by adding the beverage cost and pastry cost.\n",
    "Display the individual costs for beverages and pastries, as well as the total cost of the order.\n",
    "\n",
    "\n",
    "'''"
   ]
  },
  {
   "cell_type": "code",
   "execution_count": 1,
   "metadata": {},
   "outputs": [
    {
     "name": "stdout",
     "output_type": "stream",
     "text": [
      "total price of 15.0\n",
      "total price of 30.5\n",
      "45.5\n"
     ]
    }
   ],
   "source": [
    "coffee = int(input())\n",
    "tea= int(input())\n",
    "hotchocolate= int(input())\n",
    "\n",
    "croissant= int(input())\n",
    "muffin= int(input())\n",
    "danish= int(input())\n",
    "\n",
    "coffee_amount= coffee*2.50\n",
    "tea_amount= tea*1.75\n",
    "hotchocolate_amount= hotchocolate*3.00\n",
    "\n",
    "croissant_amount= croissant*2.00\n",
    "muffin_amount= muffin*1.50\n",
    "danish_amount= danish*2.50\n",
    "\n",
    "beverages= coffee_amount+tea_amount+hotchocolate_amount\n",
    "pastries= croissant_amount+muffin_amount+danish_amount\n",
    "\n",
    "total_price= beverages + pastries\n",
    "print('total price of',beverages)\n",
    "print('total price of',pastries)\n",
    "\n",
    "print(total_price)"
   ]
  },
  {
   "cell_type": "code",
   "execution_count": 2,
   "metadata": {},
   "outputs": [
    {
     "name": "stdout",
     "output_type": "stream",
     "text": [
      "He or She is a adult\n"
     ]
    }
   ],
   "source": [
    "age = int(input(\"Enter the age : \"))\n",
    "if age<5:\n",
    " print(\"He or She is a kid\")\n",
    "elif age>5 and age<18:\n",
    " print(\"He or She is a teen\")\n",
    "elif age>=18 and age<60:\n",
    " print(\"He or She is a adult\")\n",
    "elif age>=60:\n",
    " print(\"He or She is a senior\")"
   ]
  },
  {
   "cell_type": "code",
   "execution_count": 3,
   "metadata": {},
   "outputs": [
    {
     "name": "stdout",
     "output_type": "stream",
     "text": [
      "'The input is neither a multiple of 3 nor an even number.\n"
     ]
    }
   ],
   "source": [
    "x = int(input(\"Enter the number : \"))\n",
    "if x%3==0:\n",
    " print(\"The input is a multiple of 3.\")\n",
    "elif x%2==0:\n",
    " print(\"The input is a even number.\")\n",
    "else:\n",
    " print(\"'The input is neither a multiple of 3 nor an even number.\")"
   ]
  },
  {
   "cell_type": "code",
   "execution_count": 4,
   "metadata": {},
   "outputs": [
    {
     "name": "stdout",
     "output_type": "stream",
     "text": [
      "2550\n"
     ]
    }
   ],
   "source": [
    "x = 0\n",
    "for i in range(0,101):\n",
    "    if i%2==0:\n",
    "        x+=i\n",
    "        \n",
    "print(x) "
   ]
  },
  {
   "cell_type": "code",
   "execution_count": 6,
   "metadata": {},
   "outputs": [],
   "source": [
    "#List Input\n",
    "\n",
    "length = int(input(\"What is the length of the list: \"))\n",
    "l=[]\n",
    "\n",
    "while(len(l)<length):\n",
    "    n=int(input())\n",
    "    l.append(n)"
   ]
  },
  {
   "cell_type": "code",
   "execution_count": 7,
   "metadata": {},
   "outputs": [
    {
     "name": "stdout",
     "output_type": "stream",
     "text": [
      "[1, 2, 3, 4, 5, 6, 7, 8, 9, 10]\n"
     ]
    }
   ],
   "source": [
    "print(l)"
   ]
  },
  {
   "cell_type": "code",
   "execution_count": 16,
   "metadata": {},
   "outputs": [
    {
     "name": "stdout",
     "output_type": "stream",
     "text": [
      "30\n"
     ]
    }
   ],
   "source": [
    "#list\n",
    "#sum of even numbers\n",
    "l=[1,2,3,4,5,6,7,8,9,10]\n",
    "sum=0\n",
    "for i in l:\n",
    "    if i%2==0:\n",
    "        sum+=i\n",
    "\n",
    "print(sum)\n"
   ]
  },
  {
   "cell_type": "code",
   "execution_count": 17,
   "metadata": {},
   "outputs": [
    {
     "name": "stdout",
     "output_type": "stream",
     "text": [
      "25\n"
     ]
    }
   ],
   "source": [
    "#sum of odd numbers\n",
    "sum=0\n",
    "for i in l:\n",
    "    if i%2!=0:\n",
    "        sum+=i\n",
    "\n",
    "print(sum)"
   ]
  },
  {
   "cell_type": "code",
   "execution_count": 18,
   "metadata": {},
   "outputs": [],
   "source": [
    "#sorting\n",
    "l=[2,5,9,7,1,0,32,41,14]"
   ]
  },
  {
   "cell_type": "code",
   "execution_count": 20,
   "metadata": {},
   "outputs": [],
   "source": [
    "l.sort()"
   ]
  },
  {
   "cell_type": "code",
   "execution_count": 21,
   "metadata": {},
   "outputs": [
    {
     "name": "stdout",
     "output_type": "stream",
     "text": [
      "[0, 1, 2, 5, 7, 9, 14, 32, 41]\n"
     ]
    }
   ],
   "source": [
    "print(l)"
   ]
  },
  {
   "cell_type": "code",
   "execution_count": 22,
   "metadata": {},
   "outputs": [
    {
     "name": "stdout",
     "output_type": "stream",
     "text": [
      "max_value 41\n"
     ]
    }
   ],
   "source": [
    "print(\"max_value\",l[len(l)-1])"
   ]
  },
  {
   "cell_type": "code",
   "execution_count": 23,
   "metadata": {},
   "outputs": [
    {
     "name": "stdout",
     "output_type": "stream",
     "text": [
      "min_value 0\n"
     ]
    }
   ],
   "source": [
    "print(\"min_value\",l[0])"
   ]
  },
  {
   "cell_type": "code",
   "execution_count": 26,
   "metadata": {},
   "outputs": [
    {
     "name": "stdout",
     "output_type": "stream",
     "text": [
      "Duplicate exists\n"
     ]
    }
   ],
   "source": [
    "#Duplicate values in a list\n",
    "\n",
    "l=[1,4,9,2,2,2,2,10]\n",
    "\n",
    "for i in range(0,len(l)):\n",
    "    for j in range (i+1,len(l)):\n",
    "        if(l[i]==l[j]):\n",
    "            value=True\n",
    "            break\n",
    "\n",
    "if(value):\n",
    "    print(\"Duplicate exists\")\n",
    "else:\n",
    "    print(\"no duplicates\")\n"
   ]
  },
  {
   "cell_type": "code",
   "execution_count": null,
   "metadata": {},
   "outputs": [],
   "source": []
  }
 ],
 "metadata": {
  "kernelspec": {
   "display_name": "base",
   "language": "python",
   "name": "python3"
  },
  "language_info": {
   "codemirror_mode": {
    "name": "ipython",
    "version": 3
   },
   "file_extension": ".py",
   "mimetype": "text/x-python",
   "name": "python",
   "nbconvert_exporter": "python",
   "pygments_lexer": "ipython3",
   "version": "3.8.8"
  }
 },
 "nbformat": 4,
 "nbformat_minor": 2
}

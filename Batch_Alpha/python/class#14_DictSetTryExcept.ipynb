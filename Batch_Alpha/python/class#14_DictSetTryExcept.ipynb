{
 "cells": [
  {
   "cell_type": "code",
   "execution_count": 1,
   "metadata": {},
   "outputs": [
    {
     "name": "stdout",
     "output_type": "stream",
     "text": [
      "{'Sourav': 5674, 'Naveen': 7489, 'Sanju': 4789}\n"
     ]
    }
   ],
   "source": [
    "#dictonary\n",
    "\n",
    "my_dict = {\n",
    "\n",
    "    \"Sourav\": 5674,\n",
    "    \"Naveen\": 7489,\n",
    "    \"Sanju\": 4789\n",
    "}\n",
    "\n",
    "print(my_dict)"
   ]
  },
  {
   "cell_type": "code",
   "execution_count": 2,
   "metadata": {},
   "outputs": [
    {
     "name": "stdout",
     "output_type": "stream",
     "text": [
      "5674\n"
     ]
    }
   ],
   "source": [
    "#accesing item from dict\n",
    "print(my_dict[\"Sourav\"])"
   ]
  },
  {
   "cell_type": "code",
   "execution_count": null,
   "metadata": {},
   "outputs": [],
   "source": [
    "'''\n",
    "- Ordered\n",
    "- changeable\n",
    "- don't allow duplicates\n",
    "\n",
    "\n",
    "'''"
   ]
  },
  {
   "cell_type": "code",
   "execution_count": 3,
   "metadata": {},
   "outputs": [
    {
     "name": "stdout",
     "output_type": "stream",
     "text": [
      "{'Sourav': 5675, 'Naveen': 7489, 'Sanju': 4789}\n"
     ]
    }
   ],
   "source": [
    "#don't allow duplicates\n",
    "my_dict1 = {\n",
    "\n",
    "    \"Sourav\": 5674,\n",
    "    \"Sourav\": 5675,\n",
    "    \"Naveen\": 7489,\n",
    "    \"Sanju\": 4789\n",
    "}\n",
    "\n",
    "print(my_dict1)"
   ]
  },
  {
   "cell_type": "code",
   "execution_count": 4,
   "metadata": {},
   "outputs": [
    {
     "data": {
      "text/plain": [
       "3"
      ]
     },
     "execution_count": 4,
     "metadata": {},
     "output_type": "execute_result"
    }
   ],
   "source": [
    "#length\n",
    "len(my_dict1)"
   ]
  },
  {
   "cell_type": "code",
   "execution_count": 5,
   "metadata": {},
   "outputs": [
    {
     "data": {
      "text/plain": [
       "dict"
      ]
     },
     "execution_count": 5,
     "metadata": {},
     "output_type": "execute_result"
    }
   ],
   "source": [
    "#type()\n",
    "\n",
    "type(my_dict1)"
   ]
  },
  {
   "cell_type": "code",
   "execution_count": 7,
   "metadata": {},
   "outputs": [
    {
     "name": "stdout",
     "output_type": "stream",
     "text": [
      "{'name': 'dataspace', 'address': 'saltlake', 'city': 'kolkata'}\n"
     ]
    }
   ],
   "source": [
    "#constructor\n",
    "new_dict = dict(name='dataspace',address='saltlake',city='kolkata')\n",
    "print(new_dict)"
   ]
  },
  {
   "cell_type": "code",
   "execution_count": 9,
   "metadata": {},
   "outputs": [
    {
     "name": "stdout",
     "output_type": "stream",
     "text": [
      "7489\n"
     ]
    }
   ],
   "source": [
    "#accessing items with get()\n",
    "v = my_dict.get(\"Naveen\")\n",
    "\n",
    "print(v)"
   ]
  },
  {
   "cell_type": "code",
   "execution_count": 10,
   "metadata": {},
   "outputs": [
    {
     "name": "stdout",
     "output_type": "stream",
     "text": [
      "dict_keys(['Sourav', 'Naveen', 'Sanju'])\n"
     ]
    }
   ],
   "source": [
    "#keys()\n",
    "k= my_dict.keys()\n",
    "print(k)"
   ]
  },
  {
   "cell_type": "code",
   "execution_count": 11,
   "metadata": {},
   "outputs": [
    {
     "name": "stdout",
     "output_type": "stream",
     "text": [
      "{'Sourav': 5674, 'Naveen': 7489, 'Sanju': 4789, 'Shirin': 5684}\n"
     ]
    }
   ],
   "source": [
    "#Add a key value pair\n",
    "my_dict[\"Shirin\"]=5684\n",
    "\n",
    "print(my_dict)"
   ]
  },
  {
   "cell_type": "code",
   "execution_count": 13,
   "metadata": {},
   "outputs": [
    {
     "name": "stdout",
     "output_type": "stream",
     "text": [
      "dict_values([5674, 7489, 4789, 5684])\n"
     ]
    }
   ],
   "source": [
    "#values()\n",
    "v1 = my_dict.values()\n",
    "\n",
    "print(v1)\n"
   ]
  },
  {
   "cell_type": "code",
   "execution_count": 15,
   "metadata": {},
   "outputs": [
    {
     "name": "stdout",
     "output_type": "stream",
     "text": [
      "{'brand': 'kia', 'model': 'seltos', 'year': 2023, 'colour': 'cream'}\n"
     ]
    }
   ],
   "source": [
    "#create a dictionary of a car\n",
    "# brand - kia, model - seltos, year - 2023, colour - cream\n",
    "\n",
    "car = {\n",
    "    \"brand\": 'kia',\n",
    "    'model':'seltos',\n",
    "    'year': 2023,\n",
    "    'colour':'cream'\n",
    "}\n",
    "\n",
    "print(car)"
   ]
  },
  {
   "cell_type": "code",
   "execution_count": 17,
   "metadata": {},
   "outputs": [
    {
     "name": "stdout",
     "output_type": "stream",
     "text": [
      "dict_items([('brand', 'kia'), ('model', 'seltos'), ('year', 2023), ('colour', 'cream')])\n"
     ]
    }
   ],
   "source": [
    "#items()\n",
    "x=car.items()\n",
    "print(x)"
   ]
  },
  {
   "cell_type": "code",
   "execution_count": 18,
   "metadata": {},
   "outputs": [
    {
     "name": "stdout",
     "output_type": "stream",
     "text": [
      "dict_items([('brand', 'kia'), ('model', 'seltos'), ('year', 2021), ('colour', 'cream')])\n"
     ]
    }
   ],
   "source": [
    "#change a value\n",
    "car['year'] = 2021\n",
    "print(x)"
   ]
  },
  {
   "cell_type": "code",
   "execution_count": 19,
   "metadata": {},
   "outputs": [
    {
     "name": "stdout",
     "output_type": "stream",
     "text": [
      "yes it exists\n"
     ]
    }
   ],
   "source": [
    "#if-else in a dict\n",
    "\n",
    "if \"brand\" in car:\n",
    "    print(\"yes it exists\")"
   ]
  },
  {
   "cell_type": "code",
   "execution_count": 20,
   "metadata": {},
   "outputs": [
    {
     "name": "stdout",
     "output_type": "stream",
     "text": [
      "dict_items([('brand', 'kia'), ('model', 'seltos'), ('year', 2000), ('colour', 'cream')])\n"
     ]
    }
   ],
   "source": [
    "#update()\n",
    "car.update({\"year\":2000})\n",
    "\n",
    "print(car.items())"
   ]
  },
  {
   "cell_type": "code",
   "execution_count": 21,
   "metadata": {},
   "outputs": [
    {
     "name": "stdout",
     "output_type": "stream",
     "text": [
      "{'brand': 'kia', 'model': 'seltos', 'colour': 'cream'}\n"
     ]
    }
   ],
   "source": [
    "#pop()\n",
    "car.pop('year')\n",
    "print(car)"
   ]
  },
  {
   "cell_type": "code",
   "execution_count": 22,
   "metadata": {},
   "outputs": [
    {
     "name": "stdout",
     "output_type": "stream",
     "text": [
      "{'brand': 'kia', 'model': 'seltos'}\n"
     ]
    }
   ],
   "source": [
    "car.popitem()\n",
    "print(car)"
   ]
  },
  {
   "cell_type": "code",
   "execution_count": 23,
   "metadata": {},
   "outputs": [
    {
     "name": "stdout",
     "output_type": "stream",
     "text": [
      "{}\n"
     ]
    }
   ],
   "source": [
    "#clear()\n",
    "car.clear()\n",
    "print(car)"
   ]
  },
  {
   "cell_type": "code",
   "execution_count": 24,
   "metadata": {},
   "outputs": [
    {
     "ename": "NameError",
     "evalue": "name 'car' is not defined",
     "output_type": "error",
     "traceback": [
      "\u001b[1;31m---------------------------------------------------------------------------\u001b[0m",
      "\u001b[1;31mNameError\u001b[0m                                 Traceback (most recent call last)",
      "\u001b[1;32m<ipython-input-24-c7657efb2466>\u001b[0m in \u001b[0;36m<module>\u001b[1;34m\u001b[0m\n\u001b[0;32m      1\u001b[0m \u001b[1;31m#to delete the entire dict\u001b[0m\u001b[1;33m\u001b[0m\u001b[1;33m\u001b[0m\u001b[1;33m\u001b[0m\u001b[0m\n\u001b[0;32m      2\u001b[0m \u001b[1;32mdel\u001b[0m \u001b[0mcar\u001b[0m\u001b[1;33m\u001b[0m\u001b[1;33m\u001b[0m\u001b[0m\n\u001b[1;32m----> 3\u001b[1;33m \u001b[0mprint\u001b[0m\u001b[1;33m(\u001b[0m\u001b[0mcar\u001b[0m\u001b[1;33m)\u001b[0m\u001b[1;33m\u001b[0m\u001b[1;33m\u001b[0m\u001b[0m\n\u001b[0m",
      "\u001b[1;31mNameError\u001b[0m: name 'car' is not defined"
     ]
    }
   ],
   "source": [
    "#to delete the entire dict\n",
    "del car\n",
    "print(car)\n"
   ]
  },
  {
   "cell_type": "code",
   "execution_count": 25,
   "metadata": {},
   "outputs": [
    {
     "name": "stdout",
     "output_type": "stream",
     "text": [
      "brand\n",
      "model\n",
      "year\n",
      "colour\n"
     ]
    }
   ],
   "source": [
    "#looping in a dict\n",
    "car = {\n",
    "    \"brand\": 'kia',\n",
    "    'model':'seltos',\n",
    "    'year': 2023,\n",
    "    'colour':'cream'\n",
    "}\n",
    "\n",
    "for x in car:\n",
    "    print(x)"
   ]
  },
  {
   "cell_type": "code",
   "execution_count": 26,
   "metadata": {},
   "outputs": [
    {
     "name": "stdout",
     "output_type": "stream",
     "text": [
      "kia\n",
      "seltos\n",
      "2023\n",
      "cream\n"
     ]
    }
   ],
   "source": [
    "#for values\n",
    "for x in car:\n",
    "    print(car[x])"
   ]
  },
  {
   "cell_type": "code",
   "execution_count": 27,
   "metadata": {},
   "outputs": [
    {
     "name": "stdout",
     "output_type": "stream",
     "text": [
      "{'brand': 'kia', 'model': 'seltos', 'year': 2023, 'colour': 'cream'}\n"
     ]
    }
   ],
   "source": [
    "gari = car.copy()\n",
    "print(gari)"
   ]
  },
  {
   "cell_type": "code",
   "execution_count": null,
   "metadata": {},
   "outputs": [],
   "source": [
    "car={\n",
    "    \"brand\": \"Ford\",\n",
    "    \"model\": \"Kuch bhi\",\n",
    "    \"year\":2000\n",
    "}"
   ]
  },
  {
   "cell_type": "code",
   "execution_count": null,
   "metadata": {},
   "outputs": [],
   "source": [
    "#SET\n",
    "\n",
    "'''\n",
    "- unordered\n",
    "- unindexed\n",
    "- no duplicates\n",
    "'''"
   ]
  },
  {
   "cell_type": "code",
   "execution_count": 29,
   "metadata": {},
   "outputs": [
    {
     "name": "stdout",
     "output_type": "stream",
     "text": [
      "{'apple', 'mango', 'guava'}\n"
     ]
    }
   ],
   "source": [
    "my_set={'apple','apple','apple','guava','mango'}\n",
    "print(my_set)"
   ]
  },
  {
   "cell_type": "code",
   "execution_count": 33,
   "metadata": {},
   "outputs": [
    {
     "name": "stdout",
     "output_type": "stream",
     "text": [
      "{'banana', 'apple', True, 0}\n"
     ]
    }
   ],
   "source": [
    "#True and 1\n",
    "my_new_set={\"apple\",\"banana\",True,1,0,False}\n",
    "print(my_new_set)"
   ]
  },
  {
   "cell_type": "code",
   "execution_count": 34,
   "metadata": {},
   "outputs": [
    {
     "name": "stdout",
     "output_type": "stream",
     "text": [
      "4\n"
     ]
    }
   ],
   "source": [
    "#len()\n",
    "print(len(my_new_set))"
   ]
  },
  {
   "cell_type": "code",
   "execution_count": 35,
   "metadata": {},
   "outputs": [
    {
     "data": {
      "text/plain": [
       "set"
      ]
     },
     "execution_count": 35,
     "metadata": {},
     "output_type": "execute_result"
    }
   ],
   "source": [
    "type(my_new_set)"
   ]
  },
  {
   "cell_type": "code",
   "execution_count": 36,
   "metadata": {},
   "outputs": [
    {
     "name": "stdout",
     "output_type": "stream",
     "text": [
      "{'space', 'data', 'academy'}\n"
     ]
    }
   ],
   "source": [
    "#set constructor\n",
    "my_new_set=set((\"data\",\"space\",\"academy\",\"academy\"))\n",
    "print(my_new_set)"
   ]
  },
  {
   "cell_type": "code",
   "execution_count": 37,
   "metadata": {},
   "outputs": [
    {
     "name": "stdout",
     "output_type": "stream",
     "text": [
      "space\n",
      "data\n",
      "academy\n"
     ]
    }
   ],
   "source": [
    "for x in my_new_set:\n",
    "    print(x)"
   ]
  },
  {
   "cell_type": "code",
   "execution_count": 38,
   "metadata": {},
   "outputs": [
    {
     "name": "stdout",
     "output_type": "stream",
     "text": [
      "yes it present\n"
     ]
    }
   ],
   "source": [
    "if 'academy' in my_new_set:\n",
    "    print(\"yes it present\")"
   ]
  },
  {
   "cell_type": "code",
   "execution_count": 39,
   "metadata": {},
   "outputs": [
    {
     "name": "stdout",
     "output_type": "stream",
     "text": [
      "{'space', 'python', 'data', 'academy'}\n"
     ]
    }
   ],
   "source": [
    "my_new_set.add(\"python\")\n",
    "print(my_new_set)"
   ]
  },
  {
   "cell_type": "code",
   "execution_count": 42,
   "metadata": {},
   "outputs": [
    {
     "name": "stdout",
     "output_type": "stream",
     "text": [
      "{'cyber', 'space', 'data', 'python', 'java', 'academy', 'data science'}\n"
     ]
    }
   ],
   "source": [
    "#update\n",
    "l1= ['java','cyber','data science']\n",
    "my_new_set.update(l1)\n",
    "print(my_new_set)\n"
   ]
  },
  {
   "cell_type": "code",
   "execution_count": 44,
   "metadata": {},
   "outputs": [
    {
     "name": "stdout",
     "output_type": "stream",
     "text": [
      "{1, 2, 3, 4, 5, 6, 7, 8}\n"
     ]
    }
   ],
   "source": [
    "#Join Two Sets\n",
    "#Union\n",
    "\n",
    "set1 = {1,2,3,4}\n",
    "set2= {5,6,7,8}\n",
    "\n",
    "set3=set1.union(set2)\n",
    "\n",
    "print(set3)"
   ]
  },
  {
   "cell_type": "code",
   "execution_count": 46,
   "metadata": {},
   "outputs": [
    {
     "name": "stdout",
     "output_type": "stream",
     "text": [
      "{1, 2, 3, 4, 5}\n"
     ]
    }
   ],
   "source": [
    "A = { 1,2,3}\n",
    "B= {4,5,3}\n",
    "\n",
    "C = A.union(B)\n",
    "print(C)"
   ]
  },
  {
   "cell_type": "code",
   "execution_count": null,
   "metadata": {},
   "outputs": [],
   "source": [
    "A = { 1,2,3}\n",
    "B= {4,5,3}\n",
    "\n",
    "C = A.intersection(B)\n",
    "print(C)"
   ]
  },
  {
   "cell_type": "code",
   "execution_count": 52,
   "metadata": {},
   "outputs": [
    {
     "name": "stdout",
     "output_type": "stream",
     "text": [
      "True\n"
     ]
    }
   ],
   "source": [
    "A= {1,2,3,4,5}\n",
    "B={3,4,5}\n",
    "\n",
    "print(B.issubset(A))"
   ]
  },
  {
   "cell_type": "code",
   "execution_count": 54,
   "metadata": {},
   "outputs": [
    {
     "name": "stdout",
     "output_type": "stream",
     "text": [
      "variable v is not defined\n"
     ]
    }
   ],
   "source": [
    "#Try and Except - Exception Handling\n",
    "\n",
    "try:\n",
    "    print(r)\n",
    "except NameError:\n",
    "    print(\"variable v is not defined\")\n",
    "except:\n",
    "    print(\"something else went wrong\")\n"
   ]
  },
  {
   "cell_type": "code",
   "execution_count": 55,
   "metadata": {},
   "outputs": [
    {
     "ename": "NameError",
     "evalue": "name 'r' is not defined",
     "output_type": "error",
     "traceback": [
      "\u001b[1;31m---------------------------------------------------------------------------\u001b[0m",
      "\u001b[1;31mNameError\u001b[0m                                 Traceback (most recent call last)",
      "\u001b[1;32m<ipython-input-55-c6b8a6a9416b>\u001b[0m in \u001b[0;36m<module>\u001b[1;34m\u001b[0m\n\u001b[1;32m----> 1\u001b[1;33m \u001b[0mprint\u001b[0m\u001b[1;33m(\u001b[0m\u001b[0mr\u001b[0m\u001b[1;33m)\u001b[0m\u001b[1;33m\u001b[0m\u001b[1;33m\u001b[0m\u001b[0m\n\u001b[0m",
      "\u001b[1;31mNameError\u001b[0m: name 'r' is not defined"
     ]
    }
   ],
   "source": [
    "print(r)"
   ]
  },
  {
   "cell_type": "code",
   "execution_count": null,
   "metadata": {},
   "outputs": [],
   "source": [
    "#End of python"
   ]
  }
 ],
 "metadata": {
  "kernelspec": {
   "display_name": "base",
   "language": "python",
   "name": "python3"
  },
  "language_info": {
   "codemirror_mode": {
    "name": "ipython",
    "version": 3
   },
   "file_extension": ".py",
   "mimetype": "text/x-python",
   "name": "python",
   "nbconvert_exporter": "python",
   "pygments_lexer": "ipython3",
   "version": "3.8.8"
  }
 },
 "nbformat": 4,
 "nbformat_minor": 2
}

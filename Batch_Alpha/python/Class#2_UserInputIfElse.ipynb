{
 "cells": [
  {
   "cell_type": "markdown",
   "id": "29fb3dd6",
   "metadata": {},
   "source": [
    "**PROBLEM STATEMENT 1**\n",
    "_you have to create one calculator which takes 2 integer inputs from user and return the addition of two inputs._\n",
    "\n",
    "**Algorithm**\n",
    "**flowchart**\n",
    "**pseudo code**\n",
    "\n",
    "show enter number 1\n",
    "take User Input 1\n",
    "\n",
    "show Enter Number 2\n",
    "take User Input 2\n",
    "\n",
    "print addition of num1 and num2"
   ]
  },
  {
   "cell_type": "code",
   "execution_count": 10,
   "id": "5fdf7ecd",
   "metadata": {},
   "outputs": [
    {
     "name": "stdout",
     "output_type": "stream",
     "text": [
      "Enter Number 1 : 2\n",
      "Enter Number 2 : 5\n",
      "The addition of two numbers is:  7\n"
     ]
    }
   ],
   "source": [
    "#taking 1st user input\n",
    "num1 = int(input(\"Enter Number 1 \" + \": \"))\n",
    "\n",
    "#taking 2nd user input\n",
    "num2= int(input(\"Enter Number 2 \" + \": \"))\n",
    "\n",
    "#showing output\n",
    "result = num1 + num2\n",
    "print(\"The addition of two numbers is: \", result)\n"
   ]
  },
  {
   "cell_type": "markdown",
   "id": "ebc6b264",
   "metadata": {},
   "source": [
    "**PROBLEM 2 ->Take two user inputs and solve (a)^2 x b**"
   ]
  },
  {
   "cell_type": "code",
   "execution_count": 11,
   "id": "c62b6540",
   "metadata": {},
   "outputs": [
    {
     "name": "stdout",
     "output_type": "stream",
     "text": [
      "Enter Number 1 : 2\n",
      "Enter Number 2 : 2\n",
      "The result of the given expression is:  8\n"
     ]
    }
   ],
   "source": [
    "#taking 1st user input\n",
    "num1 = int(input(\"Enter Number 1 \" + \": \"))\n",
    "\n",
    "#taking 2nd user input\n",
    "num2= int(input(\"Enter Number 2 \" + \": \"))\n",
    "\n",
    "#showing output\n",
    "result = (num1 ** num1)*num2\n",
    "print(\"The result of the given expression is: \", result)\n",
    "\n"
   ]
  },
  {
   "cell_type": "markdown",
   "id": "ab104b39",
   "metadata": {},
   "source": [
    "**PROBLEM 3: CHECK IF A NUMBER IS NEGATIVE NUMBER OR POSITIVE NUMBER**"
   ]
  },
  {
   "cell_type": "code",
   "execution_count": 16,
   "id": "fc80d3d3",
   "metadata": {},
   "outputs": [
    {
     "name": "stdout",
     "output_type": "stream",
     "text": [
      "Enter the number you want to check: 5\n",
      "the given number 5 is positive\n"
     ]
    }
   ],
   "source": [
    "n=int(input(\"Enter the number you want to check: \"))\n",
    "if(n>0):\n",
    "    print(\"the given number\" , n , \"is positive\")\n",
    "elif(n==0):\n",
    "    print(\"the given number\" , n , \"is zero\")\n",
    "\n",
    "else:\n",
    "    print(\"the given number\", n , \"is negative\")"
   ]
  },
  {
   "cell_type": "markdown",
   "id": "3eb61215",
   "metadata": {},
   "source": [
    "**PROBLEM 4: CHECK IF A NUMBER IS PALLINDROME OR NOT**"
   ]
  },
  {
   "cell_type": "code",
   "execution_count": 22,
   "id": "211f12d0",
   "metadata": {},
   "outputs": [
    {
     "name": "stdout",
     "output_type": "stream",
     "text": [
      "Enter the number you want to verify 121\n",
      "The given number 121 is a pallindrome number\n"
     ]
    }
   ],
   "source": [
    "num=int(input(\"Enter the number you want to verify \"))\n",
    "\n",
    "n=num\n",
    "reverse=0\n",
    "\n",
    "while(n>0):\n",
    "    temp=n%10\n",
    "    reverse=(reverse*10)+temp\n",
    "    n=n//10\n",
    "    \n",
    "if(num==reverse):\n",
    "    print(f\"The given number {num} is a pallindrome number\")\n",
    "else:\n",
    "    print(f\"The given number {num} is not a pallindrome number\")"
   ]
  },
  {
   "cell_type": "code",
   "execution_count": null,
   "id": "e78c1a05",
   "metadata": {},
   "outputs": [],
   "source": []
  }
 ],
 "metadata": {
  "kernelspec": {
   "display_name": "Python 3",
   "language": "python",
   "name": "python3"
  },
  "language_info": {
   "codemirror_mode": {
    "name": "ipython",
    "version": 3
   },
   "file_extension": ".py",
   "mimetype": "text/x-python",
   "name": "python",
   "nbconvert_exporter": "python",
   "pygments_lexer": "ipython3",
   "version": "3.8.8"
  }
 },
 "nbformat": 4,
 "nbformat_minor": 5
}

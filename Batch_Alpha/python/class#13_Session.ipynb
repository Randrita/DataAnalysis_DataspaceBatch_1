{
 "cells": [
  {
   "cell_type": "code",
   "execution_count": null,
   "metadata": {},
   "outputs": [],
   "source": [
    "#Random Problem\n",
    "\n",
    "'''\n",
    "Create a string to wish Happy Diwali. The string will \"Happy Diwali to you\" and you need to print a substring called\n",
    "diwali from here. Print the same substring 5 times. Now create a diwali function out of it! the function will take the\n",
    "name of your friend and will print \"Hey [your friend name], Its time for\" and rest the upper code.\n",
    "\n",
    "\n",
    "'''"
   ]
  },
  {
   "cell_type": "code",
   "execution_count": 2,
   "metadata": {},
   "outputs": [
    {
     "name": "stdout",
     "output_type": "stream",
     "text": [
      "Diwali\n"
     ]
    }
   ],
   "source": [
    "d = \"Happy Diwali to you\"\n",
    "d1 = d[6:12]\n",
    "\n",
    "print(d1)"
   ]
  },
  {
   "cell_type": "code",
   "execution_count": 3,
   "metadata": {},
   "outputs": [
    {
     "name": "stdout",
     "output_type": "stream",
     "text": [
      "Diwali\n",
      "Diwali\n",
      "Diwali\n",
      "Diwali\n",
      "Diwali\n"
     ]
    }
   ],
   "source": [
    "i=5\n",
    "while(i>0):\n",
    "    print(d1)\n",
    "    i=i-1"
   ]
  },
  {
   "cell_type": "code",
   "execution_count": 5,
   "metadata": {},
   "outputs": [
    {
     "name": "stdout",
     "output_type": "stream",
     "text": [
      "Hey Randrita, Its time for!!!\n",
      "Diwali\n",
      "Diwali\n",
      "Diwali\n",
      "Diwali\n",
      "Diwali\n"
     ]
    }
   ],
   "source": [
    "def diwali(name):\n",
    "    s= f\"Hey {name}, Its time for!!!\"\n",
    "    i=5\n",
    "    print(s)\n",
    "\n",
    "    while(i>0):\n",
    "        print(d1)\n",
    "        i=i-1\n",
    "\n",
    "\n",
    "diwali('Randrita')"
   ]
  },
  {
   "cell_type": "code",
   "execution_count": 10,
   "metadata": {},
   "outputs": [
    {
     "name": "stdout",
     "output_type": "stream",
     "text": [
      "4\n",
      "8\n"
     ]
    }
   ],
   "source": [
    "#Define function which count the number of vowels and consonents from a string of \"Happy Diwali\"\n",
    "\n",
    "def diwali1(s):\n",
    "    cov=0\n",
    "    cons=0\n",
    "    for i in range(len(s)):\n",
    "        if s[i] in ['a','e','i','o','u']:\n",
    "            cov+=1\n",
    "        else:\n",
    "            cons=cons+1\n",
    "    \n",
    "    print(cov)\n",
    "    print(cons)\n",
    "\n",
    "diwali1(\"Happy Diwali\")"
   ]
  },
  {
   "cell_type": "code",
   "execution_count": 11,
   "metadata": {},
   "outputs": [],
   "source": [
    "#Take two numbers as parameter in the function named as check. return the number\n",
    "#is odd or even\n",
    "\n",
    "def check(a,b):\n",
    "    if(a%2==0):\n",
    "        print(\"a is Even\")\n",
    "    if(a%2 != 0):\n",
    "        print(\"a is Odd\")\n",
    "    if(b%2 ==0):\n",
    "        print(\"b is even\")\n",
    "    else:\n",
    "        print(\"b is odd\")"
   ]
  },
  {
   "cell_type": "code",
   "execution_count": 12,
   "metadata": {},
   "outputs": [
    {
     "name": "stdout",
     "output_type": "stream",
     "text": [
      "a is Odd\n",
      "b is even\n"
     ]
    }
   ],
   "source": [
    "check(5,10)"
   ]
  },
  {
   "cell_type": "code",
   "execution_count": 13,
   "metadata": {},
   "outputs": [],
   "source": [
    "def check(a,b):\n",
    "    for i in [a,b]:\n",
    "        if i%2==0:\n",
    "            print(\"even\")\n",
    "        else:\n",
    "            print(\"odd\")"
   ]
  },
  {
   "cell_type": "code",
   "execution_count": 15,
   "metadata": {},
   "outputs": [
    {
     "name": "stdout",
     "output_type": "stream",
     "text": [
      "odd\n",
      "even\n"
     ]
    }
   ],
   "source": [
    "check(5,10)"
   ]
  },
  {
   "cell_type": "code",
   "execution_count": null,
   "metadata": {},
   "outputs": [],
   "source": [
    "'''\n",
    "l = [1,8,9,11,35,74,12,4,6,8,0,2,10]\n",
    "print the number from the list when the count of odd number reaches 4\n",
    "\n",
    "'''"
   ]
  },
  {
   "cell_type": "code",
   "execution_count": 16,
   "metadata": {},
   "outputs": [
    {
     "name": "stdout",
     "output_type": "stream",
     "text": [
      "35\n",
      "74\n",
      "12\n",
      "4\n",
      "6\n",
      "8\n",
      "0\n",
      "2\n",
      "10\n"
     ]
    }
   ],
   "source": [
    "count=0\n",
    "l = [1,8,9,11,35,74,12,4,6,8,0,2,10]\n",
    "for i in l:\n",
    "    if i%2 !=0:\n",
    "        count+=1\n",
    "    if(count>=4):\n",
    "        print(i)"
   ]
  },
  {
   "cell_type": "code",
   "execution_count": null,
   "metadata": {},
   "outputs": [],
   "source": [
    "'''\n",
    "Take 10 integers from keyboard using loop and print their avg value on the screen\n",
    "\n",
    "'''"
   ]
  },
  {
   "cell_type": "code",
   "execution_count": 19,
   "metadata": {},
   "outputs": [
    {
     "name": "stdout",
     "output_type": "stream",
     "text": [
      "5\n"
     ]
    }
   ],
   "source": [
    "i=10\n",
    "sum=0\n",
    "while(i>0):\n",
    "    n=int(input())\n",
    "    sum+=n\n",
    "    i=i-1\n",
    "\n",
    "avg = sum//10\n",
    "\n",
    "print(avg)"
   ]
  },
  {
   "cell_type": "code",
   "execution_count": null,
   "metadata": {},
   "outputs": [],
   "source": []
  }
 ],
 "metadata": {
  "kernelspec": {
   "display_name": "base",
   "language": "python",
   "name": "python3"
  },
  "language_info": {
   "codemirror_mode": {
    "name": "ipython",
    "version": 3
   },
   "file_extension": ".py",
   "mimetype": "text/x-python",
   "name": "python",
   "nbconvert_exporter": "python",
   "pygments_lexer": "ipython3",
   "version": "3.8.8"
  }
 },
 "nbformat": 4,
 "nbformat_minor": 2
}

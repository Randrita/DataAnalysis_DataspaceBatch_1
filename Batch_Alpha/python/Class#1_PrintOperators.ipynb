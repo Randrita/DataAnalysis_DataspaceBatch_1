{
 "cells": [
  {
   "cell_type": "code",
   "execution_count": 1,
   "id": "eb9a476c",
   "metadata": {},
   "outputs": [
    {
     "name": "stdout",
     "output_type": "stream",
     "text": [
      "Hello Dataspace Academy\n"
     ]
    }
   ],
   "source": [
    "print(\"Hello Dataspace Academy\")"
   ]
  },
  {
   "cell_type": "code",
   "execution_count": 5,
   "id": "7823ad7e",
   "metadata": {},
   "outputs": [],
   "source": [
    "#this is a code of addition of 2 numbers\n",
    "\n",
    "var1 = 2\n",
    "var2 = 2\n",
    "\n",
    "result = (var1+var2)"
   ]
  },
  {
   "cell_type": "code",
   "execution_count": 8,
   "id": "9f7b6f41",
   "metadata": {},
   "outputs": [
    {
     "name": "stdout",
     "output_type": "stream",
     "text": [
      "The addition is :  4\n"
     ]
    }
   ],
   "source": [
    "print(\"The addition is : \", result)"
   ]
  },
  {
   "cell_type": "code",
   "execution_count": null,
   "id": "8f4e96c5",
   "metadata": {},
   "outputs": [],
   "source": []
  }
 ],
 "metadata": {
  "kernelspec": {
   "display_name": "Python 3",
   "language": "python",
   "name": "python3"
  },
  "language_info": {
   "codemirror_mode": {
    "name": "ipython",
    "version": 3
   },
   "file_extension": ".py",
   "mimetype": "text/x-python",
   "name": "python",
   "nbconvert_exporter": "python",
   "pygments_lexer": "ipython3",
   "version": "3.8.8"
  }
 },
 "nbformat": 4,
 "nbformat_minor": 5
}

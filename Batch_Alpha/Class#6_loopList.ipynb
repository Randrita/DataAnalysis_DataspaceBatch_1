{
 "cells": [
  {
   "cell_type": "code",
   "execution_count": 5,
   "metadata": {},
   "outputs": [
    {
     "name": "stdout",
     "output_type": "stream",
     "text": [
      "[-7, -6]\n"
     ]
    }
   ],
   "source": [
    "print(list(range(-7,-5,1)))"
   ]
  },
  {
   "cell_type": "code",
   "execution_count": 7,
   "metadata": {},
   "outputs": [
    {
     "name": "stdout",
     "output_type": "stream",
     "text": [
      "11\n",
      "22\n",
      "33\n",
      "44\n",
      "55\n",
      "66\n",
      "77\n",
      "88\n",
      "99\n",
      "100\n",
      "11\n",
      "22\n",
      "33\n",
      "44\n",
      "55\n",
      "66\n",
      "77\n",
      "88\n",
      "99\n",
      "100\n"
     ]
    }
   ],
   "source": [
    "#for loop\n",
    "L=[11,22,33,44,55,66,77,88,99,100]\n",
    "\n",
    "#Goal is to print every value from the list\n",
    "#    print(i)\n",
    "\n",
    "#Using range\n",
    "for i in range(len(L)):\n",
    "    print(L[i])\n"
   ]
  },
  {
   "cell_type": "code",
   "execution_count": 9,
   "metadata": {},
   "outputs": [],
   "source": [
    "#create a new list which consist of only even numbers\n",
    "L=[12,13,54,21,24,30]\n",
    "l_even=[]\n",
    "\n",
    "for i in range(len(L)):\n",
    "    if(L[i]%2==0):\n",
    "        l_even.append(L[i])"
   ]
  },
  {
   "cell_type": "code",
   "execution_count": 10,
   "metadata": {},
   "outputs": [
    {
     "name": "stdout",
     "output_type": "stream",
     "text": [
      "[12, 54, 24, 30]\n"
     ]
    }
   ],
   "source": [
    "print(l_even)"
   ]
  },
  {
   "cell_type": "code",
   "execution_count": 12,
   "metadata": {},
   "outputs": [
    {
     "name": "stdout",
     "output_type": "stream",
     "text": [
      "['one', 'two', 'three', 'four']\n"
     ]
    }
   ],
   "source": [
    "#We have an alphaneumeric list, u need to create a string list out of it\n",
    "alpha_list = [1,2,3,4,'one','two','three','four']\n",
    "string_list=[]\n",
    "\n",
    "for i in range(len(alpha_list)):\n",
    "    if type(alpha_list[i])==str:\n",
    "        string_list.append(alpha_list[i])\n",
    "print(string_list)"
   ]
  },
  {
   "cell_type": "code",
   "execution_count": 17,
   "metadata": {},
   "outputs": [
    {
     "name": "stdout",
     "output_type": "stream",
     "text": [
      "[17, 2, 19, 0, 21, 23, 25]\n"
     ]
    }
   ],
   "source": [
    "#while loop\n",
    "a=4\n",
    "b=15\n",
    "c=-2\n",
    "\"\"\"\n",
    "U need to create list named as num, which takes the value a+c,\n",
    "and b-c consecutively until the length of the list reached 7\n",
    "\"\"\"\n",
    "num=[]\n",
    "while(len(num)<7):\n",
    "    a=a+c\n",
    "    b=b-c\n",
    "    num.append(b)\n",
    "    if(a<0):\n",
    "        continue\n",
    "    else:\n",
    "        num.append(a)\n",
    "print(num)\n",
    "\n",
    "\n"
   ]
  },
  {
   "cell_type": "code",
   "execution_count": 2,
   "metadata": {},
   "outputs": [
    {
     "name": "stdout",
     "output_type": "stream",
     "text": [
      "Randrita\n",
      "Randrita\n",
      "Randrita\n"
     ]
    }
   ],
   "source": []
  },
  {
   "cell_type": "code",
   "execution_count": null,
   "metadata": {},
   "outputs": [],
   "source": []
  }
 ],
 "metadata": {
  "kernelspec": {
   "display_name": "base",
   "language": "python",
   "name": "python3"
  },
  "language_info": {
   "codemirror_mode": {
    "name": "ipython",
    "version": 3
   },
   "file_extension": ".py",
   "mimetype": "text/x-python",
   "name": "python",
   "nbconvert_exporter": "python",
   "pygments_lexer": "ipython3",
   "version": "3.8.8"
  }
 },
 "nbformat": 4,
 "nbformat_minor": 2
}

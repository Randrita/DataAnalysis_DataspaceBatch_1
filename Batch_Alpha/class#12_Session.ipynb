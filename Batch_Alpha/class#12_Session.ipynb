{
 "cells": [
  {
   "cell_type": "code",
   "execution_count": null,
   "metadata": {},
   "outputs": [],
   "source": [
    "#Loop \n",
    "#Question 1\n",
    "'''\n",
    "check the addition of even number from 1-50 and \n",
    "check the sum of odd numbers from 51 -100 (inclusive) and find the the\n",
    "ultimate sum of two outputs\n",
    "\n",
    "'''"
   ]
  }
 ],
 "metadata": {
  "language_info": {
   "name": "python"
  }
 },
 "nbformat": 4,
 "nbformat_minor": 2
}

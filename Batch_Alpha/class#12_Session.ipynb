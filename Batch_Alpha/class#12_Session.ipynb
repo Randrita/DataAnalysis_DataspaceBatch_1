{
 "cells": [
  {
   "cell_type": "code",
   "execution_count": null,
   "metadata": {},
   "outputs": [],
   "source": [
    "#Loop \n",
    "#Question 1\n",
    "'''\n",
    "check the addition of even number from 1-50 and \n",
    "check the sum of odd numbers from 51 -100 (inclusive) and find the the\n",
    "ultimate sum of two outputs\n",
    "\n",
    "'''"
   ]
  },
  {
   "cell_type": "code",
   "execution_count": 1,
   "metadata": {},
   "outputs": [
    {
     "name": "stdout",
     "output_type": "stream",
     "text": [
      "2525\n"
     ]
    }
   ],
   "source": [
    "#event\n",
    "count =0\n",
    "for i in range (2,51):\n",
    "    if i%2==0:\n",
    "        count+=i\n",
    "\n",
    "for i in range(51,101):\n",
    "    if i%2 !=0:\n",
    "        count +=i\n",
    "\n",
    "print(count)"
   ]
  },
  {
   "cell_type": "code",
   "execution_count": null,
   "metadata": {},
   "outputs": [],
   "source": [
    "'''\n",
    "Question 2\n",
    "list = [5,8,7,1,2,1,4,'dataspace','academy']\n",
    "Display the numbers of variables in a list using loop\n",
    "in a single line\n",
    "'''"
   ]
  },
  {
   "cell_type": "code",
   "execution_count": 3,
   "metadata": {},
   "outputs": [
    {
     "name": "stdout",
     "output_type": "stream",
     "text": [
      "5 8 7 1 2 1 4 "
     ]
    }
   ],
   "source": [
    "l = [5,8,7,1,2,1,4,'dataspace','academy']\n",
    "for i in l:\n",
    "    if(type(i))==str:\n",
    "        break\n",
    "    else:\n",
    "        print(i,end=\" \")"
   ]
  },
  {
   "cell_type": "code",
   "execution_count": null,
   "metadata": {},
   "outputs": [],
   "source": [
    "'''\n",
    "Question 3\n",
    "find the sum of the digits in a number\n",
    "\n",
    "'''"
   ]
  },
  {
   "cell_type": "code",
   "execution_count": 6,
   "metadata": {},
   "outputs": [
    {
     "name": "stdout",
     "output_type": "stream",
     "text": [
      "11\n"
     ]
    }
   ],
   "source": [
    "n = 1235\n",
    "sum=0\n",
    "\n",
    "while(n>0):\n",
    "    t = n%10\n",
    "    sum += t\n",
    "    n = n//10\n",
    "\n",
    "print(sum)\n"
   ]
  },
  {
   "cell_type": "code",
   "execution_count": null,
   "metadata": {},
   "outputs": [],
   "source": [
    "#print the multiplication of a table of 2\n",
    "\n"
   ]
  }
 ],
 "metadata": {
  "kernelspec": {
   "display_name": "base",
   "language": "python",
   "name": "python3"
  },
  "language_info": {
   "codemirror_mode": {
    "name": "ipython",
    "version": 3
   },
   "file_extension": ".py",
   "mimetype": "text/x-python",
   "name": "python",
   "nbconvert_exporter": "python",
   "pygments_lexer": "ipython3",
   "version": "3.8.8"
  }
 },
 "nbformat": 4,
 "nbformat_minor": 2
}

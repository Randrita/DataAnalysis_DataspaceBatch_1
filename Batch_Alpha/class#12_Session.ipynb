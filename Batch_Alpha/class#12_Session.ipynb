{
 "cells": [
  {
   "cell_type": "code",
   "execution_count": null,
   "metadata": {},
   "outputs": [],
   "source": [
    "#Loop \n",
    "#Question 1\n",
    "'''\n",
    "check the addition of even number from 1-50 and \n",
    "check the sum of odd numbers from 51 -100 (inclusive) and find the the\n",
    "ultimate sum of two outputs\n",
    "\n",
    "'''"
   ]
  },
  {
   "cell_type": "code",
   "execution_count": 1,
   "metadata": {},
   "outputs": [
    {
     "name": "stdout",
     "output_type": "stream",
     "text": [
      "2525\n"
     ]
    }
   ],
   "source": [
    "#event\n",
    "count =0\n",
    "for i in range (2,51):\n",
    "    if i%2==0:\n",
    "        count+=i\n",
    "\n",
    "for i in range(51,101):\n",
    "    if i%2 !=0:\n",
    "        count +=i\n",
    "\n",
    "print(count)"
   ]
  },
  {
   "cell_type": "code",
   "execution_count": null,
   "metadata": {},
   "outputs": [],
   "source": [
    "'''\n",
    "Question 2\n",
    "list = [5,8,7,1,2,1,4,'dataspace','academy']\n",
    "Display the numbers of variables in a list using loop\n",
    "in a single line\n",
    "'''"
   ]
  },
  {
   "cell_type": "code",
   "execution_count": 3,
   "metadata": {},
   "outputs": [
    {
     "name": "stdout",
     "output_type": "stream",
     "text": [
      "5 8 7 1 2 1 4 "
     ]
    }
   ],
   "source": [
    "l = [5,8,7,1,2,1,4,'dataspace','academy']\n",
    "for i in l:\n",
    "    if(type(i))==str:\n",
    "        break\n",
    "    else:\n",
    "        print(i,end=\" \")"
   ]
  },
  {
   "cell_type": "code",
   "execution_count": null,
   "metadata": {},
   "outputs": [],
   "source": [
    "'''\n",
    "Question 3\n",
    "find the sum of the digits in a number\n",
    "\n",
    "'''"
   ]
  },
  {
   "cell_type": "code",
   "execution_count": 6,
   "metadata": {},
   "outputs": [
    {
     "name": "stdout",
     "output_type": "stream",
     "text": [
      "11\n"
     ]
    }
   ],
   "source": [
    "n = 1235\n",
    "sum=0\n",
    "\n",
    "while(n>0):\n",
    "    t = n%10\n",
    "    sum += t\n",
    "    n = n//10\n",
    "\n",
    "print(sum)\n"
   ]
  },
  {
   "cell_type": "code",
   "execution_count": 7,
   "metadata": {},
   "outputs": [
    {
     "name": "stdout",
     "output_type": "stream",
     "text": [
      "2 4 6 8 10 12 14 16 18 20 "
     ]
    }
   ],
   "source": [
    "#print the multiplication of a table of 2\n",
    "n=2\n",
    "for i in range(1,11):\n",
    "    print(n*i, end=\" \")\n"
   ]
  },
  {
   "cell_type": "code",
   "execution_count": null,
   "metadata": {},
   "outputs": [],
   "source": [
    "#Find out the string is a palindrome or not by not using\n",
    "#reverse method"
   ]
  },
  {
   "cell_type": "code",
   "execution_count": 8,
   "metadata": {},
   "outputs": [
    {
     "name": "stdout",
     "output_type": "stream",
     "text": [
      "ecapsatad\n"
     ]
    }
   ],
   "source": [
    "s= \"dataspace\"\n",
    "\n",
    "#output - ecapsatad\n",
    "reverse = \"\"\n",
    "\n",
    "for i in s:\n",
    "    reverse = i+reverse\n",
    "\n",
    "print(reverse)"
   ]
  },
  {
   "cell_type": "code",
   "execution_count": null,
   "metadata": {},
   "outputs": [],
   "source": [
    "#Find out the count of letter and count number\n",
    "#in an alphaneumeric string\n",
    "\n",
    "#s=dataspace2023"
   ]
  },
  {
   "cell_type": "code",
   "execution_count": 10,
   "metadata": {},
   "outputs": [
    {
     "name": "stdout",
     "output_type": "stream",
     "text": [
      "The string contains 9 characters and 4 numbers\n"
     ]
    }
   ],
   "source": [
    "s='dataspace2023'\n",
    "count_char=0\n",
    "count_num=0\n",
    "\n",
    "for i in s:\n",
    "    if(i.isalpha()):\n",
    "        count_char+=1\n",
    "    \n",
    "    if(i.isdigit()):\n",
    "        count_num+=1\n",
    "\n",
    "print(\"The string contains\",count_char,\"characters and\", count_num,\"numbers\")"
   ]
  },
  {
   "cell_type": "code",
   "execution_count": null,
   "metadata": {},
   "outputs": [],
   "source": [
    "'''\n",
    "#check the validity of a password\n",
    "\n",
    "string length has to be in between 8-16\n",
    "it should contain special characters\n",
    "it should contain digit\n",
    "it should contain lowercase character\n",
    "and uppercase character\n",
    "\n",
    "'''"
   ]
  },
  {
   "cell_type": "code",
   "execution_count": 13,
   "metadata": {},
   "outputs": [],
   "source": [
    "n=input()"
   ]
  },
  {
   "cell_type": "code",
   "execution_count": 14,
   "metadata": {},
   "outputs": [
    {
     "name": "stdout",
     "output_type": "stream",
     "text": [
      "password is not valid\n"
     ]
    }
   ],
   "source": [
    "is_lower= False\n",
    "is_upper = False\n",
    "is_digit = False\n",
    "is_special= False\n",
    "if(len(n)>=8 and len(n)<16):\n",
    "    for i in n:\n",
    "        if(i.isdigit()):\n",
    "            is_digit=True\n",
    "        \n",
    "        if(i.islower()):\n",
    "            is_lower=True\n",
    "\n",
    "        if(i.isupper()):\n",
    "            is_upper=True\n",
    "        \n",
    "        if(i=='@' or i=='%' or i=='#' or i=='*' or i=='$' or i=='&'):\n",
    "            is_special=True\n",
    "\n",
    "if(is_upper and is_special and is_lower and is_digit):\n",
    "    print(\"password is valid\")\n",
    "else:\n",
    "    print(\"password is not valid\")"
   ]
  },
  {
   "cell_type": "code",
   "execution_count": 17,
   "metadata": {},
   "outputs": [
    {
     "name": "stdout",
     "output_type": "stream",
     "text": [
      "The student is present today\n"
     ]
    }
   ],
   "source": [
    "#create a list with numbers 101, 102, 103 and check anyone of the was present\n",
    "#in today's class or not using a function named as present\n",
    "\n",
    "#User Input\n",
    "n=int(input(\"Enter the attendance status of the student: \"))\n",
    "\n",
    "def present(n):\n",
    "    l=[101,102,105]\n",
    "\n",
    "    if n in l:\n",
    "        return True\n",
    "    else:\n",
    "        return False\n",
    "    \n",
    "if(present(n)):\n",
    "    print(\"The student is present today\")\n",
    "else:\n",
    "    print(\"The student is absent\")\n",
    "\n",
    "\n"
   ]
  },
  {
   "cell_type": "code",
   "execution_count": null,
   "metadata": {},
   "outputs": [],
   "source": []
  }
 ],
 "metadata": {
  "kernelspec": {
   "display_name": "base",
   "language": "python",
   "name": "python3"
  },
  "language_info": {
   "codemirror_mode": {
    "name": "ipython",
    "version": 3
   },
   "file_extension": ".py",
   "mimetype": "text/x-python",
   "name": "python",
   "nbconvert_exporter": "python",
   "pygments_lexer": "ipython3",
   "version": "3.8.8"
  }
 },
 "nbformat": 4,
 "nbformat_minor": 2
}

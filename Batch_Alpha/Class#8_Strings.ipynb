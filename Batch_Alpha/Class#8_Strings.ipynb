{
 "cells": [
  {
   "cell_type": "code",
   "execution_count": 1,
   "id": "ef41fd61",
   "metadata": {},
   "outputs": [],
   "source": [
    "#Mention a string\n",
    "a=\" Randrita\"\n",
    "var_single_quote = 'Randrita'\n"
   ]
  },
  {
   "cell_type": "code",
   "execution_count": 2,
   "id": "fc844491",
   "metadata": {},
   "outputs": [
    {
     "name": "stdout",
     "output_type": "stream",
     "text": [
      "\n",
      "  Twinkle Twinkle Little Star\n",
      " \n"
     ]
    }
   ],
   "source": [
    "b= \"\"\"\n",
    "  Twinkle Twinkle Little Star\n",
    " \"\"\"\n",
    "print(b)"
   ]
  },
  {
   "cell_type": "code",
   "execution_count": 3,
   "id": "60e53338",
   "metadata": {},
   "outputs": [
    {
     "ename": "TypeError",
     "evalue": "can only concatenate str (not \"int\") to str",
     "output_type": "error",
     "traceback": [
      "\u001b[1;31m---------------------------------------------------------------------------\u001b[0m",
      "\u001b[1;31mTypeError\u001b[0m                                 Traceback (most recent call last)",
      "\u001b[1;32m<ipython-input-3-158146535e14>\u001b[0m in \u001b[0;36m<module>\u001b[1;34m\u001b[0m\n\u001b[0;32m      1\u001b[0m \u001b[1;31m#String Concatenation\u001b[0m\u001b[1;33m\u001b[0m\u001b[1;33m\u001b[0m\u001b[1;33m\u001b[0m\u001b[0m\n\u001b[0;32m      2\u001b[0m \u001b[1;33m\u001b[0m\u001b[0m\n\u001b[1;32m----> 3\u001b[1;33m \u001b[0mprint\u001b[0m\u001b[1;33m(\u001b[0m\u001b[0ma\u001b[0m\u001b[1;33m+\u001b[0m\u001b[1;36m1\u001b[0m\u001b[1;33m)\u001b[0m\u001b[1;33m\u001b[0m\u001b[1;33m\u001b[0m\u001b[0m\n\u001b[0m",
      "\u001b[1;31mTypeError\u001b[0m: can only concatenate str (not \"int\") to str"
     ]
    }
   ],
   "source": [
    "#String Concatenation\n",
    "\n",
    "print(a+1)"
   ]
  },
  {
   "cell_type": "code",
   "execution_count": 4,
   "id": "4eaded24",
   "metadata": {},
   "outputs": [
    {
     "name": "stdout",
     "output_type": "stream",
     "text": [
      " Randrita1\n"
     ]
    }
   ],
   "source": [
    "print(a+'1')"
   ]
  },
  {
   "cell_type": "code",
   "execution_count": 5,
   "id": "c850de17",
   "metadata": {},
   "outputs": [
    {
     "data": {
      "text/plain": [
       "'randrita'"
      ]
     },
     "execution_count": 5,
     "metadata": {},
     "output_type": "execute_result"
    }
   ],
   "source": [
    "#lower\n",
    "\n",
    "a=\"RANDRITA\"\n",
    "a.lower()"
   ]
  },
  {
   "cell_type": "code",
   "execution_count": 6,
   "id": "304351cc",
   "metadata": {},
   "outputs": [
    {
     "name": "stdout",
     "output_type": "stream",
     "text": [
      "RANDRITA\n"
     ]
    }
   ],
   "source": [
    "print(a)"
   ]
  },
  {
   "cell_type": "code",
   "execution_count": 9,
   "id": "2b7fee62",
   "metadata": {},
   "outputs": [
    {
     "data": {
      "text/plain": [
       "['Hello', 'World', 'Randrita!']"
      ]
     },
     "execution_count": 9,
     "metadata": {},
     "output_type": "execute_result"
    }
   ],
   "source": [
    "#SPLIT\n",
    "var=\"Hello@World@Randrita!\"\n",
    "\n",
    "var.split('@')"
   ]
  },
  {
   "cell_type": "code",
   "execution_count": 12,
   "id": "416bc8b7",
   "metadata": {},
   "outputs": [
    {
     "data": {
      "text/plain": [
       "('Happy ', 'A', 'WorldAAAAA')"
      ]
     },
     "execution_count": 12,
     "metadata": {},
     "output_type": "execute_result"
    }
   ],
   "source": [
    "#PARTITION\n",
    "a=\"Happy AWorldAAAAA\"\n",
    "a.partition('A')"
   ]
  },
  {
   "cell_type": "code",
   "execution_count": 13,
   "id": "1404b1c8",
   "metadata": {},
   "outputs": [
    {
     "data": {
      "text/plain": [
       "('Happy World', '', '')"
      ]
     },
     "execution_count": 13,
     "metadata": {},
     "output_type": "execute_result"
    }
   ],
   "source": [
    "a=\"Happy World\"\n",
    "a.partition('A')\n"
   ]
  },
  {
   "cell_type": "code",
   "execution_count": 26,
   "id": "c0e6566b",
   "metadata": {},
   "outputs": [
    {
     "name": "stdout",
     "output_type": "stream",
     "text": [
      "Enter the name of the client: Randrita \n",
      "Enter the age of the client: 23\n",
      "The name of the client is Randrita  and he/she is 23 year old\n"
     ]
    }
   ],
   "source": [
    "#STRING FORMATING\n",
    "#The name of the client is [name] and he/she is [age] year old\n",
    "\n",
    "n=input(\"Enter the name of the client: \")\n",
    "age=input(\"Enter the age of the client: \")\n",
    "\n",
    "#print(\"My {name}\".format(\"Randrita\"))\n",
    "\n",
    "print(\"The name of the client is {} and he/she is {} year old\".format(n,age,3))"
   ]
  },
  {
   "cell_type": "code",
   "execution_count": 27,
   "id": "aec201fb",
   "metadata": {},
   "outputs": [
    {
     "name": "stdout",
     "output_type": "stream",
     "text": [
      "Randrita is my name\n"
     ]
    }
   ],
   "source": [
    "#f string\n",
    "name=\"Randrita\"\n",
    "\n",
    "print(f\"{name} is my name\")"
   ]
  },
  {
   "cell_type": "code",
   "execution_count": 30,
   "id": "56b32c42",
   "metadata": {},
   "outputs": [
    {
     "data": {
      "text/plain": [
       "5"
      ]
     },
     "execution_count": 30,
     "metadata": {},
     "output_type": "execute_result"
    }
   ],
   "source": [
    "#Find\n",
    "\n",
    "name=\"Randrita\"\n",
    "name.find('ita')"
   ]
  },
  {
   "cell_type": "code",
   "execution_count": 46,
   "id": "0a0a850f",
   "metadata": {},
   "outputs": [],
   "source": [
    "#Slicing\n",
    "\n",
    "a=\"Sourab 123\"\n"
   ]
  },
  {
   "cell_type": "code",
   "execution_count": 49,
   "id": "766fc2cb",
   "metadata": {},
   "outputs": [
    {
     "data": {
      "text/plain": [
       "True"
      ]
     },
     "execution_count": 49,
     "metadata": {},
     "output_type": "execute_result"
    }
   ],
   "source": [
    "a='Randrita'\n",
    "a.istitle()"
   ]
  },
  {
   "cell_type": "code",
   "execution_count": 50,
   "id": "84118057",
   "metadata": {},
   "outputs": [
    {
     "data": {
      "text/plain": [
       "True"
      ]
     },
     "execution_count": 50,
     "metadata": {},
     "output_type": "execute_result"
    }
   ],
   "source": [
    "a.endswith('a')"
   ]
  },
  {
   "cell_type": "code",
   "execution_count": 52,
   "id": "de348b78",
   "metadata": {},
   "outputs": [
    {
     "data": {
      "text/plain": [
       "'Hello World!'"
      ]
     },
     "execution_count": 52,
     "metadata": {},
     "output_type": "execute_result"
    }
   ],
   "source": [
    "a=\"Hello World!    \"\n",
    "a.strip()"
   ]
  },
  {
   "cell_type": "code",
   "execution_count": 58,
   "id": "bb78c39a",
   "metadata": {},
   "outputs": [],
   "source": [
    "a=\"Hello   World!  hhh tttt bbbb\"\n",
    "b= \"\".join(a.split())"
   ]
  },
  {
   "cell_type": "code",
   "execution_count": 59,
   "id": "586ff4b6",
   "metadata": {},
   "outputs": [
    {
     "name": "stdout",
     "output_type": "stream",
     "text": [
      "HelloWorld!hhhttttbbbb\n"
     ]
    }
   ],
   "source": [
    "print(b)"
   ]
  },
  {
   "cell_type": "code",
   "execution_count": 60,
   "id": "9fc57b32",
   "metadata": {},
   "outputs": [
    {
     "data": {
      "text/plain": [
       "'HelloSaurabh!hhhttttbbbb'"
      ]
     },
     "execution_count": 60,
     "metadata": {},
     "output_type": "execute_result"
    }
   ],
   "source": [
    "b.replace('World','Saurabh')"
   ]
  },
  {
   "cell_type": "code",
   "execution_count": null,
   "id": "8b39d364",
   "metadata": {},
   "outputs": [],
   "source": []
  }
 ],
 "metadata": {
  "kernelspec": {
   "display_name": "Python 3",
   "language": "python",
   "name": "python3"
  },
  "language_info": {
   "codemirror_mode": {
    "name": "ipython",
    "version": 3
   },
   "file_extension": ".py",
   "mimetype": "text/x-python",
   "name": "python",
   "nbconvert_exporter": "python",
   "pygments_lexer": "ipython3",
   "version": "3.8.8"
  }
 },
 "nbformat": 4,
 "nbformat_minor": 5
}

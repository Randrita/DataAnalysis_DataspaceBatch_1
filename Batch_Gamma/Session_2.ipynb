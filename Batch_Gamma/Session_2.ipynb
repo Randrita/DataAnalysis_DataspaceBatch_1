{
 "cells": [
  {
   "cell_type": "code",
   "execution_count": null,
   "metadata": {},
   "outputs": [],
   "source": [
    "'''\n",
    "Question:\n",
    "You are tasked with writing a Python program to calculate and print the total cost of a customer's order at a coffee shop. The shop offers three types of beverages: coffee, tea, and hot chocolate. The cost of each item is as follows:\n",
    "\n",
    "Coffee: $2.50 per cup\n",
    "Tea: $1.75 per cup\n",
    "Hot Chocolate: $3.00 per cup\n",
    "The customer can order any combination of these beverages, and you need to calculate the total cost for their order. Additionally, the customer might want to buy some pastries, which have their own prices:\n",
    "\n",
    "Croissant: $2.00 each\n",
    "Muffin: $1.50 each\n",
    "Danish: $2.50 each\n",
    "The program should ask the customer how many cups of each beverage they would like and how many pastries of each type they want. Then, it should calculate and print the total cost of the order.\n",
    "\n",
    "Your Python program should:\n",
    "\n",
    "Prompt the user to enter the number of cups of coffee, tea, and hot chocolate they want to order.\n",
    "Prompt the user to enter the number of croissants, muffins, and danishes they want to order.\n",
    "Calculate the total cost for beverages and pastries separately.\n",
    "Calculate the overall total cost by adding the beverage cost and pastry cost.\n",
    "Display the individual costs for beverages and pastries, as well as the total cost of the order.\n",
    "\n",
    "\n",
    "'''"
   ]
  }
 ],
 "metadata": {
  "language_info": {
   "name": "python"
  }
 },
 "nbformat": 4,
 "nbformat_minor": 2
}

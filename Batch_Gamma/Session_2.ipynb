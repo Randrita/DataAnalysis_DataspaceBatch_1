{
 "cells": [
  {
   "cell_type": "code",
   "execution_count": 1,
   "metadata": {},
   "outputs": [
    {
     "data": {
      "text/plain": [
       "\"\\nQuestion:\\nYou are tasked with writing a Python program to calculate and print the total cost of a customer's order at a coffee shop. The shop offers three types of beverages: coffee, tea, and hot chocolate. The cost of each item is as follows:\\n\\nCoffee: 2.50 per cup\\nTea: 1.75 per cup\\nHot Chocolate: 3.00 per cup\\nThe customer can order any combination of these beverages, and you need to calculate the total cost for their order. Additionally, the customer might want to buy some pastries, which have their own prices:\\n\\nCroissant: 2.00 each\\nMuffin: 1.50 each\\nDanish: 2.50 each\\nThe program should ask the customer how many cups of each beverage they would like and how many pastries of each type they want. Then, it should calculate and print the total cost of the order.\\n\\nYour Python program should:\\n\\nPrompt the user to enter the number of cups of coffee, tea, and hot chocolate they want to order.\\nPrompt the user to enter the number of croissants, muffins, and danishes they want to order.\\nCalculate the total cost for beverages and pastries separately.\\nCalculate the overall total cost by adding the beverage cost and pastry cost.\\nDisplay the individual costs for beverages and pastries, as well as the total cost of the order.\\n\\n\\n\""
      ]
     },
     "execution_count": 1,
     "metadata": {},
     "output_type": "execute_result"
    }
   ],
   "source": [
    "'''\n",
    "Question:\n",
    "You are tasked with writing a Python program to calculate and print the total cost of a customer's order\n",
    "at a coffee shop. \n",
    "\n",
    "The shop offers three types of beverages: coffee, tea, and hot chocolate.\n",
    "\n",
    "The cost of each item is as follows:\n",
    "\n",
    "Coffee: 2.50 per cup\n",
    "Tea: 1.75 per cup\n",
    "Hot Chocolate: 3.00 per cup\n",
    "\n",
    "The customer can order any combination of these beverages, and you need to calculate the total\n",
    "cost for their order.\n",
    "\n",
    "Additionally, the customer might want to buy some pastries, which have their own prices:\n",
    "\n",
    "Croissant: 2.00 each\n",
    "Muffin: 1.50 each\n",
    "Danish: 2.50 each\n",
    "The program should ask the customer how many cups of each beverage they would like and\n",
    "how many pastries of each type they want. Then, it should calculate and print the total cost of the order.\n",
    "\n",
    "Your Python program should:\n",
    "\n",
    "Prompt the user to enter the number of cups of coffee, tea, and hot chocolate they want to order.\n",
    "Prompt the user to enter the number of croissants, muffins, and danishes they want to order.\n",
    "Calculate the total cost for beverages and pastries separately.\n",
    "Calculate the overall total cost by adding the beverage cost and pastry cost.\n",
    "Display the individual costs for beverages and pastries, as well as the total cost of the order.\n",
    "\n",
    "\n",
    "'''"
   ]
  },
  {
   "cell_type": "code",
   "execution_count": 4,
   "metadata": {},
   "outputs": [
    {
     "name": "stdout",
     "output_type": "stream",
     "text": [
      "The total amount for beverages is:  17.25\n",
      "The total amount for pastries is:  14.5\n",
      "The total amount of the order is:  31.75\n"
     ]
    }
   ],
   "source": [
    "#User Input for beverages\n",
    "\n",
    "coffee = int(input(\"Enter the number of cup of coffee you want: \"))\n",
    "tea = int(input(\"Enter the number of cup of tea you want: \"))\n",
    "hot_chocolate = int(input(\"Enter the number of cup of hot_chocolate you want: \"))\n",
    "\n",
    "#User Input for pastries\n",
    "croissant = int(input(\"Enter the number of croissant you want: \"))\n",
    "muffin = int(input(\"Enter the number of muffin you want: \"))\n",
    "danish = int(input(\"Enter the number of danish you want: \"))\n",
    "\n",
    "\n",
    "#calculate the total amount of beverages\n",
    "beverages_amount = coffee*2.50 + tea*1.75 + hot_chocolate*3.00\n",
    "\n",
    "#calculate the total amount of pastries\n",
    "pastries_amount = croissant*2.00 + muffin*1.50 + danish*2.50\n",
    "\n",
    "#total_price\n",
    "total_price = beverages_amount + pastries_amount\n",
    "\n",
    "print(\"The total amount for beverages is: \", beverages_amount)\n",
    "print(\"The total amount for pastries is: \", pastries_amount)\n",
    "print(\"The total amount of the order is: \", total_price)\n"
   ]
  },
  {
   "cell_type": "code",
   "execution_count": null,
   "metadata": {},
   "outputs": [],
   "source": []
  }
 ],
 "metadata": {
  "kernelspec": {
   "display_name": "base",
   "language": "python",
   "name": "python3"
  },
  "language_info": {
   "codemirror_mode": {
    "name": "ipython",
    "version": 3
   },
   "file_extension": ".py",
   "mimetype": "text/x-python",
   "name": "python",
   "nbconvert_exporter": "python",
   "pygments_lexer": "ipython3",
   "version": "3.8.8"
  }
 },
 "nbformat": 4,
 "nbformat_minor": 2
}

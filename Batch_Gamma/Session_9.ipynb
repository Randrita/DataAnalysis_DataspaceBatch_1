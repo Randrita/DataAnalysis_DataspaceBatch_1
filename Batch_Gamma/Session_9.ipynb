{
 "cells": [
  {
   "cell_type": "code",
   "execution_count": 1,
   "metadata": {},
   "outputs": [
    {
     "name": "stdout",
     "output_type": "stream",
     "text": [
      "[1, 2, 3]\n"
     ]
    }
   ],
   "source": [
    "#list_Loop\n",
    "\n",
    "l = [1,2,3]\n",
    "print(l)"
   ]
  },
  {
   "cell_type": "code",
   "execution_count": 2,
   "metadata": {},
   "outputs": [
    {
     "data": {
      "text/plain": [
       "1"
      ]
     },
     "execution_count": 2,
     "metadata": {},
     "output_type": "execute_result"
    }
   ],
   "source": [
    "#index\n",
    "l[0]"
   ]
  },
  {
   "cell_type": "code",
   "execution_count": 3,
   "metadata": {},
   "outputs": [
    {
     "data": {
      "text/plain": [
       "3"
      ]
     },
     "execution_count": 3,
     "metadata": {},
     "output_type": "execute_result"
    }
   ],
   "source": [
    "l[-1]"
   ]
  },
  {
   "cell_type": "code",
   "execution_count": 5,
   "metadata": {},
   "outputs": [
    {
     "name": "stdout",
     "output_type": "stream",
     "text": [
      "[1, 2, 3, 4, 5, 6]\n"
     ]
    }
   ],
   "source": [
    "#you need to addup two list\n",
    "#list_concatenation\n",
    "\n",
    "l1 = [1,2,3]\n",
    "l2 = [4,5,6]\n",
    "\n",
    "print(l1+l2)"
   ]
  },
  {
   "cell_type": "code",
   "execution_count": 7,
   "metadata": {},
   "outputs": [
    {
     "name": "stdout",
     "output_type": "stream",
     "text": [
      "1\n",
      "2\n",
      "3\n",
      "4\n",
      "5\n"
     ]
    }
   ],
   "source": [
    "#read each element in a list\n",
    "l = [1,2,3,4,5]\n",
    "\n",
    "for i in l:\n",
    "    print(i)"
   ]
  },
  {
   "cell_type": "code",
   "execution_count": 8,
   "metadata": {},
   "outputs": [
    {
     "name": "stdout",
     "output_type": "stream",
     "text": [
      "1\n",
      "2\n",
      "3\n",
      "4\n",
      "5\n"
     ]
    }
   ],
   "source": [
    "#reach each element through index\n",
    "\n",
    "l=[1,2,3,4,5]\n",
    "for i in range(len(l)):\n",
    "    print(l[i])\n"
   ]
  },
  {
   "cell_type": "code",
   "execution_count": 9,
   "metadata": {},
   "outputs": [
    {
     "name": "stdout",
     "output_type": "stream",
     "text": [
      "[2, 4, 6, 8, 10, 12, 14, 16, 18, 20]\n"
     ]
    }
   ],
   "source": [
    "#blank list\n",
    "#multiplication table of 2\n",
    "\n",
    "l = []\n",
    "lRange = [1,2,3,4,5,6,7,8,9,10]\n",
    "\n",
    "for i in lRange:\n",
    "    l.append(i*2)\n",
    "\n",
    "print(l)\n"
   ]
  },
  {
   "cell_type": "code",
   "execution_count": 11,
   "metadata": {},
   "outputs": [
    {
     "name": "stdout",
     "output_type": "stream",
     "text": [
      "['data', 'space', 'analysis']\n"
     ]
    }
   ],
   "source": [
    "#We have an alphaneumeric list, u need to create a string list out of it\n",
    "l = [1,2,'data','space','analysis']\n",
    "lString=[]\n",
    "\n",
    "for i in l:\n",
    "    if(type(i)==str):\n",
    "        lString.append(i)\n",
    "print(lString)"
   ]
  },
  {
   "cell_type": "code",
   "execution_count": 14,
   "metadata": {},
   "outputs": [
    {
     "name": "stdout",
     "output_type": "stream",
     "text": [
      "[1, 2]\n"
     ]
    }
   ],
   "source": [
    "#int list\n",
    "l = [1,2,'data','space','analysis']\n",
    "lInt=[]\n",
    "for i in l:\n",
    "    if(type(i)==int):\n",
    "        lInt.append(i)\n",
    "print(lInt)"
   ]
  },
  {
   "cell_type": "code",
   "execution_count": 15,
   "metadata": {},
   "outputs": [
    {
     "name": "stdout",
     "output_type": "stream",
     "text": [
      "3\n"
     ]
    }
   ],
   "source": [
    "l=[10,10,15,20,15,15,5]\n",
    "#question is to find out the frequency of 15 in the given list\n",
    "#freq=3\n",
    "counter=0\n",
    "for i in l:\n",
    "    if(i==15):\n",
    "        counter+=1\n",
    "\n",
    "print(counter)"
   ]
  },
  {
   "cell_type": "code",
   "execution_count": 16,
   "metadata": {},
   "outputs": [
    {
     "name": "stdout",
     "output_type": "stream",
     "text": [
      "{10: 2, 15: 3, 20: 1, 5: 1}\n"
     ]
    }
   ],
   "source": [
    "import collections\n",
    "\n",
    "freq = collections.Counter(l)\n",
    "\n",
    "print(dict(freq))\n",
    "\n"
   ]
  },
  {
   "cell_type": "code",
   "execution_count": 24,
   "metadata": {},
   "outputs": [
    {
     "name": "stdout",
     "output_type": "stream",
     "text": [
      "[10, 20, 5, 15]\n"
     ]
    }
   ],
   "source": [
    "l=[10,10,15,20,15,15,5]\n",
    "lCheck=set(l)\n",
    "lCheck=list(lCheck)\n",
    "print(lCheck)"
   ]
  },
  {
   "cell_type": "code",
   "execution_count": 30,
   "metadata": {},
   "outputs": [
    {
     "name": "stdout",
     "output_type": "stream",
     "text": [
      "[2, 1, 1, 3]\n"
     ]
    }
   ],
   "source": [
    "lcount1=[]\n",
    "for i in lCheck:\n",
    "    j=i\n",
    "    counter=0\n",
    "    for k in l:\n",
    "        if (k==j):\n",
    "            counter+=1\n",
    "    lcount1.append(counter)\n",
    "\n",
    "print(lcount1)\n"
   ]
  },
  {
   "cell_type": "code",
   "execution_count": 32,
   "metadata": {},
   "outputs": [
    {
     "name": "stdout",
     "output_type": "stream",
     "text": [
      "[7, 8, 9, [2, 5, 9, 10, 20, 30]]\n",
      "[2, 5, 9, 10, 20, 30]\n"
     ]
    }
   ],
   "source": [
    "\n",
    "p=[2,5,9]\n",
    "q=[7,8,9]\n",
    "x=[10,20,30]\n",
    "\n",
    "q.append(p)\n",
    "p.extend(x)\n",
    "\n",
    "print(q)\n",
    "print(p)"
   ]
  },
  {
   "cell_type": "code",
   "execution_count": null,
   "metadata": {},
   "outputs": [],
   "source": []
  }
 ],
 "metadata": {
  "kernelspec": {
   "display_name": "base",
   "language": "python",
   "name": "python3"
  },
  "language_info": {
   "codemirror_mode": {
    "name": "ipython",
    "version": 3
   },
   "file_extension": ".py",
   "mimetype": "text/x-python",
   "name": "python",
   "nbconvert_exporter": "python",
   "pygments_lexer": "ipython3",
   "version": "3.8.8"
  }
 },
 "nbformat": 4,
 "nbformat_minor": 2
}

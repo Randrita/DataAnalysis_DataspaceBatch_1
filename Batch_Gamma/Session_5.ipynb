{
 "cells": [
  {
   "cell_type": "code",
   "execution_count": null,
   "metadata": {},
   "outputs": [],
   "source": [
    "'''\n",
    "\n",
    "Rimi has Y USD in her bank account. Rimi wants to withdraw some amount from ATM\n",
    "Rimi has to enter the amount that she needs to withdraw, let suppose the amount X USD\n",
    "For each transaction bank will cut 0.5 USD as a transaction fee.\n",
    "You need to calculate the total amount left after the transaction in her bank account.\n",
    "\n",
    "If Anyway Rimi enters more amount than the bank balance ; then u need to return the total amount \n",
    "and print insufficient balance. and also there's a catch Rimi can withdraw amount in\n",
    "the multiple of 5 only. if the value is not mutiple of 5 print a message to enter a value \n",
    "which is multiple 5\n",
    "\n",
    "Input X=500, Y = 800\n",
    "\n",
    "\n",
    "'''"
   ]
  },
  {
   "cell_type": "code",
   "execution_count": 2,
   "metadata": {},
   "outputs": [
    {
     "name": "stdout",
     "output_type": "stream",
     "text": [
      "799.5\n"
     ]
    }
   ],
   "source": [
    "y=int(input())\n",
    "x = int(input())\n",
    "\n",
    "if(y+0.5>=x and x%5==0):\n",
    "    result = y - (x+0.5)\n",
    "    print(result)\n",
    "else:\n",
    "    (\"Either insufficient balance or you have not entered the amount which is multiple of 5\")"
   ]
  },
  {
   "cell_type": "code",
   "execution_count": 3,
   "metadata": {},
   "outputs": [
    {
     "name": "stdout",
     "output_type": "stream",
     "text": [
      "Yes this is pythagorean triple\n"
     ]
    }
   ],
   "source": [
    "#Pythogorean Triple\n",
    "# (a,b,c) or (b,c,a) or (a,c,b)\n",
    "\n",
    "a= int(input())\n",
    "b= int(input())\n",
    "c= int(input())\n",
    "\n",
    "if((a*a==b*b + c*c) or (b*b==a*a+c*c) or (c*c==a*a+b*b) ):\n",
    "    print(\"Yes this is pythagorean triple\")\n",
    "else:\n",
    "    print(\"No\")"
   ]
  },
  {
   "cell_type": "code",
   "execution_count": 9,
   "metadata": {},
   "outputs": [
    {
     "name": "stdout",
     "output_type": "stream",
     "text": [
      "0\n"
     ]
    }
   ],
   "source": [
    "#Question 3\n",
    "#You have to take 3 inputs from user, anycase 3 input numbers are different to each other\n",
    "#then you have to print 1 , otherwise if more than one number matches each other then you have to\n",
    "#print 0.\n",
    "\n",
    "a= int(input())\n",
    "b= int(input())\n",
    "c= int(input())\n",
    "\n",
    "if(a !=b and b!=c and c!=a):\n",
    "    print(1)\n",
    "else:\n",
    "    print(0)"
   ]
  },
  {
   "cell_type": "code",
   "execution_count": 10,
   "metadata": {},
   "outputs": [
    {
     "name": "stdout",
     "output_type": "stream",
     "text": [
      "Its a square\n"
     ]
    }
   ],
   "source": [
    "'''\n",
    "Question 4\n",
    "take values of length and breadth of a rectangle from user nd check if its a square or not\n",
    " \n",
    "'''\n",
    "\n",
    "l = int(input())\n",
    "b = int(input())\n",
    "\n",
    "if(l==b):\n",
    "    print(\"Its a square\")\n",
    "else:\n",
    "    print(\"Its not a square\")\n",
    "\n",
    "    "
   ]
  },
  {
   "cell_type": "code",
   "execution_count": null,
   "metadata": {},
   "outputs": [],
   "source": [
    "'''\n",
    "\n",
    "Question 5\n",
    "\n",
    "A shop will give discount of 10% if the cost of purchased quantity is more than 1000.\n",
    "Ask user for quantity\n",
    "suppose, one unit will cost 100.\n",
    "print total cost for user\n",
    "\n",
    "\n",
    "'''"
   ]
  },
  {
   "cell_type": "code",
   "execution_count": 13,
   "metadata": {},
   "outputs": [
    {
     "name": "stdout",
     "output_type": "stream",
     "text": [
      "990.0\n"
     ]
    }
   ],
   "source": [
    "\n",
    "quantity = int(input())\n",
    "amount = quantity * 100\n",
    "\n",
    "if (amount > 1000):\n",
    "    cost = amount - (amount*0.10)\n",
    "    print(cost)\n",
    "\n",
    "else:\n",
    "    print(amount)"
   ]
  },
  {
   "cell_type": "code",
   "execution_count": 15,
   "metadata": {},
   "outputs": [
    {
     "name": "stdout",
     "output_type": "stream",
     "text": [
      "5.0\n"
     ]
    }
   ],
   "source": [
    "''' \n",
    "A company decided to give bouns of 5% to employee if his/her year of\n",
    "service is more than 5 years.\n",
    "Ask user for their salary and year of service and print the net bonus\n",
    "\n",
    "'''\n",
    "\n",
    "y = int(input())\n",
    "salary = int(input())\n",
    "\n",
    "if(y>5):\n",
    "    bonus = salary * 0.05\n",
    "    print(bonus)\n",
    "else:\n",
    "    print(\"year of exp is less than 5 years\")\n",
    "\n",
    "\n",
    "\n",
    "\n"
   ]
  },
  {
   "cell_type": "code",
   "execution_count": null,
   "metadata": {},
   "outputs": [],
   "source": []
  }
 ],
 "metadata": {
  "kernelspec": {
   "display_name": "base",
   "language": "python",
   "name": "python3"
  },
  "language_info": {
   "codemirror_mode": {
    "name": "ipython",
    "version": 3
   },
   "file_extension": ".py",
   "mimetype": "text/x-python",
   "name": "python",
   "nbconvert_exporter": "python",
   "pygments_lexer": "ipython3",
   "version": "3.8.8"
  }
 },
 "nbformat": 4,
 "nbformat_minor": 2
}

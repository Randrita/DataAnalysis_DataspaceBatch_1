{
 "cells": [
  {
   "cell_type": "code",
   "execution_count": null,
   "metadata": {},
   "outputs": [],
   "source": [
    "'''\n",
    "\n",
    "Rimi has Y USD in her bank account. Rimi wants to withdraw some amount from ATM\n",
    "Rimi has to enter the amount that she needs to withdraw, let suppose the amount X USD\n",
    "For each transaction bank will cut 0.5 USD as a transaction fee.\n",
    "You need to calculate the total amount left after the transaction in her bank account.\n",
    "\n",
    "If Anyway Rimi enters more amount than the bank balance ; then u need to return the total amount \n",
    "and print insufficient balance. and also there's a catch Rimi can withdraw amount in\n",
    "the multiple of 5 only. if the value is not mutiple of 5 print a message to enter a value \n",
    "which is multiple 5\n",
    "\n",
    "Input X=500, Y = 800\n",
    "\n",
    "\n",
    "'''"
   ]
  },
  {
   "cell_type": "code",
   "execution_count": 2,
   "metadata": {},
   "outputs": [
    {
     "name": "stdout",
     "output_type": "stream",
     "text": [
      "799.5\n"
     ]
    }
   ],
   "source": [
    "y=int(input())\n",
    "x = int(input())\n",
    "\n",
    "if(y+0.5>=x and x%5==0):\n",
    "    result = y - (x+0.5)\n",
    "    print(result)\n",
    "else:\n",
    "    (\"Either insufficient balance or you have not entered the amount which is multiple of 5\")"
   ]
  },
  {
   "cell_type": "code",
   "execution_count": 3,
   "metadata": {},
   "outputs": [
    {
     "name": "stdout",
     "output_type": "stream",
     "text": [
      "Yes this is pythagorean triple\n"
     ]
    }
   ],
   "source": [
    "#Pythogorean Triple\n",
    "# (a,b,c) or (b,c,a) or (a,c,b)\n",
    "\n",
    "a= int(input())\n",
    "b= int(input())\n",
    "c= int(input())\n",
    "\n",
    "if((a*a==b*b + c*c) or (b*b==a*a+c*c) or (c*c==a*a+b*b) ):\n",
    "    print(\"Yes this is pythagorean triple\")\n",
    "else:\n",
    "    print(\"No\")"
   ]
  },
  {
   "cell_type": "code",
   "execution_count": null,
   "metadata": {},
   "outputs": [],
   "source": [
    "#Question 3[]\n",
    "#You have to take 3 inputs from user, anycase 3 input numbers are different to each other\n",
    "#then you have to print 1 , otherwise if more than one number matches each other then you have to\n",
    "#print 0."
   ]
  }
 ],
 "metadata": {
  "kernelspec": {
   "display_name": "base",
   "language": "python",
   "name": "python3"
  },
  "language_info": {
   "codemirror_mode": {
    "name": "ipython",
    "version": 3
   },
   "file_extension": ".py",
   "mimetype": "text/x-python",
   "name": "python",
   "nbconvert_exporter": "python",
   "pygments_lexer": "ipython3",
   "version": "3.8.8"
  }
 },
 "nbformat": 4,
 "nbformat_minor": 2
}

{
 "cells": [
  {
   "cell_type": "markdown",
   "metadata": {},
   "source": [
    "IF-ELSE PRACTICE"
   ]
  },
  {
   "cell_type": "code",
   "execution_count": 6,
   "metadata": {},
   "outputs": [
    {
     "name": "stdout",
     "output_type": "stream",
     "text": [
      "Check the Number is ODD or EVEN Number \n",
      "======================================\n",
      " \n",
      "The number 12 is an EVEN number\n"
     ]
    }
   ],
   "source": [
    "#Question 1\n",
    "# You have to take one number as an input from user and you have to check the number\n",
    "# is even or odd\n",
    "\n",
    "print(\"Check the Number is ODD or EVEN Number \")\n",
    "print(\"======================================\")\n",
    "\n",
    "n = int(input(\"Enter the number that you want to check: \"))\n",
    "\n",
    "if(n%2==0):\n",
    "    print(\"The number\", n, \"is an EVEN number\")\n",
    "\n",
    "else:\n",
    "    print(\"The number\", n,\"is a ODD number\")\n",
    "\n"
   ]
  },
  {
   "cell_type": "code",
   "execution_count": null,
   "metadata": {},
   "outputs": [],
   "source": [
    "#Question 2\n",
    "#Radius of a circle"
   ]
  }
 ],
 "metadata": {
  "kernelspec": {
   "display_name": "base",
   "language": "python",
   "name": "python3"
  },
  "language_info": {
   "codemirror_mode": {
    "name": "ipython",
    "version": 3
   },
   "file_extension": ".py",
   "mimetype": "text/x-python",
   "name": "python",
   "nbconvert_exporter": "python",
   "pygments_lexer": "ipython3",
   "version": "3.8.8"
  }
 },
 "nbformat": 4,
 "nbformat_minor": 2
}

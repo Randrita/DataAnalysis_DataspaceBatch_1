{
 "cells": [
  {
   "cell_type": "markdown",
   "metadata": {},
   "source": [
    "IF-ELSE PRACTICE"
   ]
  },
  {
   "cell_type": "code",
   "execution_count": 7,
   "metadata": {},
   "outputs": [
    {
     "name": "stdout",
     "output_type": "stream",
     "text": [
      "Check the Number is ODD or EVEN Number \n",
      "======================================\n",
      "The number 12 is an EVEN number\n"
     ]
    }
   ],
   "source": [
    "#Question 1\n",
    "# You have to take one number as an input from user and you have to check the number\n",
    "# is even or odd\n",
    "\n",
    "print(\"Check the Number is ODD or EVEN Number \")\n",
    "print(\"======================================\")\n",
    "\n",
    "n = int(input(\"Enter the number that you want to check: \"))\n",
    "\n",
    "if(n%2==0):\n",
    "    print(\"The number\", n, \"is an EVEN number\")\n",
    "\n",
    "else:\n",
    "    print(\"The number\", n,\"is a ODD number\")\n",
    "\n"
   ]
  },
  {
   "cell_type": "code",
   "execution_count": 8,
   "metadata": {},
   "outputs": [
    {
     "name": "stdout",
     "output_type": "stream",
     "text": [
      "78.5\n"
     ]
    }
   ],
   "source": [
    "#Question 2\n",
    "#Area of a circle\n",
    "\n",
    "'''     \n",
    "area = pi * r * r\n",
    "'''\n",
    "\n",
    "r = int(input(\"Enter the radius of a circle: \"))\n",
    "\n",
    "pi=3.14\n",
    "area = pi * r * r\n",
    "print(area)"
   ]
  },
  {
   "cell_type": "code",
   "execution_count": 14,
   "metadata": {},
   "outputs": [
    {
     "name": "stdout",
     "output_type": "stream",
     "text": [
      "Area of a circle is 78.5398\n"
     ]
    }
   ],
   "source": [
    "import math\n",
    "r = int(input(\"Enter the radius of a circle: \"))\n",
    "\n",
    "area = math.pi * r *r\n",
    "print(f\"Area of a circle is %0.4f\"%area)"
   ]
  },
  {
   "cell_type": "code",
   "execution_count": 15,
   "metadata": {},
   "outputs": [
    {
     "name": "stdout",
     "output_type": "stream",
     "text": [
      "25\n"
     ]
    }
   ],
   "source": [
    "#Question 3\n",
    "#Find the area of a rectangle\n",
    "# rectangle | Square | Circle | Ellipse\n",
    "\n",
    "l = int(input())\n",
    "b = int(input())\n",
    "\n",
    "area_rect = l * b\n",
    "print(area_rect) "
   ]
  },
  {
   "cell_type": "code",
   "execution_count": 16,
   "metadata": {},
   "outputs": [
    {
     "name": "stdout",
     "output_type": "stream",
     "text": [
      "25\n"
     ]
    }
   ],
   "source": [
    "#Qustion 4 \n",
    "# Find out the area of the square\n",
    "\n",
    "s = int(input())\n",
    "\n",
    "area = s * s \n",
    "print(area)"
   ]
  },
  {
   "cell_type": "code",
   "execution_count": 17,
   "metadata": {},
   "outputs": [
    {
     "name": "stdout",
     "output_type": "stream",
     "text": [
      "20 is the maximum number\n"
     ]
    }
   ],
   "source": [
    "#Find out the maximum of two numbers\n",
    "#a,b \n",
    "# 20,10 : 20>10 , a > b, a is greater\n",
    "\n",
    "a = int(input())\n",
    "b = int(input())\n",
    "\n",
    "if (a>b):\n",
    "    print(a,\"is the maximum number\")\n",
    "else:\n",
    "    (b, \"is the maximum number\")"
   ]
  },
  {
   "cell_type": "code",
   "execution_count": 18,
   "metadata": {},
   "outputs": [
    {
     "name": "stdout",
     "output_type": "stream",
     "text": [
      "30 is the maximum number\n"
     ]
    }
   ],
   "source": [
    "#Find out the maximum of three numbers\n",
    "#a,b \n",
    "# 20,10 : 20>10 , a > b, a is greater\n",
    "\n",
    "a = int(input())\n",
    "b = int(input())\n",
    "c = int(input())\n",
    "\n",
    "if(a>b and a>c):\n",
    "    print(a, \"is the maximum number\")\n",
    "\n",
    "elif (b>a and b>c):\n",
    "    print(b, \"is the maximum number\")\n",
    "\n",
    "else:\n",
    "    print(c, \"is the maximum number\")"
   ]
  }
 ],
 "metadata": {
  "kernelspec": {
   "display_name": "base",
   "language": "python",
   "name": "python3"
  },
  "language_info": {
   "codemirror_mode": {
    "name": "ipython",
    "version": 3
   },
   "file_extension": ".py",
   "mimetype": "text/x-python",
   "name": "python",
   "nbconvert_exporter": "python",
   "pygments_lexer": "ipython3",
   "version": "3.8.8"
  }
 },
 "nbformat": 4,
 "nbformat_minor": 2
}
